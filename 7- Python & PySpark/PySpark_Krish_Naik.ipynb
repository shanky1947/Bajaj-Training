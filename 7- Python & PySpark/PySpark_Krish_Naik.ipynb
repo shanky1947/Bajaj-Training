{
  "cells": [
    {
      "cell_type": "code",
      "source": [
        "!pip install pyspark"
      ],
      "metadata": {
        "colab": {
          "base_uri": "https://localhost:8080/"
        },
        "id": "aInGJwiGW2rl",
        "outputId": "d67e24d9-0df6-4ddb-d9b4-d2cff75e759e"
      },
      "id": "aInGJwiGW2rl",
      "execution_count": 4,
      "outputs": [
        {
          "output_type": "stream",
          "name": "stdout",
          "text": [
            "Requirement already satisfied: pyspark in /usr/local/lib/python3.7/dist-packages (3.2.1)\n",
            "Requirement already satisfied: py4j==0.10.9.3 in /usr/local/lib/python3.7/dist-packages (from pyspark) (0.10.9.3)\n"
          ]
        }
      ]
    },
    {
      "cell_type": "code",
      "execution_count": 5,
      "id": "9c961e15",
      "metadata": {
        "id": "9c961e15"
      },
      "outputs": [],
      "source": [
        "import pyspark"
      ]
    },
    {
      "cell_type": "code",
      "execution_count": 6,
      "id": "047f7e04",
      "metadata": {
        "colab": {
          "base_uri": "https://localhost:8080/",
          "height": 143
        },
        "id": "047f7e04",
        "outputId": "806afa35-7ac6-49f9-d52a-b28a51b2a961"
      },
      "outputs": [
        {
          "output_type": "execute_result",
          "data": {
            "text/html": [
              "\n",
              "  <div id=\"df-ddfcd6a1-58df-47a9-b211-ad324bd2c9a8\">\n",
              "    <div class=\"colab-df-container\">\n",
              "      <div>\n",
              "<style scoped>\n",
              "    .dataframe tbody tr th:only-of-type {\n",
              "        vertical-align: middle;\n",
              "    }\n",
              "\n",
              "    .dataframe tbody tr th {\n",
              "        vertical-align: top;\n",
              "    }\n",
              "\n",
              "    .dataframe thead th {\n",
              "        text-align: right;\n",
              "    }\n",
              "</style>\n",
              "<table border=\"1\" class=\"dataframe\">\n",
              "  <thead>\n",
              "    <tr style=\"text-align: right;\">\n",
              "      <th></th>\n",
              "      <th>Name</th>\n",
              "      <th>Age</th>\n",
              "      <th>Experience</th>\n",
              "    </tr>\n",
              "  </thead>\n",
              "  <tbody>\n",
              "    <tr>\n",
              "      <th>0</th>\n",
              "      <td>Shashank</td>\n",
              "      <td>23</td>\n",
              "      <td>10</td>\n",
              "    </tr>\n",
              "    <tr>\n",
              "      <th>1</th>\n",
              "      <td>Mihir</td>\n",
              "      <td>22</td>\n",
              "      <td>8</td>\n",
              "    </tr>\n",
              "    <tr>\n",
              "      <th>2</th>\n",
              "      <td>Pranav</td>\n",
              "      <td>23</td>\n",
              "      <td>4</td>\n",
              "    </tr>\n",
              "  </tbody>\n",
              "</table>\n",
              "</div>\n",
              "      <button class=\"colab-df-convert\" onclick=\"convertToInteractive('df-ddfcd6a1-58df-47a9-b211-ad324bd2c9a8')\"\n",
              "              title=\"Convert this dataframe to an interactive table.\"\n",
              "              style=\"display:none;\">\n",
              "        \n",
              "  <svg xmlns=\"http://www.w3.org/2000/svg\" height=\"24px\"viewBox=\"0 0 24 24\"\n",
              "       width=\"24px\">\n",
              "    <path d=\"M0 0h24v24H0V0z\" fill=\"none\"/>\n",
              "    <path d=\"M18.56 5.44l.94 2.06.94-2.06 2.06-.94-2.06-.94-.94-2.06-.94 2.06-2.06.94zm-11 1L8.5 8.5l.94-2.06 2.06-.94-2.06-.94L8.5 2.5l-.94 2.06-2.06.94zm10 10l.94 2.06.94-2.06 2.06-.94-2.06-.94-.94-2.06-.94 2.06-2.06.94z\"/><path d=\"M17.41 7.96l-1.37-1.37c-.4-.4-.92-.59-1.43-.59-.52 0-1.04.2-1.43.59L10.3 9.45l-7.72 7.72c-.78.78-.78 2.05 0 2.83L4 21.41c.39.39.9.59 1.41.59.51 0 1.02-.2 1.41-.59l7.78-7.78 2.81-2.81c.8-.78.8-2.07 0-2.86zM5.41 20L4 18.59l7.72-7.72 1.47 1.35L5.41 20z\"/>\n",
              "  </svg>\n",
              "      </button>\n",
              "      \n",
              "  <style>\n",
              "    .colab-df-container {\n",
              "      display:flex;\n",
              "      flex-wrap:wrap;\n",
              "      gap: 12px;\n",
              "    }\n",
              "\n",
              "    .colab-df-convert {\n",
              "      background-color: #E8F0FE;\n",
              "      border: none;\n",
              "      border-radius: 50%;\n",
              "      cursor: pointer;\n",
              "      display: none;\n",
              "      fill: #1967D2;\n",
              "      height: 32px;\n",
              "      padding: 0 0 0 0;\n",
              "      width: 32px;\n",
              "    }\n",
              "\n",
              "    .colab-df-convert:hover {\n",
              "      background-color: #E2EBFA;\n",
              "      box-shadow: 0px 1px 2px rgba(60, 64, 67, 0.3), 0px 1px 3px 1px rgba(60, 64, 67, 0.15);\n",
              "      fill: #174EA6;\n",
              "    }\n",
              "\n",
              "    [theme=dark] .colab-df-convert {\n",
              "      background-color: #3B4455;\n",
              "      fill: #D2E3FC;\n",
              "    }\n",
              "\n",
              "    [theme=dark] .colab-df-convert:hover {\n",
              "      background-color: #434B5C;\n",
              "      box-shadow: 0px 1px 3px 1px rgba(0, 0, 0, 0.15);\n",
              "      filter: drop-shadow(0px 1px 2px rgba(0, 0, 0, 0.3));\n",
              "      fill: #FFFFFF;\n",
              "    }\n",
              "  </style>\n",
              "\n",
              "      <script>\n",
              "        const buttonEl =\n",
              "          document.querySelector('#df-ddfcd6a1-58df-47a9-b211-ad324bd2c9a8 button.colab-df-convert');\n",
              "        buttonEl.style.display =\n",
              "          google.colab.kernel.accessAllowed ? 'block' : 'none';\n",
              "\n",
              "        async function convertToInteractive(key) {\n",
              "          const element = document.querySelector('#df-ddfcd6a1-58df-47a9-b211-ad324bd2c9a8');\n",
              "          const dataTable =\n",
              "            await google.colab.kernel.invokeFunction('convertToInteractive',\n",
              "                                                     [key], {});\n",
              "          if (!dataTable) return;\n",
              "\n",
              "          const docLinkHtml = 'Like what you see? Visit the ' +\n",
              "            '<a target=\"_blank\" href=https://colab.research.google.com/notebooks/data_table.ipynb>data table notebook</a>'\n",
              "            + ' to learn more about interactive tables.';\n",
              "          element.innerHTML = '';\n",
              "          dataTable['output_type'] = 'display_data';\n",
              "          await google.colab.output.renderOutput(dataTable, element);\n",
              "          const docLink = document.createElement('div');\n",
              "          docLink.innerHTML = docLinkHtml;\n",
              "          element.appendChild(docLink);\n",
              "        }\n",
              "      </script>\n",
              "    </div>\n",
              "  </div>\n",
              "  "
            ],
            "text/plain": [
              "       Name  Age  Experience\n",
              "0  Shashank   23          10\n",
              "1     Mihir   22           8\n",
              "2    Pranav   23           4"
            ]
          },
          "metadata": {},
          "execution_count": 6
        }
      ],
      "source": [
        "import pandas as pd\n",
        "pd.read_csv('test1.csv')"
      ]
    },
    {
      "cell_type": "code",
      "execution_count": 7,
      "id": "18eab94c",
      "metadata": {
        "colab": {
          "base_uri": "https://localhost:8080/"
        },
        "id": "18eab94c",
        "outputId": "4304b929-3074-422b-c1ea-f0593a105122"
      },
      "outputs": [
        {
          "output_type": "execute_result",
          "data": {
            "text/plain": [
              "pandas.core.frame.DataFrame"
            ]
          },
          "metadata": {},
          "execution_count": 7
        }
      ],
      "source": [
        "type(pd.read_csv('test1.csv'))"
      ]
    },
    {
      "cell_type": "code",
      "execution_count": 8,
      "id": "489b549e",
      "metadata": {
        "id": "489b549e"
      },
      "outputs": [],
      "source": [
        "from pyspark.sql import SparkSession"
      ]
    },
    {
      "cell_type": "code",
      "execution_count": 9,
      "id": "926dfd0b",
      "metadata": {
        "id": "926dfd0b"
      },
      "outputs": [],
      "source": [
        "spark = SparkSession.builder.appName('Practise').getOrCreate()"
      ]
    },
    {
      "cell_type": "code",
      "execution_count": 10,
      "id": "e966a67e",
      "metadata": {
        "colab": {
          "base_uri": "https://localhost:8080/",
          "height": 219
        },
        "id": "e966a67e",
        "outputId": "1e213339-0fa1-4400-babb-090118f8d8cb"
      },
      "outputs": [
        {
          "output_type": "execute_result",
          "data": {
            "text/html": [
              "\n",
              "            <div>\n",
              "                <p><b>SparkSession - in-memory</b></p>\n",
              "                \n",
              "        <div>\n",
              "            <p><b>SparkContext</b></p>\n",
              "\n",
              "            <p><a href=\"http://73255f9064cb:4040\">Spark UI</a></p>\n",
              "\n",
              "            <dl>\n",
              "              <dt>Version</dt>\n",
              "                <dd><code>v3.2.1</code></dd>\n",
              "              <dt>Master</dt>\n",
              "                <dd><code>local[*]</code></dd>\n",
              "              <dt>AppName</dt>\n",
              "                <dd><code>Practise</code></dd>\n",
              "            </dl>\n",
              "        </div>\n",
              "        \n",
              "            </div>\n",
              "        "
            ],
            "text/plain": [
              "<pyspark.sql.session.SparkSession at 0x7f52fcba4850>"
            ]
          },
          "metadata": {},
          "execution_count": 10
        }
      ],
      "source": [
        "spark"
      ]
    },
    {
      "cell_type": "code",
      "execution_count": 11,
      "id": "e4b06145",
      "metadata": {
        "id": "e4b06145"
      },
      "outputs": [],
      "source": [
        "df_pyspark = spark.read.csv('test1.csv')"
      ]
    },
    {
      "cell_type": "code",
      "execution_count": 12,
      "id": "316b0912",
      "metadata": {
        "colab": {
          "base_uri": "https://localhost:8080/"
        },
        "id": "316b0912",
        "outputId": "a28df4d1-9c97-48a0-9fc1-52606dda3759"
      },
      "outputs": [
        {
          "output_type": "execute_result",
          "data": {
            "text/plain": [
              "DataFrame[_c0: string, _c1: string, _c2: string]"
            ]
          },
          "metadata": {},
          "execution_count": 12
        }
      ],
      "source": [
        "df_pyspark"
      ]
    },
    {
      "cell_type": "code",
      "execution_count": 13,
      "id": "07c775bc",
      "metadata": {
        "colab": {
          "base_uri": "https://localhost:8080/"
        },
        "id": "07c775bc",
        "outputId": "22ee7d58-90e2-4a23-c73b-1ca0529736ca"
      },
      "outputs": [
        {
          "output_type": "stream",
          "name": "stdout",
          "text": [
            "+--------+---+----------+\n",
            "|     _c0|_c1|       _c2|\n",
            "+--------+---+----------+\n",
            "|    Name|Age|Experience|\n",
            "|Shashank| 23|        10|\n",
            "|   Mihir| 22|         8|\n",
            "|  Pranav| 23|         4|\n",
            "+--------+---+----------+\n",
            "\n"
          ]
        }
      ],
      "source": [
        "df_pyspark.show()"
      ]
    },
    {
      "cell_type": "code",
      "execution_count": 14,
      "id": "b969e559",
      "metadata": {
        "id": "b969e559"
      },
      "outputs": [],
      "source": [
        "df_pyspark = spark.read.option('header', 'true').csv('test1.csv')"
      ]
    },
    {
      "cell_type": "code",
      "execution_count": 15,
      "id": "0df1a27d",
      "metadata": {
        "colab": {
          "base_uri": "https://localhost:8080/"
        },
        "id": "0df1a27d",
        "outputId": "17941c1b-3590-47c7-8b34-93f67330925f"
      },
      "outputs": [
        {
          "output_type": "stream",
          "name": "stdout",
          "text": [
            "+--------+---+----------+\n",
            "|    Name|Age|Experience|\n",
            "+--------+---+----------+\n",
            "|Shashank| 23|        10|\n",
            "|   Mihir| 22|         8|\n",
            "|  Pranav| 23|         4|\n",
            "+--------+---+----------+\n",
            "\n"
          ]
        }
      ],
      "source": [
        "df_pyspark.show()"
      ]
    },
    {
      "cell_type": "code",
      "execution_count": 16,
      "id": "87cc2e48",
      "metadata": {
        "colab": {
          "base_uri": "https://localhost:8080/"
        },
        "id": "87cc2e48",
        "outputId": "bb11ce8d-bc03-418e-c851-e257aed30bd0"
      },
      "outputs": [
        {
          "output_type": "execute_result",
          "data": {
            "text/plain": [
              "pyspark.sql.dataframe.DataFrame"
            ]
          },
          "metadata": {},
          "execution_count": 16
        }
      ],
      "source": [
        "type(df_pyspark)"
      ]
    },
    {
      "cell_type": "code",
      "execution_count": 17,
      "id": "ce6f98ab",
      "metadata": {
        "colab": {
          "base_uri": "https://localhost:8080/"
        },
        "id": "ce6f98ab",
        "outputId": "de6a8731-76a0-427c-f350-c8f148278bfb"
      },
      "outputs": [
        {
          "output_type": "execute_result",
          "data": {
            "text/plain": [
              "[Row(Name='Shashank', Age='23', Experience='10'),\n",
              " Row(Name='Mihir', Age='22', Experience='8'),\n",
              " Row(Name='Pranav', Age='23', Experience='4')]"
            ]
          },
          "metadata": {},
          "execution_count": 17
        }
      ],
      "source": [
        "df_pyspark.head(3)"
      ]
    },
    {
      "cell_type": "code",
      "execution_count": 18,
      "id": "520eaaa4",
      "metadata": {
        "colab": {
          "base_uri": "https://localhost:8080/"
        },
        "id": "520eaaa4",
        "outputId": "fe955ff1-c30e-4bf1-a739-a185500efdf9"
      },
      "outputs": [
        {
          "output_type": "stream",
          "name": "stdout",
          "text": [
            "root\n",
            " |-- Name: string (nullable = true)\n",
            " |-- Age: string (nullable = true)\n",
            " |-- Experience: string (nullable = true)\n",
            "\n"
          ]
        }
      ],
      "source": [
        "df_pyspark.printSchema()"
      ]
    },
    {
      "cell_type": "markdown",
      "id": "58134559",
      "metadata": {
        "id": "58134559"
      },
      "source": [
        "## PART-1"
      ]
    },
    {
      "cell_type": "code",
      "execution_count": 19,
      "id": "82bdad1b",
      "metadata": {
        "id": "82bdad1b"
      },
      "outputs": [],
      "source": [
        "from pyspark.sql import SparkSession"
      ]
    },
    {
      "cell_type": "code",
      "execution_count": 20,
      "id": "3234546d",
      "metadata": {
        "id": "3234546d"
      },
      "outputs": [],
      "source": [
        "spark = SparkSession.builder.appName('Dataframe').getOrCreate()"
      ]
    },
    {
      "cell_type": "code",
      "execution_count": 21,
      "id": "7a43f9b9",
      "metadata": {
        "colab": {
          "base_uri": "https://localhost:8080/",
          "height": 219
        },
        "id": "7a43f9b9",
        "outputId": "eb171ad0-216e-4b89-ada7-699191dda584"
      },
      "outputs": [
        {
          "output_type": "execute_result",
          "data": {
            "text/html": [
              "\n",
              "            <div>\n",
              "                <p><b>SparkSession - in-memory</b></p>\n",
              "                \n",
              "        <div>\n",
              "            <p><b>SparkContext</b></p>\n",
              "\n",
              "            <p><a href=\"http://73255f9064cb:4040\">Spark UI</a></p>\n",
              "\n",
              "            <dl>\n",
              "              <dt>Version</dt>\n",
              "                <dd><code>v3.2.1</code></dd>\n",
              "              <dt>Master</dt>\n",
              "                <dd><code>local[*]</code></dd>\n",
              "              <dt>AppName</dt>\n",
              "                <dd><code>Practise</code></dd>\n",
              "            </dl>\n",
              "        </div>\n",
              "        \n",
              "            </div>\n",
              "        "
            ],
            "text/plain": [
              "<pyspark.sql.session.SparkSession at 0x7f52fcba4850>"
            ]
          },
          "metadata": {},
          "execution_count": 21
        }
      ],
      "source": [
        "spark"
      ]
    },
    {
      "cell_type": "markdown",
      "id": "1cf6da4d",
      "metadata": {
        "id": "1cf6da4d"
      },
      "source": [
        "### PySpark dataframe and Reading the dataset"
      ]
    },
    {
      "cell_type": "code",
      "execution_count": 22,
      "id": "ca55baa5",
      "metadata": {
        "colab": {
          "base_uri": "https://localhost:8080/"
        },
        "id": "ca55baa5",
        "outputId": "21a643cf-bd46-48f2-8a41-b8d626447620"
      },
      "outputs": [
        {
          "output_type": "stream",
          "name": "stdout",
          "text": [
            "+--------+---+----------+\n",
            "|    Name|Age|Experience|\n",
            "+--------+---+----------+\n",
            "|Shashank| 23|        10|\n",
            "|   Mihir| 22|         8|\n",
            "|  Pranav| 23|         4|\n",
            "+--------+---+----------+\n",
            "\n"
          ]
        }
      ],
      "source": [
        "## read the dataset\n",
        "df_pyspark=spark.read.option('header','true').csv('test1.csv', inferSchema=True)\n",
        "df_pyspark.show()"
      ]
    },
    {
      "cell_type": "markdown",
      "id": "40bc26ca",
      "metadata": {
        "id": "40bc26ca"
      },
      "source": [
        "### Checking the datatypes of the column(schema)"
      ]
    },
    {
      "cell_type": "code",
      "execution_count": 23,
      "id": "cd4cf907",
      "metadata": {
        "colab": {
          "base_uri": "https://localhost:8080/"
        },
        "id": "cd4cf907",
        "outputId": "b946fa8c-a323-440a-b6f1-337178b9f026"
      },
      "outputs": [
        {
          "output_type": "stream",
          "name": "stdout",
          "text": [
            "root\n",
            " |-- Name: string (nullable = true)\n",
            " |-- Age: integer (nullable = true)\n",
            " |-- Experience: integer (nullable = true)\n",
            "\n"
          ]
        }
      ],
      "source": [
        "### Check the schema\n",
        "df_pyspark.printSchema()"
      ]
    },
    {
      "cell_type": "code",
      "execution_count": 24,
      "id": "c583cfca",
      "metadata": {
        "colab": {
          "base_uri": "https://localhost:8080/"
        },
        "id": "c583cfca",
        "outputId": "5b2260a9-dfe6-46a9-aa45-8fa116c89252"
      },
      "outputs": [
        {
          "output_type": "stream",
          "name": "stdout",
          "text": [
            "+--------+---+----------+\n",
            "|    Name|Age|Experience|\n",
            "+--------+---+----------+\n",
            "|Shashank| 23|        10|\n",
            "|   Mihir| 22|         8|\n",
            "|  Pranav| 23|         4|\n",
            "+--------+---+----------+\n",
            "\n"
          ]
        }
      ],
      "source": [
        "df_pyspark = spark.read.csv('test1.csv', header=True, inferSchema=True)\n",
        "df_pyspark.show()"
      ]
    },
    {
      "cell_type": "code",
      "execution_count": 25,
      "id": "ae43aee8",
      "metadata": {
        "colab": {
          "base_uri": "https://localhost:8080/"
        },
        "id": "ae43aee8",
        "outputId": "ba3f3a3c-e649-4d0b-efb4-c00459085259"
      },
      "outputs": [
        {
          "output_type": "stream",
          "name": "stdout",
          "text": [
            "root\n",
            " |-- Name: string (nullable = true)\n",
            " |-- Age: integer (nullable = true)\n",
            " |-- Experience: integer (nullable = true)\n",
            "\n"
          ]
        }
      ],
      "source": [
        "df_pyspark.printSchema()"
      ]
    },
    {
      "cell_type": "markdown",
      "id": "95430709",
      "metadata": {
        "id": "95430709"
      },
      "source": [
        "### Selecting columns and indexing"
      ]
    },
    {
      "cell_type": "code",
      "execution_count": 26,
      "id": "e8e26d6d",
      "metadata": {
        "colab": {
          "base_uri": "https://localhost:8080/"
        },
        "id": "e8e26d6d",
        "outputId": "89885e2e-a77a-43e4-f13e-5f6002b1cfcf"
      },
      "outputs": [
        {
          "output_type": "execute_result",
          "data": {
            "text/plain": [
              "['Name', 'Age', 'Experience']"
            ]
          },
          "metadata": {},
          "execution_count": 26
        }
      ],
      "source": [
        "df_pyspark.columns"
      ]
    },
    {
      "cell_type": "code",
      "execution_count": 27,
      "id": "c6f392a2",
      "metadata": {
        "colab": {
          "base_uri": "https://localhost:8080/"
        },
        "id": "c6f392a2",
        "outputId": "205ea793-e97b-46e1-e06f-ee93fe8479ea"
      },
      "outputs": [
        {
          "output_type": "stream",
          "name": "stdout",
          "text": [
            "+--------+\n",
            "|    Name|\n",
            "+--------+\n",
            "|Shashank|\n",
            "|   Mihir|\n",
            "|  Pranav|\n",
            "+--------+\n",
            "\n"
          ]
        }
      ],
      "source": [
        "df_pyspark.select('Name').show()"
      ]
    },
    {
      "cell_type": "code",
      "execution_count": 28,
      "id": "1f5b6dfc",
      "metadata": {
        "colab": {
          "base_uri": "https://localhost:8080/"
        },
        "id": "1f5b6dfc",
        "outputId": "e7404fcc-3338-4b7c-c307-d8cce365099a"
      },
      "outputs": [
        {
          "output_type": "execute_result",
          "data": {
            "text/plain": [
              "pyspark.sql.dataframe.DataFrame"
            ]
          },
          "metadata": {},
          "execution_count": 28
        }
      ],
      "source": [
        "type(df_pyspark.select('Name'))"
      ]
    },
    {
      "cell_type": "code",
      "execution_count": 29,
      "id": "4e8f2e06",
      "metadata": {
        "colab": {
          "base_uri": "https://localhost:8080/"
        },
        "id": "4e8f2e06",
        "outputId": "69bdf790-fa8e-4fcc-b003-b52c9409c222"
      },
      "outputs": [
        {
          "output_type": "execute_result",
          "data": {
            "text/plain": [
              "DataFrame[Name: string, Experience: int]"
            ]
          },
          "metadata": {},
          "execution_count": 29
        }
      ],
      "source": [
        "df_pyspark.select(['Name', 'Experience'])"
      ]
    },
    {
      "cell_type": "code",
      "execution_count": 30,
      "id": "0d397b40",
      "metadata": {
        "colab": {
          "base_uri": "https://localhost:8080/"
        },
        "id": "0d397b40",
        "outputId": "c5f4c024-22e5-4ab4-c758-a9b897e97ef1"
      },
      "outputs": [
        {
          "output_type": "stream",
          "name": "stdout",
          "text": [
            "+--------+----------+\n",
            "|    Name|Experience|\n",
            "+--------+----------+\n",
            "|Shashank|        10|\n",
            "|   Mihir|         8|\n",
            "|  Pranav|         4|\n",
            "+--------+----------+\n",
            "\n"
          ]
        }
      ],
      "source": [
        "df_pyspark.select(['Name', 'Experience']).show()"
      ]
    },
    {
      "cell_type": "code",
      "execution_count": 31,
      "id": "67eb6954",
      "metadata": {
        "colab": {
          "base_uri": "https://localhost:8080/"
        },
        "id": "67eb6954",
        "outputId": "23e2c4ff-b263-4a10-898d-f99aced16703"
      },
      "outputs": [
        {
          "output_type": "execute_result",
          "data": {
            "text/plain": [
              "[('Name', 'string'), ('Age', 'int'), ('Experience', 'int')]"
            ]
          },
          "metadata": {},
          "execution_count": 31
        }
      ],
      "source": [
        "df_pyspark.dtypes"
      ]
    },
    {
      "cell_type": "markdown",
      "id": "96443ac6",
      "metadata": {
        "id": "96443ac6"
      },
      "source": [
        "### Check describe option similar to pandas"
      ]
    },
    {
      "cell_type": "code",
      "execution_count": 32,
      "id": "9cead8d6",
      "metadata": {
        "colab": {
          "base_uri": "https://localhost:8080/"
        },
        "id": "9cead8d6",
        "outputId": "183f1def-6340-4d52-b910-aa2100afccf6"
      },
      "outputs": [
        {
          "output_type": "stream",
          "name": "stdout",
          "text": [
            "+-------+--------+------------------+-----------------+\n",
            "|summary|    Name|               Age|       Experience|\n",
            "+-------+--------+------------------+-----------------+\n",
            "|  count|       3|                 3|                3|\n",
            "|   mean|    null|22.666666666666668|7.333333333333333|\n",
            "| stddev|    null|0.5773502691896258|3.055050463303893|\n",
            "|    min|   Mihir|                22|                4|\n",
            "|    max|Shashank|                23|               10|\n",
            "+-------+--------+------------------+-----------------+\n",
            "\n"
          ]
        }
      ],
      "source": [
        "df_pyspark.describe().show()"
      ]
    },
    {
      "cell_type": "markdown",
      "id": "9b9a35e7",
      "metadata": {
        "id": "9b9a35e7"
      },
      "source": [
        "### Adding columns"
      ]
    },
    {
      "cell_type": "code",
      "execution_count": 33,
      "id": "69dd61c1",
      "metadata": {
        "colab": {
          "base_uri": "https://localhost:8080/"
        },
        "id": "69dd61c1",
        "outputId": "84b5daae-63ba-41a1-9851-97d3503b0e28"
      },
      "outputs": [
        {
          "output_type": "stream",
          "name": "stdout",
          "text": [
            "+--------+---+----------+------------------------+\n",
            "|    Name|Age|Experience|Experience after 2 years|\n",
            "+--------+---+----------+------------------------+\n",
            "|Shashank| 23|        10|                      12|\n",
            "|   Mihir| 22|         8|                      10|\n",
            "|  Pranav| 23|         4|                       6|\n",
            "+--------+---+----------+------------------------+\n",
            "\n"
          ]
        }
      ],
      "source": [
        "df_pyspark = df_pyspark.withColumn('Experience after 2 years', df_pyspark['Experience']+2)\n",
        "df_pyspark.show()"
      ]
    },
    {
      "cell_type": "markdown",
      "id": "38d2d770",
      "metadata": {
        "id": "38d2d770"
      },
      "source": [
        "### Dropping columns"
      ]
    },
    {
      "cell_type": "code",
      "execution_count": 34,
      "id": "e3093b3a",
      "metadata": {
        "colab": {
          "base_uri": "https://localhost:8080/"
        },
        "id": "e3093b3a",
        "outputId": "5dc59c33-e73b-4a06-a21e-9dc4de0b407c"
      },
      "outputs": [
        {
          "output_type": "stream",
          "name": "stdout",
          "text": [
            "+--------+---+----------+\n",
            "|    Name|Age|Experience|\n",
            "+--------+---+----------+\n",
            "|Shashank| 23|        10|\n",
            "|   Mihir| 22|         8|\n",
            "|  Pranav| 23|         4|\n",
            "+--------+---+----------+\n",
            "\n"
          ]
        }
      ],
      "source": [
        "df_pyspark = df_pyspark.drop('Experience after 2 years')\n",
        "df_pyspark.show()"
      ]
    },
    {
      "cell_type": "markdown",
      "source": [
        "### Rename the column"
      ],
      "metadata": {
        "id": "BxbJAs6UfI6a"
      },
      "id": "BxbJAs6UfI6a"
    },
    {
      "cell_type": "code",
      "source": [
        "df_pyspark = df_pyspark.withColumnRenamed('Name', 'Updated Name')\n",
        "df_pyspark.show()"
      ],
      "metadata": {
        "colab": {
          "base_uri": "https://localhost:8080/"
        },
        "id": "6Wyi1zCBfHaB",
        "outputId": "1d8bde50-1f75-4454-e3e2-f74ffb42d9af"
      },
      "id": "6Wyi1zCBfHaB",
      "execution_count": 35,
      "outputs": [
        {
          "output_type": "stream",
          "name": "stdout",
          "text": [
            "+------------+---+----------+\n",
            "|Updated Name|Age|Experience|\n",
            "+------------+---+----------+\n",
            "|    Shashank| 23|        10|\n",
            "|       Mihir| 22|         8|\n",
            "|      Pranav| 23|         4|\n",
            "+------------+---+----------+\n",
            "\n"
          ]
        }
      ]
    },
    {
      "cell_type": "markdown",
      "source": [
        "# PART-2- Pyspark Handling Missing Values"
      ],
      "metadata": {
        "id": "ZYMLgz--f39C"
      },
      "id": "ZYMLgz--f39C"
    },
    {
      "cell_type": "code",
      "source": [
        "from pyspark.sql import SparkSession\n",
        "spark = SparkSession.builder.appName('Practise').getOrCreate()"
      ],
      "metadata": {
        "id": "J9c8vgbRffLr"
      },
      "id": "J9c8vgbRffLr",
      "execution_count": 36,
      "outputs": []
    },
    {
      "cell_type": "code",
      "source": [
        "df_pyspark = spark.read.csv('test2.csv',header=True, inferSchema=True)\n",
        "df_pyspark.show()"
      ],
      "metadata": {
        "colab": {
          "base_uri": "https://localhost:8080/"
        },
        "id": "8Zc_FLG9g-1l",
        "outputId": "35db7dcc-645a-4678-e7d0-35d03290a0ed"
      },
      "id": "8Zc_FLG9g-1l",
      "execution_count": 37,
      "outputs": [
        {
          "output_type": "stream",
          "name": "stdout",
          "text": [
            "+-------+----+----------+------+\n",
            "|   Name| Age|Experience|Salary|\n",
            "+-------+----+----------+------+\n",
            "|  Krish|  31|        10| 30000|\n",
            "|  Mihir|  28|        12| 45000|\n",
            "| Pranav|  25|        15| 50000|\n",
            "|Devansh|null|      null| 75000|\n",
            "|   null|  27|        13| 40000|\n",
            "|   null|  29|      null|  null|\n",
            "+-------+----+----------+------+\n",
            "\n"
          ]
        }
      ]
    },
    {
      "cell_type": "markdown",
      "source": [
        "Droping column"
      ],
      "metadata": {
        "id": "ovIYvmnqmXKy"
      },
      "id": "ovIYvmnqmXKy"
    },
    {
      "cell_type": "code",
      "source": [
        "df_pyspark.drop('Name').show()"
      ],
      "metadata": {
        "colab": {
          "base_uri": "https://localhost:8080/"
        },
        "id": "3cMQfYG6kRVX",
        "outputId": "bfd5143e-7109-44d6-c6dc-e6703003b2de"
      },
      "id": "3cMQfYG6kRVX",
      "execution_count": 38,
      "outputs": [
        {
          "output_type": "stream",
          "name": "stdout",
          "text": [
            "+----+----------+------+\n",
            "| Age|Experience|Salary|\n",
            "+----+----------+------+\n",
            "|  31|        10| 30000|\n",
            "|  28|        12| 45000|\n",
            "|  25|        15| 50000|\n",
            "|null|      null| 75000|\n",
            "|  27|        13| 40000|\n",
            "|  29|      null|  null|\n",
            "+----+----------+------+\n",
            "\n"
          ]
        }
      ]
    },
    {
      "cell_type": "markdown",
      "source": [
        "Dropping the row"
      ],
      "metadata": {
        "id": "g92IXnIEntz4"
      },
      "id": "g92IXnIEntz4"
    },
    {
      "cell_type": "code",
      "source": [
        "df_pyspark.na.drop().show()"
      ],
      "metadata": {
        "colab": {
          "base_uri": "https://localhost:8080/"
        },
        "id": "Ay2WzpGOmju9",
        "outputId": "1cef7dce-0888-49de-ec3d-09a4476821f1"
      },
      "id": "Ay2WzpGOmju9",
      "execution_count": 39,
      "outputs": [
        {
          "output_type": "stream",
          "name": "stdout",
          "text": [
            "+------+---+----------+------+\n",
            "|  Name|Age|Experience|Salary|\n",
            "+------+---+----------+------+\n",
            "| Krish| 31|        10| 30000|\n",
            "| Mihir| 28|        12| 45000|\n",
            "|Pranav| 25|        15| 50000|\n",
            "+------+---+----------+------+\n",
            "\n"
          ]
        }
      ]
    },
    {
      "cell_type": "code",
      "source": [
        "#if all values in row is null, then only delete that row\n",
        "df_pyspark.na.drop(how=\"all\").show()"
      ],
      "metadata": {
        "colab": {
          "base_uri": "https://localhost:8080/"
        },
        "id": "cGLHvkOIoQUh",
        "outputId": "4ff22bea-604b-46dd-93d4-646c70965250"
      },
      "id": "cGLHvkOIoQUh",
      "execution_count": 40,
      "outputs": [
        {
          "output_type": "stream",
          "name": "stdout",
          "text": [
            "+-------+----+----------+------+\n",
            "|   Name| Age|Experience|Salary|\n",
            "+-------+----+----------+------+\n",
            "|  Krish|  31|        10| 30000|\n",
            "|  Mihir|  28|        12| 45000|\n",
            "| Pranav|  25|        15| 50000|\n",
            "|Devansh|null|      null| 75000|\n",
            "|   null|  27|        13| 40000|\n",
            "|   null|  29|      null|  null|\n",
            "+-------+----+----------+------+\n",
            "\n"
          ]
        }
      ]
    },
    {
      "cell_type": "code",
      "source": [
        "# any-> if any value in row is null delete that entire row, bydefault-any\n",
        "df_pyspark.na.drop(how=\"any\").show()"
      ],
      "metadata": {
        "colab": {
          "base_uri": "https://localhost:8080/"
        },
        "id": "JcQmObvsolXL",
        "outputId": "13c83c69-fb66-4163-843c-058eedced0fc"
      },
      "id": "JcQmObvsolXL",
      "execution_count": 41,
      "outputs": [
        {
          "output_type": "stream",
          "name": "stdout",
          "text": [
            "+------+---+----------+------+\n",
            "|  Name|Age|Experience|Salary|\n",
            "+------+---+----------+------+\n",
            "| Krish| 31|        10| 30000|\n",
            "| Mihir| 28|        12| 45000|\n",
            "|Pranav| 25|        15| 50000|\n",
            "+------+---+----------+------+\n",
            "\n"
          ]
        }
      ]
    },
    {
      "cell_type": "code",
      "source": [
        "# thresh-> atleast these many non null values\n",
        "df_pyspark.na.drop(how=\"any\", thresh=2).show()"
      ],
      "metadata": {
        "colab": {
          "base_uri": "https://localhost:8080/"
        },
        "id": "TcQTKUHAonZE",
        "outputId": "0c779fb0-574e-4001-fe02-014eabd6a191"
      },
      "id": "TcQTKUHAonZE",
      "execution_count": 42,
      "outputs": [
        {
          "output_type": "stream",
          "name": "stdout",
          "text": [
            "+-------+----+----------+------+\n",
            "|   Name| Age|Experience|Salary|\n",
            "+-------+----+----------+------+\n",
            "|  Krish|  31|        10| 30000|\n",
            "|  Mihir|  28|        12| 45000|\n",
            "| Pranav|  25|        15| 50000|\n",
            "|Devansh|null|      null| 75000|\n",
            "|   null|  27|        13| 40000|\n",
            "+-------+----+----------+------+\n",
            "\n"
          ]
        }
      ]
    },
    {
      "cell_type": "code",
      "source": [
        "#subset-> delete only in that column wherever is null\n",
        "df_pyspark.na.drop(how=\"any\", subset=['Experience']).show()"
      ],
      "metadata": {
        "colab": {
          "base_uri": "https://localhost:8080/"
        },
        "id": "yqM2f-tuo7q3",
        "outputId": "0e2bb003-f4f9-4994-cdd4-ea0017304df3"
      },
      "id": "yqM2f-tuo7q3",
      "execution_count": 43,
      "outputs": [
        {
          "output_type": "stream",
          "name": "stdout",
          "text": [
            "+------+---+----------+------+\n",
            "|  Name|Age|Experience|Salary|\n",
            "+------+---+----------+------+\n",
            "| Krish| 31|        10| 30000|\n",
            "| Mihir| 28|        12| 45000|\n",
            "|Pranav| 25|        15| 50000|\n",
            "|  null| 27|        13| 40000|\n",
            "+------+---+----------+------+\n",
            "\n"
          ]
        }
      ]
    },
    {
      "cell_type": "markdown",
      "source": [
        "### Filling missing values"
      ],
      "metadata": {
        "id": "JOdBK4wCpxd9"
      },
      "id": "JOdBK4wCpxd9"
    },
    {
      "cell_type": "code",
      "source": [
        "#only name column is replaced as it is string and new value is also string\n",
        "df_pyspark.na.fill('Missing Values').show()"
      ],
      "metadata": {
        "colab": {
          "base_uri": "https://localhost:8080/"
        },
        "id": "xC0L1q_vpqbP",
        "outputId": "7afd3269-a832-4acf-f8fe-7b5ad5040085"
      },
      "id": "xC0L1q_vpqbP",
      "execution_count": 47,
      "outputs": [
        {
          "output_type": "stream",
          "name": "stdout",
          "text": [
            "+--------------+----+----------+------+\n",
            "|          Name| Age|Experience|Salary|\n",
            "+--------------+----+----------+------+\n",
            "|         Krish|  31|        10| 30000|\n",
            "|         Mihir|  28|        12| 45000|\n",
            "|        Pranav|  25|        15| 50000|\n",
            "|       Devansh|null|      null| 75000|\n",
            "|Missing Values|  27|        13| 40000|\n",
            "|Missing Values|  29|      null|  null|\n",
            "+--------------+----+----------+------+\n",
            "\n"
          ]
        }
      ]
    },
    {
      "cell_type": "code",
      "source": [
        "df_pyspark.na.fill(100000000,'Experience').show()"
      ],
      "metadata": {
        "colab": {
          "base_uri": "https://localhost:8080/"
        },
        "id": "WcOJrMAn_Lov",
        "outputId": "405be69a-0f8e-48ce-ccbd-c4649a0daf11"
      },
      "id": "WcOJrMAn_Lov",
      "execution_count": 53,
      "outputs": [
        {
          "output_type": "stream",
          "name": "stdout",
          "text": [
            "+-------+----+----------+------+\n",
            "|   Name| Age|Experience|Salary|\n",
            "+-------+----+----------+------+\n",
            "|  Krish|  31|        10| 30000|\n",
            "|  Mihir|  28|        12| 45000|\n",
            "| Pranav|  25|        15| 50000|\n",
            "|Devansh|null| 100000000| 75000|\n",
            "|   null|  27|        13| 40000|\n",
            "|   null|  29| 100000000|  null|\n",
            "+-------+----+----------+------+\n",
            "\n"
          ]
        }
      ]
    },
    {
      "cell_type": "code",
      "source": [
        "df_pyspark.na.fill(1000000000,['Experience','Age']).show()"
      ],
      "metadata": {
        "colab": {
          "base_uri": "https://localhost:8080/"
        },
        "id": "owGCrq8M_oNh",
        "outputId": "7beb7edb-37f4-4791-bd61-d0390c0f4d40"
      },
      "id": "owGCrq8M_oNh",
      "execution_count": 54,
      "outputs": [
        {
          "output_type": "stream",
          "name": "stdout",
          "text": [
            "+-------+----------+----------+------+\n",
            "|   Name|       Age|Experience|Salary|\n",
            "+-------+----------+----------+------+\n",
            "|  Krish|        31|        10| 30000|\n",
            "|  Mihir|        28|        12| 45000|\n",
            "| Pranav|        25|        15| 50000|\n",
            "|Devansh|1000000000|1000000000| 75000|\n",
            "|   null|        27|        13| 40000|\n",
            "|   null|        29|1000000000|  null|\n",
            "+-------+----------+----------+------+\n",
            "\n"
          ]
        }
      ]
    },
    {
      "cell_type": "markdown",
      "source": [
        "### Imputer function-> Replace null values with mean, median or mode"
      ],
      "metadata": {
        "id": "xmjVJVofBHjr"
      },
      "id": "xmjVJVofBHjr"
    },
    {
      "cell_type": "code",
      "source": [
        "from pyspark.ml.feature import Imputer\n",
        "\n",
        "imputer = Imputer(\n",
        "    inputCols = ['Age', 'Experience', 'Salary'],\n",
        "    outputCols = [\"{}_imputed\".format(c) for c in ['Age', 'Experience', 'Salary']]\n",
        ").setStrategy(\"mean\")"
      ],
      "metadata": {
        "id": "IygvkHXRAEbE"
      },
      "id": "IygvkHXRAEbE",
      "execution_count": 55,
      "outputs": []
    },
    {
      "cell_type": "markdown",
      "source": [
        "Add imputation column to dataframe"
      ],
      "metadata": {
        "id": "4m_UMAViBrrL"
      },
      "id": "4m_UMAViBrrL"
    },
    {
      "cell_type": "code",
      "source": [
        "imputer.fit(df_pyspark).transform(df_pyspark).show()"
      ],
      "metadata": {
        "colab": {
          "base_uri": "https://localhost:8080/"
        },
        "id": "ly4bLNTHBqF9",
        "outputId": "9b734fd3-7b6f-4970-ed9e-d6490075494d"
      },
      "id": "ly4bLNTHBqF9",
      "execution_count": 57,
      "outputs": [
        {
          "output_type": "stream",
          "name": "stdout",
          "text": [
            "+-------+----+----------+------+-----------+------------------+--------------+\n",
            "|   Name| Age|Experience|Salary|Age_imputed|Experience_imputed|Salary_imputed|\n",
            "+-------+----+----------+------+-----------+------------------+--------------+\n",
            "|  Krish|  31|        10| 30000|         31|                10|         30000|\n",
            "|  Mihir|  28|        12| 45000|         28|                12|         45000|\n",
            "| Pranav|  25|        15| 50000|         25|                15|         50000|\n",
            "|Devansh|null|      null| 75000|         28|                12|         75000|\n",
            "|   null|  27|        13| 40000|         27|                13|         40000|\n",
            "|   null|  29|      null|  null|         29|                12|         48000|\n",
            "+-------+----+----------+------+-----------+------------------+--------------+\n",
            "\n"
          ]
        }
      ]
    },
    {
      "cell_type": "markdown",
      "source": [
        "# PART-4"
      ],
      "metadata": {
        "id": "LTdrG9tECEA5"
      },
      "id": "LTdrG9tECEA5"
    },
    {
      "cell_type": "code",
      "source": [
        "from pyspark.sql import SparkSession\n",
        "spark = SparkSession.builder.appName('dataframe').getOrCreate()"
      ],
      "metadata": {
        "id": "uPuBY4-_B4-B"
      },
      "id": "uPuBY4-_B4-B",
      "execution_count": 58,
      "outputs": []
    },
    {
      "cell_type": "code",
      "source": [
        "df_pyspark = spark.read.csv('test1.csv', header = True, inferSchema=True)\n",
        "df_pyspark.show()"
      ],
      "metadata": {
        "colab": {
          "base_uri": "https://localhost:8080/"
        },
        "id": "XgsMxBitCX4-",
        "outputId": "86f90cc9-d590-41c5-8096-f8724d2889d9"
      },
      "id": "XgsMxBitCX4-",
      "execution_count": 60,
      "outputs": [
        {
          "output_type": "stream",
          "name": "stdout",
          "text": [
            "+--------+---+----------+\n",
            "|    Name|Age|Experience|\n",
            "+--------+---+----------+\n",
            "|Shashank| 23|        10|\n",
            "|   Mihir| 22|         8|\n",
            "|  Pranav| 23|         4|\n",
            "+--------+---+----------+\n",
            "\n"
          ]
        }
      ]
    },
    {
      "cell_type": "markdown",
      "source": [
        "## Filter Operations"
      ],
      "metadata": {
        "id": "QQFS1KZECqLU"
      },
      "id": "QQFS1KZECqLU"
    },
    {
      "cell_type": "markdown",
      "source": [
        "Age of people less than 23"
      ],
      "metadata": {
        "id": "dve_rTKZCvan"
      },
      "id": "dve_rTKZCvan"
    },
    {
      "cell_type": "code",
      "source": [
        "df_pyspark.filter(\"Age<23\").show()"
      ],
      "metadata": {
        "colab": {
          "base_uri": "https://localhost:8080/"
        },
        "id": "PfAMKz8HCi5W",
        "outputId": "f631239b-4de8-40c0-b37c-db66909d9127"
      },
      "id": "PfAMKz8HCi5W",
      "execution_count": 61,
      "outputs": [
        {
          "output_type": "stream",
          "name": "stdout",
          "text": [
            "+-----+---+----------+\n",
            "| Name|Age|Experience|\n",
            "+-----+---+----------+\n",
            "|Mihir| 22|         8|\n",
            "+-----+---+----------+\n",
            "\n"
          ]
        }
      ]
    },
    {
      "cell_type": "code",
      "source": [
        "df_pyspark.filter(\"Age<23\").select(\"Name\").show()"
      ],
      "metadata": {
        "colab": {
          "base_uri": "https://localhost:8080/"
        },
        "id": "jiPPFNVsC7ZN",
        "outputId": "b27fa351-9b12-4c34-e4b9-7b6447747f93"
      },
      "id": "jiPPFNVsC7ZN",
      "execution_count": 63,
      "outputs": [
        {
          "output_type": "stream",
          "name": "stdout",
          "text": [
            "+-----+\n",
            "| Name|\n",
            "+-----+\n",
            "|Mihir|\n",
            "+-----+\n",
            "\n"
          ]
        }
      ]
    },
    {
      "cell_type": "code",
      "source": [
        "df_pyspark.filter(df_pyspark['Age']<23).show()"
      ],
      "metadata": {
        "colab": {
          "base_uri": "https://localhost:8080/"
        },
        "id": "boY7R0QzDAIp",
        "outputId": "a1f20cad-3380-4409-bf44-cefa072ce5f3"
      },
      "id": "boY7R0QzDAIp",
      "execution_count": 65,
      "outputs": [
        {
          "output_type": "stream",
          "name": "stdout",
          "text": [
            "+-----+---+----------+\n",
            "| Name|Age|Experience|\n",
            "+-----+---+----------+\n",
            "|Mihir| 22|         8|\n",
            "+-----+---+----------+\n",
            "\n"
          ]
        }
      ]
    },
    {
      "cell_type": "code",
      "source": [
        "df_pyspark.filter((df_pyspark['Age']<=23) & (df_pyspark['Experience']<=8)).show()"
      ],
      "metadata": {
        "colab": {
          "base_uri": "https://localhost:8080/"
        },
        "id": "02GRI_wxDbzJ",
        "outputId": "40a149a2-3156-4819-9560-3519deacbe0b"
      },
      "id": "02GRI_wxDbzJ",
      "execution_count": 67,
      "outputs": [
        {
          "output_type": "stream",
          "name": "stdout",
          "text": [
            "+------+---+----------+\n",
            "|  Name|Age|Experience|\n",
            "+------+---+----------+\n",
            "| Mihir| 22|         8|\n",
            "|Pranav| 23|         4|\n",
            "+------+---+----------+\n",
            "\n"
          ]
        }
      ]
    },
    {
      "cell_type": "code",
      "source": [
        "df_pyspark.filter(~(df_pyspark['Age']<23)).show()"
      ],
      "metadata": {
        "colab": {
          "base_uri": "https://localhost:8080/"
        },
        "id": "wt8gutDAEhbv",
        "outputId": "969aaa60-24f4-487b-9167-397c318609e9"
      },
      "id": "wt8gutDAEhbv",
      "execution_count": 69,
      "outputs": [
        {
          "output_type": "stream",
          "name": "stdout",
          "text": [
            "+--------+---+----------+\n",
            "|    Name|Age|Experience|\n",
            "+--------+---+----------+\n",
            "|Shashank| 23|        10|\n",
            "|  Pranav| 23|         4|\n",
            "+--------+---+----------+\n",
            "\n"
          ]
        }
      ]
    },
    {
      "cell_type": "markdown",
      "source": [
        "## PySpark GroupBy and Aggregate Functions"
      ],
      "metadata": {
        "id": "dGeB8e4vF1N5"
      },
      "id": "dGeB8e4vF1N5"
    },
    {
      "cell_type": "code",
      "source": [
        "from pyspark.sql import SparkSession \n",
        "spark = SparkSession.builder.appName(\"Practise\").getOrCreate()"
      ],
      "metadata": {
        "id": "P7zxKs2lFniF"
      },
      "id": "P7zxKs2lFniF",
      "execution_count": 71,
      "outputs": []
    },
    {
      "cell_type": "code",
      "source": [
        "df_pyspark = spark.read.csv('test3.csv', header=True, inferSchema=True)\n",
        "df_pyspark.show()"
      ],
      "metadata": {
        "colab": {
          "base_uri": "https://localhost:8080/"
        },
        "id": "6NarLUViF0Fh",
        "outputId": "f72b2f48-9ab7-4dab-bcba-73bbde30ce4e"
      },
      "id": "6NarLUViF0Fh",
      "execution_count": 77,
      "outputs": [
        {
          "output_type": "stream",
          "name": "stdout",
          "text": [
            "+--------+------------+------+\n",
            "|    Name| Departments|Salary|\n",
            "+--------+------------+------+\n",
            "|   Krish|Data Science|100000|\n",
            "|Shashank|          ML|200000|\n",
            "|   Mihir|         IOT|240000|\n",
            "|  Pranav|     Andriod|300000|\n",
            "|   Mihir|Data Science|450000|\n",
            "|   Krish|          ML|670000|\n",
            "|  Pranav|         IOT|240000|\n",
            "|Shashank|     Andriod|300000|\n",
            "+--------+------------+------+\n",
            "\n"
          ]
        }
      ]
    },
    {
      "cell_type": "code",
      "source": [
        "df_pyspark.printSchema()"
      ],
      "metadata": {
        "colab": {
          "base_uri": "https://localhost:8080/"
        },
        "id": "2OgZnb97HSYh",
        "outputId": "a9b05266-5639-4fb5-e54f-b7934fd96f00"
      },
      "id": "2OgZnb97HSYh",
      "execution_count": 78,
      "outputs": [
        {
          "output_type": "stream",
          "name": "stdout",
          "text": [
            "root\n",
            " |-- Name: string (nullable = true)\n",
            " |-- Departments: string (nullable = true)\n",
            " |-- Salary: integer (nullable = true)\n",
            "\n"
          ]
        }
      ]
    },
    {
      "cell_type": "markdown",
      "source": [
        "### GroupBy"
      ],
      "metadata": {
        "id": "IzWELlaRHVyE"
      },
      "id": "IzWELlaRHVyE"
    },
    {
      "cell_type": "markdown",
      "source": [
        "Sum of salary of each individual"
      ],
      "metadata": {
        "id": "kdT43tDnIJDD"
      },
      "id": "kdT43tDnIJDD"
    },
    {
      "cell_type": "code",
      "source": [
        "df_pyspark.groupBy('Name').sum().show()"
      ],
      "metadata": {
        "colab": {
          "base_uri": "https://localhost:8080/"
        },
        "id": "AnqRcuSkHUNs",
        "outputId": "a98f4992-df54-483f-9008-402b705f3adb"
      },
      "id": "AnqRcuSkHUNs",
      "execution_count": 79,
      "outputs": [
        {
          "output_type": "stream",
          "name": "stdout",
          "text": [
            "+--------+-----------+\n",
            "|    Name|sum(Salary)|\n",
            "+--------+-----------+\n",
            "|   Mihir|     690000|\n",
            "|  Pranav|     540000|\n",
            "|   Krish|     770000|\n",
            "|Shashank|     500000|\n",
            "+--------+-----------+\n",
            "\n"
          ]
        }
      ]
    },
    {
      "cell_type": "code",
      "source": [
        "df_pyspark.groupBy('Name').max().show()"
      ],
      "metadata": {
        "colab": {
          "base_uri": "https://localhost:8080/"
        },
        "id": "HwSamQhYM-lQ",
        "outputId": "3fa13543-0beb-4aa6-c35f-977c4d822160"
      },
      "id": "HwSamQhYM-lQ",
      "execution_count": 85,
      "outputs": [
        {
          "output_type": "stream",
          "name": "stdout",
          "text": [
            "+--------+-----------+\n",
            "|    Name|max(Salary)|\n",
            "+--------+-----------+\n",
            "|   Mihir|     450000|\n",
            "|  Pranav|     300000|\n",
            "|   Krish|     670000|\n",
            "|Shashank|     300000|\n",
            "+--------+-----------+\n",
            "\n"
          ]
        }
      ]
    },
    {
      "cell_type": "markdown",
      "source": [
        "Groupby departments which gives total salary"
      ],
      "metadata": {
        "id": "qEiv_4RoIgSu"
      },
      "id": "qEiv_4RoIgSu"
    },
    {
      "cell_type": "code",
      "source": [
        "df_pyspark.groupBy('Departments').sum().show()"
      ],
      "metadata": {
        "colab": {
          "base_uri": "https://localhost:8080/"
        },
        "id": "iriB3R6_HwZM",
        "outputId": "18d4f4fc-73f5-4a7b-c0a7-7987a1af397f"
      },
      "id": "iriB3R6_HwZM",
      "execution_count": 80,
      "outputs": [
        {
          "output_type": "stream",
          "name": "stdout",
          "text": [
            "+------------+-----------+\n",
            "| Departments|sum(Salary)|\n",
            "+------------+-----------+\n",
            "|         IOT|     480000|\n",
            "|          ML|     870000|\n",
            "|     Andriod|     600000|\n",
            "|Data Science|     550000|\n",
            "+------------+-----------+\n",
            "\n"
          ]
        }
      ]
    },
    {
      "cell_type": "code",
      "source": [
        "df_pyspark.groupBy('Departments').max().show()"
      ],
      "metadata": {
        "colab": {
          "base_uri": "https://localhost:8080/"
        },
        "id": "yMhpx0izM3WR",
        "outputId": "e7280821-1849-41e4-f09a-947b70c0d513"
      },
      "id": "yMhpx0izM3WR",
      "execution_count": 84,
      "outputs": [
        {
          "output_type": "stream",
          "name": "stdout",
          "text": [
            "+------------+-----------+\n",
            "| Departments|max(Salary)|\n",
            "+------------+-----------+\n",
            "|         IOT|     240000|\n",
            "|          ML|     670000|\n",
            "|     Andriod|     300000|\n",
            "|Data Science|     450000|\n",
            "+------------+-----------+\n",
            "\n"
          ]
        }
      ]
    },
    {
      "cell_type": "code",
      "source": [
        "df_pyspark.groupBy('Departments').mean().show()"
      ],
      "metadata": {
        "colab": {
          "base_uri": "https://localhost:8080/"
        },
        "id": "2ZHnj6_EI4M4",
        "outputId": "3d090ca3-385e-4324-cb3e-3b3218d77115"
      },
      "id": "2ZHnj6_EI4M4",
      "execution_count": 81,
      "outputs": [
        {
          "output_type": "stream",
          "name": "stdout",
          "text": [
            "+------------+-----------+\n",
            "| Departments|avg(Salary)|\n",
            "+------------+-----------+\n",
            "|         IOT|   240000.0|\n",
            "|          ML|   435000.0|\n",
            "|     Andriod|   300000.0|\n",
            "|Data Science|   275000.0|\n",
            "+------------+-----------+\n",
            "\n"
          ]
        }
      ]
    },
    {
      "cell_type": "code",
      "source": [
        "df_pyspark.groupBy('Departments').count().show()"
      ],
      "metadata": {
        "colab": {
          "base_uri": "https://localhost:8080/"
        },
        "id": "egWNZlEJJC1v",
        "outputId": "603e82e8-f447-4ddf-9e7c-7e0496ad7861"
      },
      "id": "egWNZlEJJC1v",
      "execution_count": 82,
      "outputs": [
        {
          "output_type": "stream",
          "name": "stdout",
          "text": [
            "+------------+-----+\n",
            "| Departments|count|\n",
            "+------------+-----+\n",
            "|         IOT|    2|\n",
            "|          ML|    2|\n",
            "|     Andriod|    2|\n",
            "|Data Science|    2|\n",
            "+------------+-----+\n",
            "\n"
          ]
        }
      ]
    },
    {
      "cell_type": "code",
      "source": [
        "df_pyspark.agg({'Salary':'sum'}).show()"
      ],
      "metadata": {
        "colab": {
          "base_uri": "https://localhost:8080/"
        },
        "id": "3Zup473WMQ23",
        "outputId": "c3c6c41c-418b-4394-cc0a-cc1d8585d2bd"
      },
      "id": "3Zup473WMQ23",
      "execution_count": 83,
      "outputs": [
        {
          "output_type": "stream",
          "name": "stdout",
          "text": [
            "+-----------+\n",
            "|sum(Salary)|\n",
            "+-----------+\n",
            "|    2500000|\n",
            "+-----------+\n",
            "\n"
          ]
        }
      ]
    },
    {
      "cell_type": "markdown",
      "source": [
        "## Examples of PysparkML"
      ],
      "metadata": {
        "id": "Gup0m8xAQSkk"
      },
      "id": "Gup0m8xAQSkk"
    },
    {
      "cell_type": "code",
      "source": [
        "from pyspark.sql import SparkSession\n",
        "spark = SparkSession.builder.appName('Missing').getOrCreate()"
      ],
      "metadata": {
        "id": "2z3lS5WSMsdP"
      },
      "id": "2z3lS5WSMsdP",
      "execution_count": 88,
      "outputs": []
    },
    {
      "cell_type": "code",
      "source": [
        "training = spark.read.csv('mldemo1.csv', header=True, inferSchema=True)\n",
        "training.show()"
      ],
      "metadata": {
        "colab": {
          "base_uri": "https://localhost:8080/"
        },
        "id": "E2tgcl4SQidA",
        "outputId": "654b56dc-a2c5-4da8-b08a-cb0dce587706"
      },
      "id": "E2tgcl4SQidA",
      "execution_count": 89,
      "outputs": [
        {
          "output_type": "stream",
          "name": "stdout",
          "text": [
            "+--------+---+----------+------+\n",
            "|    Name|Age|Experience|Salary|\n",
            "+--------+---+----------+------+\n",
            "|   Krish| 31|        10| 30000|\n",
            "|Shashank| 30|         8| 25000|\n",
            "|   Mihir| 29|         4| 20000|\n",
            "| Devansh| 24|         3| 20000|\n",
            "|  Pranav| 21|         1| 15000|\n",
            "| Shubham| 23|         2| 18000|\n",
            "+--------+---+----------+------+\n",
            "\n"
          ]
        }
      ]
    },
    {
      "cell_type": "code",
      "source": [
        "training.printSchema()"
      ],
      "metadata": {
        "colab": {
          "base_uri": "https://localhost:8080/"
        },
        "id": "oGfMvmgtQ4g7",
        "outputId": "12d0cac4-5a11-41a3-aaf4-9cf402ecfc3a"
      },
      "id": "oGfMvmgtQ4g7",
      "execution_count": 90,
      "outputs": [
        {
          "output_type": "stream",
          "name": "stdout",
          "text": [
            "root\n",
            " |-- Name: string (nullable = true)\n",
            " |-- Age: integer (nullable = true)\n",
            " |-- Experience: integer (nullable = true)\n",
            " |-- Salary: integer (nullable = true)\n",
            "\n"
          ]
        }
      ]
    },
    {
      "cell_type": "code",
      "source": [
        "training.columns"
      ],
      "metadata": {
        "colab": {
          "base_uri": "https://localhost:8080/"
        },
        "id": "5EuLcF4iRHoa",
        "outputId": "d04944ae-f766-4259-8f85-f89943b51bb4"
      },
      "id": "5EuLcF4iRHoa",
      "execution_count": 91,
      "outputs": [
        {
          "output_type": "execute_result",
          "data": {
            "text/plain": [
              "['Name', 'Age', 'Experience', 'Salary']"
            ]
          },
          "metadata": {},
          "execution_count": 91
        }
      ]
    },
    {
      "cell_type": "markdown",
      "source": [
        "[Age, Experience] ---> new feature ---> independent feature"
      ],
      "metadata": {
        "id": "DSaDV4CWRxP7"
      },
      "id": "DSaDV4CWRxP7"
    },
    {
      "cell_type": "code",
      "source": [
        "from pyspark.ml.feature import VectorAssembler\n",
        "featureassembler = VectorAssembler(inputCols = [\"Age\", \"Experience\"], outputCol = \"Independent Features\")"
      ],
      "metadata": {
        "id": "emwxteKCRJQM"
      },
      "id": "emwxteKCRJQM",
      "execution_count": 96,
      "outputs": []
    },
    {
      "cell_type": "code",
      "source": [
        "output = featureassembler.transform(training)"
      ],
      "metadata": {
        "id": "RR555zXKSjN-"
      },
      "id": "RR555zXKSjN-",
      "execution_count": 97,
      "outputs": []
    },
    {
      "cell_type": "code",
      "source": [
        "output.show()"
      ],
      "metadata": {
        "colab": {
          "base_uri": "https://localhost:8080/"
        },
        "id": "C3ikuEUfSrOO",
        "outputId": "3592b1a2-e25c-44fe-d99b-d708261d8bca"
      },
      "id": "C3ikuEUfSrOO",
      "execution_count": 98,
      "outputs": [
        {
          "output_type": "stream",
          "name": "stdout",
          "text": [
            "+--------+---+----------+------+--------------------+\n",
            "|    Name|Age|Experience|Salary|Independent Features|\n",
            "+--------+---+----------+------+--------------------+\n",
            "|   Krish| 31|        10| 30000|         [31.0,10.0]|\n",
            "|Shashank| 30|         8| 25000|          [30.0,8.0]|\n",
            "|   Mihir| 29|         4| 20000|          [29.0,4.0]|\n",
            "| Devansh| 24|         3| 20000|          [24.0,3.0]|\n",
            "|  Pranav| 21|         1| 15000|          [21.0,1.0]|\n",
            "| Shubham| 23|         2| 18000|          [23.0,2.0]|\n",
            "+--------+---+----------+------+--------------------+\n",
            "\n"
          ]
        }
      ]
    },
    {
      "cell_type": "code",
      "source": [
        "output.columns"
      ],
      "metadata": {
        "colab": {
          "base_uri": "https://localhost:8080/"
        },
        "id": "xIeKqnkOSsfb",
        "outputId": "ea787b68-a31f-4a9e-84d7-405a328d815f"
      },
      "id": "xIeKqnkOSsfb",
      "execution_count": 99,
      "outputs": [
        {
          "output_type": "execute_result",
          "data": {
            "text/plain": [
              "['Name', 'Age', 'Experience', 'Salary', 'Independent Features']"
            ]
          },
          "metadata": {},
          "execution_count": 99
        }
      ]
    },
    {
      "cell_type": "code",
      "source": [
        "finalized_data = output.select(\"Independent Features\", \"Salary\")\n",
        "finalized_data.show()"
      ],
      "metadata": {
        "colab": {
          "base_uri": "https://localhost:8080/"
        },
        "id": "KB1tmOHzTK7L",
        "outputId": "10b0d046-0ffd-4f11-a000-356b030d11df"
      },
      "id": "KB1tmOHzTK7L",
      "execution_count": 101,
      "outputs": [
        {
          "output_type": "stream",
          "name": "stdout",
          "text": [
            "+--------------------+------+\n",
            "|Independent Features|Salary|\n",
            "+--------------------+------+\n",
            "|         [31.0,10.0]| 30000|\n",
            "|          [30.0,8.0]| 25000|\n",
            "|          [29.0,4.0]| 20000|\n",
            "|          [24.0,3.0]| 20000|\n",
            "|          [21.0,1.0]| 15000|\n",
            "|          [23.0,2.0]| 18000|\n",
            "+--------------------+------+\n",
            "\n"
          ]
        }
      ]
    },
    {
      "cell_type": "markdown",
      "source": [
        "train test split"
      ],
      "metadata": {
        "id": "2oGwptueUMyX"
      },
      "id": "2oGwptueUMyX"
    },
    {
      "cell_type": "code",
      "source": [
        "train_data, test_data = finalized_data.randomSplit([0.75, 0.25])"
      ],
      "metadata": {
        "id": "l3hIA0wwUEWo"
      },
      "id": "l3hIA0wwUEWo",
      "execution_count": 102,
      "outputs": []
    },
    {
      "cell_type": "markdown",
      "source": [
        "Regeression Model"
      ],
      "metadata": {
        "id": "OW8DAYpHUX7X"
      },
      "id": "OW8DAYpHUX7X"
    },
    {
      "cell_type": "code",
      "source": [
        "from pyspark.ml.regression import LinearRegression\n",
        "regressor = LinearRegression(featuresCol = 'Independent Features', labelCol = 'Salary')\n",
        "regressor = regressor.fit(train_data)"
      ],
      "metadata": {
        "id": "V0a-bdhFUWwL"
      },
      "id": "V0a-bdhFUWwL",
      "execution_count": 103,
      "outputs": []
    },
    {
      "cell_type": "markdown",
      "source": [
        "Coefficients"
      ],
      "metadata": {
        "id": "Xtm2VxR7Vora"
      },
      "id": "Xtm2VxR7Vora"
    },
    {
      "cell_type": "code",
      "source": [
        "regressor.coefficients"
      ],
      "metadata": {
        "colab": {
          "base_uri": "https://localhost:8080/"
        },
        "id": "US_lEydMVk-Z",
        "outputId": "e9f1a0c7-4a4a-4c90-c8c2-43031af4ad0b"
      },
      "id": "US_lEydMVk-Z",
      "execution_count": 104,
      "outputs": [
        {
          "output_type": "execute_result",
          "data": {
            "text/plain": [
              "DenseVector([-250.0, 1750.0])"
            ]
          },
          "metadata": {},
          "execution_count": 104
        }
      ]
    },
    {
      "cell_type": "markdown",
      "source": [
        "Intercepts"
      ],
      "metadata": {
        "id": "qDIlCc8NVs87"
      },
      "id": "qDIlCc8NVs87"
    },
    {
      "cell_type": "code",
      "source": [
        "regressor.intercept"
      ],
      "metadata": {
        "colab": {
          "base_uri": "https://localhost:8080/"
        },
        "id": "Ru1nU1SZVsEA",
        "outputId": "45d87203-439c-4051-e23b-e804e42dd830"
      },
      "id": "Ru1nU1SZVsEA",
      "execution_count": 105,
      "outputs": [
        {
          "output_type": "execute_result",
          "data": {
            "text/plain": [
              "20250.000000000553"
            ]
          },
          "metadata": {},
          "execution_count": 105
        }
      ]
    },
    {
      "cell_type": "markdown",
      "source": [
        "Prediction"
      ],
      "metadata": {
        "id": "7m-opFfZV71N"
      },
      "id": "7m-opFfZV71N"
    },
    {
      "cell_type": "code",
      "source": [
        "pred_results = regressor.evaluate(test_data)\n",
        "pred_results.predictions.show()"
      ],
      "metadata": {
        "colab": {
          "base_uri": "https://localhost:8080/"
        },
        "id": "_qXMZKAPV0qa",
        "outputId": "c8b66897-79ae-40f7-d379-e7452a25d78d"
      },
      "id": "_qXMZKAPV0qa",
      "execution_count": 106,
      "outputs": [
        {
          "output_type": "stream",
          "name": "stderr",
          "text": [
            "/usr/local/lib/python3.7/dist-packages/pyspark/sql/context.py:127: FutureWarning: Deprecated in 3.0.0. Use SparkSession.builder.getOrCreate() instead.\n",
            "  FutureWarning\n"
          ]
        },
        {
          "output_type": "stream",
          "name": "stdout",
          "text": [
            "+--------------------+------+------------------+\n",
            "|Independent Features|Salary|        prediction|\n",
            "+--------------------+------+------------------+\n",
            "|          [21.0,1.0]| 15000| 16750.00000000008|\n",
            "|          [24.0,3.0]| 20000|19500.000000000044|\n",
            "|          [30.0,8.0]| 25000|26749.999999999993|\n",
            "+--------------------+------+------------------+\n",
            "\n"
          ]
        }
      ]
    },
    {
      "cell_type": "code",
      "source": [
        "pred_results.meanAbsoluteError, pred_results.meanSquaredError"
      ],
      "metadata": {
        "colab": {
          "base_uri": "https://localhost:8080/"
        },
        "id": "9WmsVlksWRFb",
        "outputId": "55c88e47-16a2-432c-f1d1-1ef9cd1b792f"
      },
      "id": "9WmsVlksWRFb",
      "execution_count": 108,
      "outputs": [
        {
          "output_type": "execute_result",
          "data": {
            "text/plain": [
              "(1333.333333333343, 2125000.0000000703)"
            ]
          },
          "metadata": {},
          "execution_count": 108
        }
      ]
    },
    {
      "cell_type": "markdown",
      "source": [
        "## MultiLinear Regression"
      ],
      "metadata": {
        "id": "0rIZd-2Obgls"
      },
      "id": "0rIZd-2Obgls"
    },
    {
      "cell_type": "code",
      "source": [
        "from pyspark.sql import SparkSession\n",
        "spark = SparkSession.builder.getOrCreate()"
      ],
      "metadata": {
        "id": "XGbyksuJWjch"
      },
      "id": "XGbyksuJWjch",
      "execution_count": 109,
      "outputs": []
    },
    {
      "cell_type": "code",
      "source": [
        "df = spark.read.csv('mldemo2.csv', header=True, inferSchema=True)\n",
        "df.show()"
      ],
      "metadata": {
        "colab": {
          "base_uri": "https://localhost:8080/"
        },
        "id": "yH55UvMEd299",
        "outputId": "a31a6ea0-9e1f-4509-b9d1-5fa2268d8108"
      },
      "id": "yH55UvMEd299",
      "execution_count": 111,
      "outputs": [
        {
          "output_type": "stream",
          "name": "stdout",
          "text": [
            "+----------+----+------+------+---+------+----+\n",
            "|total_bill| tip|   sex|smoker|day|  time|size|\n",
            "+----------+----+------+------+---+------+----+\n",
            "|     16.99|1.01|Female|    No|Sun|Dinner|   2|\n",
            "|     10.34|1.66|  Male|    No|Sun|Dinner|   3|\n",
            "|     21.01| 3.5|  Male|    No|Sun|Dinner|   3|\n",
            "|     23.68|3.31|  Male|    No|Sun|Dinner|   2|\n",
            "|     24.59|3.61|Female|    No|Sun|Dinner|   4|\n",
            "|     25.29|4.71|  Male|    No|Sun|Dinner|   4|\n",
            "|      8.77| 2.0|  Male|    No|Sun|Dinner|   2|\n",
            "|     26.88|3.12|  Male|    No|Sun|Dinner|   4|\n",
            "|     15.04|1.96|  Male|    No|Sun|Dinner|   2|\n",
            "|     14.78|3.23|  Male|    No|Sun|Dinner|   2|\n",
            "|     10.27|1.71|  Male|    No|Sun|Dinner|   2|\n",
            "|     35.26| 5.0|Female|    No|Sun|Dinner|   4|\n",
            "|     15.42|1.57|  Male|    No|Sun|Dinner|   2|\n",
            "|     18.43| 3.0|  Male|    No|Sun|Dinner|   4|\n",
            "|     14.83|3.02|Female|    No|Sun|Dinner|   2|\n",
            "|     21.58|3.92|  Male|    No|Sun|Dinner|   2|\n",
            "|     10.33|1.67|Female|    No|Sun|Dinner|   3|\n",
            "|     16.29|3.71|  Male|    No|Sun|Dinner|   3|\n",
            "|     16.97| 3.5|Female|    No|Sun|Dinner|   3|\n",
            "|     20.65|3.35|  Male|    No|Sat|Dinner|   3|\n",
            "+----------+----+------+------+---+------+----+\n",
            "only showing top 20 rows\n",
            "\n"
          ]
        }
      ]
    },
    {
      "cell_type": "code",
      "source": [
        "df.printSchema()"
      ],
      "metadata": {
        "colab": {
          "base_uri": "https://localhost:8080/"
        },
        "id": "1yYYDLEcd9FK",
        "outputId": "467515b3-195d-4613-9e8c-f580bfe553d5"
      },
      "id": "1yYYDLEcd9FK",
      "execution_count": 112,
      "outputs": [
        {
          "output_type": "stream",
          "name": "stdout",
          "text": [
            "root\n",
            " |-- total_bill: double (nullable = true)\n",
            " |-- tip: double (nullable = true)\n",
            " |-- sex: string (nullable = true)\n",
            " |-- smoker: string (nullable = true)\n",
            " |-- day: string (nullable = true)\n",
            " |-- time: string (nullable = true)\n",
            " |-- size: integer (nullable = true)\n",
            "\n"
          ]
        }
      ]
    },
    {
      "cell_type": "code",
      "source": [
        "df.columns"
      ],
      "metadata": {
        "colab": {
          "base_uri": "https://localhost:8080/"
        },
        "id": "KmphZgudeDdt",
        "outputId": "cfab68d7-a631-4260-d4dc-a89f5ad72645"
      },
      "id": "KmphZgudeDdt",
      "execution_count": 113,
      "outputs": [
        {
          "output_type": "execute_result",
          "data": {
            "text/plain": [
              "['total_bill', 'tip', 'sex', 'smoker', 'day', 'time', 'size']"
            ]
          },
          "metadata": {},
          "execution_count": 113
        }
      ]
    },
    {
      "cell_type": "markdown",
      "source": [
        "### Handling categorical features"
      ],
      "metadata": {
        "id": "b-WSAXObeZGg"
      },
      "id": "b-WSAXObeZGg"
    },
    {
      "cell_type": "code",
      "source": [
        "from pyspark.ml.feature import StringIndexer\n",
        "indexer = StringIndexer(inputCols=[\"sex\",\"smoker\",\"day\",\"time\"], outputCols = [\"sex_indexed\", \"smoker_indexed\",\"day_indexed\",\"time_indexed\"])\n",
        "df_r = indexer.fit(df).transform(df)\n",
        "df_r.show()"
      ],
      "metadata": {
        "colab": {
          "base_uri": "https://localhost:8080/"
        },
        "id": "RkSaVM_eeVAk",
        "outputId": "00bf23a9-22c0-4181-e882-809be1fb3210"
      },
      "id": "RkSaVM_eeVAk",
      "execution_count": 115,
      "outputs": [
        {
          "output_type": "stream",
          "name": "stdout",
          "text": [
            "+----------+----+------+------+---+------+----+-----------+--------------+-----------+------------+\n",
            "|total_bill| tip|   sex|smoker|day|  time|size|sex_indexed|smoker_indexed|day_indexed|time_indexed|\n",
            "+----------+----+------+------+---+------+----+-----------+--------------+-----------+------------+\n",
            "|     16.99|1.01|Female|    No|Sun|Dinner|   2|        1.0|           0.0|        1.0|         0.0|\n",
            "|     10.34|1.66|  Male|    No|Sun|Dinner|   3|        0.0|           0.0|        1.0|         0.0|\n",
            "|     21.01| 3.5|  Male|    No|Sun|Dinner|   3|        0.0|           0.0|        1.0|         0.0|\n",
            "|     23.68|3.31|  Male|    No|Sun|Dinner|   2|        0.0|           0.0|        1.0|         0.0|\n",
            "|     24.59|3.61|Female|    No|Sun|Dinner|   4|        1.0|           0.0|        1.0|         0.0|\n",
            "|     25.29|4.71|  Male|    No|Sun|Dinner|   4|        0.0|           0.0|        1.0|         0.0|\n",
            "|      8.77| 2.0|  Male|    No|Sun|Dinner|   2|        0.0|           0.0|        1.0|         0.0|\n",
            "|     26.88|3.12|  Male|    No|Sun|Dinner|   4|        0.0|           0.0|        1.0|         0.0|\n",
            "|     15.04|1.96|  Male|    No|Sun|Dinner|   2|        0.0|           0.0|        1.0|         0.0|\n",
            "|     14.78|3.23|  Male|    No|Sun|Dinner|   2|        0.0|           0.0|        1.0|         0.0|\n",
            "|     10.27|1.71|  Male|    No|Sun|Dinner|   2|        0.0|           0.0|        1.0|         0.0|\n",
            "|     35.26| 5.0|Female|    No|Sun|Dinner|   4|        1.0|           0.0|        1.0|         0.0|\n",
            "|     15.42|1.57|  Male|    No|Sun|Dinner|   2|        0.0|           0.0|        1.0|         0.0|\n",
            "|     18.43| 3.0|  Male|    No|Sun|Dinner|   4|        0.0|           0.0|        1.0|         0.0|\n",
            "|     14.83|3.02|Female|    No|Sun|Dinner|   2|        1.0|           0.0|        1.0|         0.0|\n",
            "|     21.58|3.92|  Male|    No|Sun|Dinner|   2|        0.0|           0.0|        1.0|         0.0|\n",
            "|     10.33|1.67|Female|    No|Sun|Dinner|   3|        1.0|           0.0|        1.0|         0.0|\n",
            "|     16.29|3.71|  Male|    No|Sun|Dinner|   3|        0.0|           0.0|        1.0|         0.0|\n",
            "|     16.97| 3.5|Female|    No|Sun|Dinner|   3|        1.0|           0.0|        1.0|         0.0|\n",
            "|     20.65|3.35|  Male|    No|Sat|Dinner|   3|        0.0|           0.0|        0.0|         0.0|\n",
            "+----------+----+------+------+---+------+----+-----------+--------------+-----------+------------+\n",
            "only showing top 20 rows\n",
            "\n"
          ]
        }
      ]
    },
    {
      "cell_type": "code",
      "source": [
        "from pyspark.ml.feature import VectorAssembler\n",
        "featureAssembler = VectorAssembler(inputCols=['tip','size','sex_indexed','smoker_indexed','day_indexed','time_indexed'],\n",
        "               outputCol = \"Independent Features\")\n",
        "output = featureAssembler.transform(df_r)\n",
        "output.show()"
      ],
      "metadata": {
        "colab": {
          "base_uri": "https://localhost:8080/"
        },
        "id": "MrX-edsZe-UK",
        "outputId": "23a44c41-12ca-49a1-8d6c-05463187abfa"
      },
      "id": "MrX-edsZe-UK",
      "execution_count": 120,
      "outputs": [
        {
          "output_type": "stream",
          "name": "stdout",
          "text": [
            "+----------+----+------+------+---+------+----+-----------+--------------+-----------+------------+--------------------+\n",
            "|total_bill| tip|   sex|smoker|day|  time|size|sex_indexed|smoker_indexed|day_indexed|time_indexed|Independent Features|\n",
            "+----------+----+------+------+---+------+----+-----------+--------------+-----------+------------+--------------------+\n",
            "|     16.99|1.01|Female|    No|Sun|Dinner|   2|        1.0|           0.0|        1.0|         0.0|[1.01,2.0,1.0,0.0...|\n",
            "|     10.34|1.66|  Male|    No|Sun|Dinner|   3|        0.0|           0.0|        1.0|         0.0|[1.66,3.0,0.0,0.0...|\n",
            "|     21.01| 3.5|  Male|    No|Sun|Dinner|   3|        0.0|           0.0|        1.0|         0.0|[3.5,3.0,0.0,0.0,...|\n",
            "|     23.68|3.31|  Male|    No|Sun|Dinner|   2|        0.0|           0.0|        1.0|         0.0|[3.31,2.0,0.0,0.0...|\n",
            "|     24.59|3.61|Female|    No|Sun|Dinner|   4|        1.0|           0.0|        1.0|         0.0|[3.61,4.0,1.0,0.0...|\n",
            "|     25.29|4.71|  Male|    No|Sun|Dinner|   4|        0.0|           0.0|        1.0|         0.0|[4.71,4.0,0.0,0.0...|\n",
            "|      8.77| 2.0|  Male|    No|Sun|Dinner|   2|        0.0|           0.0|        1.0|         0.0|[2.0,2.0,0.0,0.0,...|\n",
            "|     26.88|3.12|  Male|    No|Sun|Dinner|   4|        0.0|           0.0|        1.0|         0.0|[3.12,4.0,0.0,0.0...|\n",
            "|     15.04|1.96|  Male|    No|Sun|Dinner|   2|        0.0|           0.0|        1.0|         0.0|[1.96,2.0,0.0,0.0...|\n",
            "|     14.78|3.23|  Male|    No|Sun|Dinner|   2|        0.0|           0.0|        1.0|         0.0|[3.23,2.0,0.0,0.0...|\n",
            "|     10.27|1.71|  Male|    No|Sun|Dinner|   2|        0.0|           0.0|        1.0|         0.0|[1.71,2.0,0.0,0.0...|\n",
            "|     35.26| 5.0|Female|    No|Sun|Dinner|   4|        1.0|           0.0|        1.0|         0.0|[5.0,4.0,1.0,0.0,...|\n",
            "|     15.42|1.57|  Male|    No|Sun|Dinner|   2|        0.0|           0.0|        1.0|         0.0|[1.57,2.0,0.0,0.0...|\n",
            "|     18.43| 3.0|  Male|    No|Sun|Dinner|   4|        0.0|           0.0|        1.0|         0.0|[3.0,4.0,0.0,0.0,...|\n",
            "|     14.83|3.02|Female|    No|Sun|Dinner|   2|        1.0|           0.0|        1.0|         0.0|[3.02,2.0,1.0,0.0...|\n",
            "|     21.58|3.92|  Male|    No|Sun|Dinner|   2|        0.0|           0.0|        1.0|         0.0|[3.92,2.0,0.0,0.0...|\n",
            "|     10.33|1.67|Female|    No|Sun|Dinner|   3|        1.0|           0.0|        1.0|         0.0|[1.67,3.0,1.0,0.0...|\n",
            "|     16.29|3.71|  Male|    No|Sun|Dinner|   3|        0.0|           0.0|        1.0|         0.0|[3.71,3.0,0.0,0.0...|\n",
            "|     16.97| 3.5|Female|    No|Sun|Dinner|   3|        1.0|           0.0|        1.0|         0.0|[3.5,3.0,1.0,0.0,...|\n",
            "|     20.65|3.35|  Male|    No|Sat|Dinner|   3|        0.0|           0.0|        0.0|         0.0|(6,[0,1],[3.35,3.0])|\n",
            "+----------+----+------+------+---+------+----+-----------+--------------+-----------+------------+--------------------+\n",
            "only showing top 20 rows\n",
            "\n"
          ]
        }
      ]
    },
    {
      "cell_type": "code",
      "source": [
        "output.select(\"Independent Features\").show()"
      ],
      "metadata": {
        "colab": {
          "base_uri": "https://localhost:8080/"
        },
        "id": "na5S-dyFgHad",
        "outputId": "ec21e002-fca4-4ad1-f37d-63113fafd135"
      },
      "id": "na5S-dyFgHad",
      "execution_count": 124,
      "outputs": [
        {
          "output_type": "stream",
          "name": "stdout",
          "text": [
            "+--------------------+\n",
            "|Independent Features|\n",
            "+--------------------+\n",
            "|[1.01,2.0,1.0,0.0...|\n",
            "|[1.66,3.0,0.0,0.0...|\n",
            "|[3.5,3.0,0.0,0.0,...|\n",
            "|[3.31,2.0,0.0,0.0...|\n",
            "|[3.61,4.0,1.0,0.0...|\n",
            "|[4.71,4.0,0.0,0.0...|\n",
            "|[2.0,2.0,0.0,0.0,...|\n",
            "|[3.12,4.0,0.0,0.0...|\n",
            "|[1.96,2.0,0.0,0.0...|\n",
            "|[3.23,2.0,0.0,0.0...|\n",
            "|[1.71,2.0,0.0,0.0...|\n",
            "|[5.0,4.0,1.0,0.0,...|\n",
            "|[1.57,2.0,0.0,0.0...|\n",
            "|[3.0,4.0,0.0,0.0,...|\n",
            "|[3.02,2.0,1.0,0.0...|\n",
            "|[3.92,2.0,0.0,0.0...|\n",
            "|[1.67,3.0,1.0,0.0...|\n",
            "|[3.71,3.0,0.0,0.0...|\n",
            "|[3.5,3.0,1.0,0.0,...|\n",
            "|(6,[0,1],[3.35,3.0])|\n",
            "+--------------------+\n",
            "only showing top 20 rows\n",
            "\n"
          ]
        }
      ]
    },
    {
      "cell_type": "code",
      "source": [
        "finalizedData = output.select(\"Independent Features\",\"total_bill\")\n",
        "finalizedData.show()"
      ],
      "metadata": {
        "colab": {
          "base_uri": "https://localhost:8080/"
        },
        "id": "bFGEjdUthOuV",
        "outputId": "44c289a3-8a0c-4e89-fcda-ea9dc81dc31d"
      },
      "id": "bFGEjdUthOuV",
      "execution_count": 126,
      "outputs": [
        {
          "output_type": "stream",
          "name": "stdout",
          "text": [
            "+--------------------+----------+\n",
            "|Independent Features|total_bill|\n",
            "+--------------------+----------+\n",
            "|[1.01,2.0,1.0,0.0...|     16.99|\n",
            "|[1.66,3.0,0.0,0.0...|     10.34|\n",
            "|[3.5,3.0,0.0,0.0,...|     21.01|\n",
            "|[3.31,2.0,0.0,0.0...|     23.68|\n",
            "|[3.61,4.0,1.0,0.0...|     24.59|\n",
            "|[4.71,4.0,0.0,0.0...|     25.29|\n",
            "|[2.0,2.0,0.0,0.0,...|      8.77|\n",
            "|[3.12,4.0,0.0,0.0...|     26.88|\n",
            "|[1.96,2.0,0.0,0.0...|     15.04|\n",
            "|[3.23,2.0,0.0,0.0...|     14.78|\n",
            "|[1.71,2.0,0.0,0.0...|     10.27|\n",
            "|[5.0,4.0,1.0,0.0,...|     35.26|\n",
            "|[1.57,2.0,0.0,0.0...|     15.42|\n",
            "|[3.0,4.0,0.0,0.0,...|     18.43|\n",
            "|[3.02,2.0,1.0,0.0...|     14.83|\n",
            "|[3.92,2.0,0.0,0.0...|     21.58|\n",
            "|[1.67,3.0,1.0,0.0...|     10.33|\n",
            "|[3.71,3.0,0.0,0.0...|     16.29|\n",
            "|[3.5,3.0,1.0,0.0,...|     16.97|\n",
            "|(6,[0,1],[3.35,3.0])|     20.65|\n",
            "+--------------------+----------+\n",
            "only showing top 20 rows\n",
            "\n"
          ]
        }
      ]
    },
    {
      "cell_type": "code",
      "source": [
        "from pyspark.ml.regression import LinearRegression\n",
        "train_data, test_data = finalizedData.randomSplit([0.75, 0.25])\n",
        "regressor = LinearRegression(featuresCol = \"Independent Features\", labelCol = \"total_bill\")\n",
        "regressor = regressor.fit(train_data)"
      ],
      "metadata": {
        "id": "XLNI5EUnhsyT"
      },
      "id": "XLNI5EUnhsyT",
      "execution_count": 127,
      "outputs": []
    },
    {
      "cell_type": "code",
      "source": [
        "regressor.coefficients"
      ],
      "metadata": {
        "colab": {
          "base_uri": "https://localhost:8080/"
        },
        "id": "KQwc87r4iF4X",
        "outputId": "5e3cdf1b-b927-4122-ea6e-6e0fecfe9121"
      },
      "id": "KQwc87r4iF4X",
      "execution_count": 128,
      "outputs": [
        {
          "output_type": "execute_result",
          "data": {
            "text/plain": [
              "DenseVector([2.9429, 3.4637, -1.2533, 0.8428, 0.0573, -1.6568])"
            ]
          },
          "metadata": {},
          "execution_count": 128
        }
      ]
    },
    {
      "cell_type": "code",
      "source": [
        "regressor.intercept"
      ],
      "metadata": {
        "colab": {
          "base_uri": "https://localhost:8080/"
        },
        "id": "SNJ7G9r8iIvG",
        "outputId": "986fee09-03e3-41c8-883a-dd8377eb5df7"
      },
      "id": "SNJ7G9r8iIvG",
      "execution_count": 129,
      "outputs": [
        {
          "output_type": "execute_result",
          "data": {
            "text/plain": [
              "2.403276150548062"
            ]
          },
          "metadata": {},
          "execution_count": 129
        }
      ]
    },
    {
      "cell_type": "code",
      "source": [
        "pred_results = regressor.evaluate(test_data)\n",
        "pred_results.predictions.show()"
      ],
      "metadata": {
        "colab": {
          "base_uri": "https://localhost:8080/"
        },
        "id": "02vw_ExliOj_",
        "outputId": "feb2e790-6436-44af-d6a3-042e15cfcb30"
      },
      "id": "02vw_ExliOj_",
      "execution_count": 131,
      "outputs": [
        {
          "output_type": "stream",
          "name": "stderr",
          "text": [
            "/usr/local/lib/python3.7/dist-packages/pyspark/sql/context.py:127: FutureWarning: Deprecated in 3.0.0. Use SparkSession.builder.getOrCreate() instead.\n",
            "  FutureWarning\n"
          ]
        },
        {
          "output_type": "stream",
          "name": "stdout",
          "text": [
            "+--------------------+----------+------------------+\n",
            "|Independent Features|total_bill|        prediction|\n",
            "+--------------------+----------+------------------+\n",
            "|(6,[0,1],[1.25,2.0])|     10.51|13.009362154457783|\n",
            "| (6,[0,1],[2.0,2.0])|     12.69|15.216521403313156|\n",
            "|(6,[0,1],[2.31,3.0])|     18.69| 19.59255752074876|\n",
            "|(6,[0,1],[2.64,3.0])|     17.59|20.563707590245123|\n",
            "| (6,[0,1],[3.0,4.0])|     20.45|25.086887657604418|\n",
            "|(6,[0,1],[3.15,3.0])|     20.08|22.064575879466776|\n",
            "|(6,[0,1],[3.35,3.0])|     20.65|22.653151679161542|\n",
            "|(6,[0,1],[3.39,2.0])|     11.61|19.307123211191783|\n",
            "|(6,[0,1],[3.76,2.0])|     18.24|  20.3959884406271|\n",
            "|(6,[0,1],[4.08,2.0])|     17.92| 21.33770972013873|\n",
            "| (6,[0,1],[4.3,2.0])|      21.7|21.985143099802972|\n",
            "| (6,[0,1],[5.0,3.0])|     31.27|27.508902026643366|\n",
            "|[1.0,1.0,1.0,0.0,...|      7.25| 7.556587529606366|\n",
            "|[1.0,1.0,1.0,1.0,...|      3.07| 8.399425326309618|\n",
            "|[1.17,2.0,0.0,1.0...|     32.83|13.616769631283127|\n",
            "|[1.32,2.0,0.0,0.0...|      9.68|13.272633064859107|\n",
            "|[1.36,3.0,1.0,0.0...|     18.64|14.001225133512143|\n",
            "|[1.44,2.0,0.0,0.0...|      7.56|12.026223072805578|\n",
            "|[1.48,2.0,0.0,0.0...|      8.52|12.143938232744532|\n",
            "|[1.5,2.0,0.0,0.0,...|     19.08|12.202795812714008|\n",
            "+--------------------+----------+------------------+\n",
            "only showing top 20 rows\n",
            "\n"
          ]
        }
      ]
    },
    {
      "cell_type": "code",
      "source": [
        "pred_results.meanAbsoluteError, pred_results.meanSquaredError"
      ],
      "metadata": {
        "colab": {
          "base_uri": "https://localhost:8080/"
        },
        "id": "S0ylbMIwiWR7",
        "outputId": "6f1331aa-3855-4785-df73-2eeb54a55f7d"
      },
      "id": "S0ylbMIwiWR7",
      "execution_count": 132,
      "outputs": [
        {
          "output_type": "execute_result",
          "data": {
            "text/plain": [
              "(4.934769318637713, 48.24977436965849)"
            ]
          },
          "metadata": {},
          "execution_count": 132
        }
      ]
    },
    {
      "cell_type": "code",
      "source": [
        ""
      ],
      "metadata": {
        "id": "uCvm7V-uinPf"
      },
      "id": "uCvm7V-uinPf",
      "execution_count": null,
      "outputs": []
    }
  ],
  "metadata": {
    "kernelspec": {
      "display_name": "Python 3 (ipykernel)",
      "language": "python",
      "name": "python3"
    },
    "language_info": {
      "codemirror_mode": {
        "name": "ipython",
        "version": 3
      },
      "file_extension": ".py",
      "mimetype": "text/x-python",
      "name": "python",
      "nbconvert_exporter": "python",
      "pygments_lexer": "ipython3",
      "version": "3.10.0"
    },
    "colab": {
      "name": "PySpark Krish Naik.ipynb",
      "provenance": [],
      "collapsed_sections": []
    }
  },
  "nbformat": 4,
  "nbformat_minor": 5
}