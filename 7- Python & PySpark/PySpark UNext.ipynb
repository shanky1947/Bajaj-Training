{
  "nbformat": 4,
  "nbformat_minor": 0,
  "metadata": {
    "colab": {
      "name": "Bajaj.ipynb",
      "provenance": []
    },
    "kernelspec": {
      "name": "python3",
      "display_name": "Python 3"
    },
    "language_info": {
      "name": "python"
    }
  },
  "cells": [
    {
      "cell_type": "code",
      "execution_count": null,
      "metadata": {
        "colab": {
          "base_uri": "https://localhost:8080/"
        },
        "id": "zP_7Zg26nYMZ",
        "outputId": "9c9e662b-1338-427f-81c9-2c4ee3f765ff"
      },
      "outputs": [
        {
          "output_type": "stream",
          "name": "stdout",
          "text": [
            "Hello all we are learning Python...\n"
          ]
        }
      ],
      "source": [
        "print(\"Hello all we are learning Python...\")"
      ]
    },
    {
      "cell_type": "code",
      "source": [
        "#Data Types\n",
        "#Numeric Datatypes\n",
        "#int\n",
        "a=50\n",
        "print(a) \n",
        "#float\n",
        "b=52.6\n",
        "print(b)\n",
        "#complex\n",
        "d=89+4j\n",
        "print(d)\n",
        "#int type\n",
        "type(50)\n",
        "#float type\n",
        "type(52.2)\n",
        "#complex type\n",
        "type(78+9j)"
      ],
      "metadata": {
        "colab": {
          "base_uri": "https://localhost:8080/"
        },
        "id": "2gY_aYJV1Df8",
        "outputId": "e7587cc5-2d59-42d0-dd2a-7bd0dd128d57"
      },
      "execution_count": null,
      "outputs": [
        {
          "output_type": "stream",
          "name": "stdout",
          "text": [
            "50\n",
            "52.6\n",
            "(89+4j)\n"
          ]
        },
        {
          "output_type": "execute_result",
          "data": {
            "text/plain": [
              "complex"
            ]
          },
          "metadata": {},
          "execution_count": 7
        }
      ]
    },
    {
      "cell_type": "code",
      "source": [
        "#List Datatype\n",
        "list = [\"Ajay\",\"Ramesh\",\"Koushik\",\"Ajay\",\"Priya\",\"Siddarth\"]\n",
        "#list.insert(0,\"Sneha\")  #inserting the values into list\n",
        "#list.insert(5,\"Rahul\")\n",
        "#list.index(\"Siddarth\") #index of the values\n",
        "#list.count(\"Ajay\")\n",
        "#list.sort()\n",
        "del list[2]  #for delete \n",
        "print(list)"
      ],
      "metadata": {
        "colab": {
          "base_uri": "https://localhost:8080/"
        },
        "id": "oZaG_j4F9wXK",
        "outputId": "81ab77c4-eac2-4900-a325-69fde6ef1f96"
      },
      "execution_count": null,
      "outputs": [
        {
          "output_type": "stream",
          "name": "stdout",
          "text": [
            "['Ajay', 'Ramesh', 'Ajay', 'Priya', 'Siddarth']\n"
          ]
        }
      ]
    },
    {
      "cell_type": "code",
      "source": [
        "#Tuple datatypes\n",
        "tuple=(\"apple\",\"banana\",\"mango\",\"grapes\")\n",
        "#tuple=tuple*10\n",
        "print(tuple[0:3])\n",
        "#print(tuple)"
      ],
      "metadata": {
        "colab": {
          "base_uri": "https://localhost:8080/"
        },
        "id": "is7twQyfF_GQ",
        "outputId": "d6ea9315-4e25-4a3e-b96c-350b32e1f21a"
      },
      "execution_count": null,
      "outputs": [
        {
          "output_type": "stream",
          "name": "stdout",
          "text": [
            "('apple', 'banana', 'mango')\n"
          ]
        }
      ]
    },
    {
      "cell_type": "code",
      "source": [
        "#Set Datatypes\n",
        "a={1,2,3,4,4,6,7}\n",
        "b={3,5,4,2}\n",
        "#print(a | b) #union operation\n",
        "#print(a & b) #intersection opeartion\n",
        "#print(a - b) #DIfference operation\n",
        "#print(b - a)\n",
        "print (a ^ b) #symmetric Difference operation"
      ],
      "metadata": {
        "colab": {
          "base_uri": "https://localhost:8080/"
        },
        "id": "Im523cOPHXN5",
        "outputId": "284b9138-b070-471a-f5ff-148e87362ac6"
      },
      "execution_count": null,
      "outputs": [
        {
          "output_type": "stream",
          "name": "stdout",
          "text": [
            "{1, 5, 6, 7}\n"
          ]
        }
      ]
    },
    {
      "cell_type": "code",
      "source": [
        "#Dictionaries datatypes\n",
        "pizza ={ \"name\":[\"cheese\",\"paneer\"],\n",
        "         \"codes\":[\"789\",\"123\"],\n",
        "         \"Shop\":[\"dominos\",\"pizzahut\"]\n",
        "        }\n",
        "#print(pizza.keys()) #for only keys\n",
        "#print(pizza.values()) #for values\n",
        "#pizza[\"location\"]=[\"Delhi\",\"Mumbai\"]\n",
        "len(pizza) #lenght of dictionaries\n",
        "\n",
        "#print(pizza)"
      ],
      "metadata": {
        "colab": {
          "base_uri": "https://localhost:8080/"
        },
        "id": "CGMPdH6VKDqh",
        "outputId": "e74cdaf5-1ad5-4aa3-f4d2-d745cead006c"
      },
      "execution_count": null,
      "outputs": [
        {
          "output_type": "execute_result",
          "data": {
            "text/plain": [
              "3"
            ]
          },
          "metadata": {},
          "execution_count": 40
        }
      ]
    },
    {
      "cell_type": "code",
      "source": [
        "#String dataypes\n",
        "string=\"Hello Bajaj Team How are you and we are happy\"\n",
        "#print(string)\n",
        "#print(len(string)) #to know lenght of the string\n",
        "#print(string.index(\"B\")) # to know the index\n",
        "#print(string.count(\"H\")) # to count character\n",
        "#print(string.upper())  # for upper case\n",
        "#print(string.lower()) #for lower case\n",
        "#print(string.replace(\" \" ,\" .\")) #each word seperated with .\n",
        "print(string.replace('','.')) #ech letter seperated with .\n",
        "\n"
      ],
      "metadata": {
        "colab": {
          "base_uri": "https://localhost:8080/"
        },
        "id": "wvlOcPQSNJZn",
        "outputId": "9eadcc4a-7225-4d2a-e79b-41cc357adddd"
      },
      "execution_count": null,
      "outputs": [
        {
          "output_type": "stream",
          "name": "stdout",
          "text": [
            ".H.e.l.l.o. .B.a.j.a.j. .T.e.a.m. .H.o.w. .a.r.e. .y.o.u. .a.n.d. .w.e. .a.r.e. .h.a.p.p.y.\n"
          ]
        }
      ]
    },
    {
      "cell_type": "code",
      "source": [
        "#String slicing\n",
        "str=\"Bajaj infotech\"\n",
        "#print(str)\n",
        "#print(str[1:4])\n",
        "#print(str[1:])\n",
        "#print(str[1:-4])\n",
        "#print(str[:-2])\n",
        "print(str[0:14:3])"
      ],
      "metadata": {
        "colab": {
          "base_uri": "https://localhost:8080/"
        },
        "id": "6aDMgTiKRWVE",
        "outputId": "f74337a9-f2e4-4434-c12b-ab00c185a996"
      },
      "execution_count": null,
      "outputs": [
        {
          "output_type": "stream",
          "name": "stdout",
          "text": [
            "Baioc\n"
          ]
        }
      ]
    },
    {
      "cell_type": "code",
      "source": [
        "#Python Operators\n",
        "#Arithmetic operator\n",
        "a =25\n",
        "x =5\n",
        "print(a+x) #add\n",
        "print(a-x) #sub\n",
        "print(a/x) #div\n",
        "print(a*x) #mul\n",
        "print(a%x) #mod\n",
        "print(a//x) #floor division\n",
        "print(a**x) #exponentiation"
      ],
      "metadata": {
        "colab": {
          "base_uri": "https://localhost:8080/"
        },
        "id": "vOGlD_boY_TB",
        "outputId": "89da5a5d-0d2c-4808-9301-f8584013d7ab"
      },
      "execution_count": null,
      "outputs": [
        {
          "output_type": "stream",
          "name": "stdout",
          "text": [
            "30\n",
            "20\n",
            "5.0\n",
            "125\n",
            "0\n",
            "5\n",
            "9765625\n"
          ]
        }
      ]
    },
    {
      "cell_type": "code",
      "source": [
        "#comparision operators\n",
        "s=12\n",
        "d=12\n",
        "\n",
        "if s==d:\n",
        "  print(\"s is equal to d\")\n",
        "if s<d:\n",
        "  print(\"s is less than d\")\n",
        "if s>d:\n",
        "  print(\"s is greater than d\")\n",
        "if s<=d:\n",
        "  print(\"s is less than or equal to  d\")\n",
        "if s>=d:\n",
        "  print(\"s is greater than or equal to d\")\n",
        "\n"
      ],
      "metadata": {
        "colab": {
          "base_uri": "https://localhost:8080/"
        },
        "id": "5SaLLRzEazPv",
        "outputId": "b8f6291a-2cef-4fd0-c635-7ac17a9e1c97"
      },
      "execution_count": null,
      "outputs": [
        {
          "output_type": "stream",
          "name": "stdout",
          "text": [
            "s is equal to d\n",
            "s is less than or equal to  d\n",
            "s is greater than or equal to d\n"
          ]
        }
      ]
    },
    {
      "cell_type": "code",
      "source": [
        "#logical operators\n",
        "#AND operation               truth table for and (a=0 b=0  c=0),(a=0  b=1  c=0),(a=1  b=0  c=0), (a=1 b=1   c=1)\n",
        "a=True\n",
        "b=True\n",
        "#print (a and b)\n",
        "\n",
        "\n",
        "#OR operation                truth table for or (a=0 b=0  c=0),(a=0  b=1  c=1),(a=1  b=0  c=1), (a=1 b=1   c=1)\n",
        "\n",
        "q =True\n",
        "e =False\n",
        "#print (q or e)\n",
        "\n",
        "#NOT operation \n",
        "a= True\n",
        "print(not a)\n",
        "\n"
      ],
      "metadata": {
        "colab": {
          "base_uri": "https://localhost:8080/"
        },
        "id": "oIDhzxwtdmpY",
        "outputId": "4a4e8308-da00-4269-ec11-b8dfe5bbb5fb"
      },
      "execution_count": null,
      "outputs": [
        {
          "output_type": "stream",
          "name": "stdout",
          "text": [
            "False\n"
          ]
        }
      ]
    },
    {
      "cell_type": "code",
      "source": [
        "#Identity operators          is and is not\n",
        "a= 5\n",
        "b= 4\n",
        "if a is b:\n",
        "  print(\"similor\")\n",
        "if a is not b:\n",
        "  print(\"not similor\")"
      ],
      "metadata": {
        "colab": {
          "base_uri": "https://localhost:8080/"
        },
        "id": "9a22yZ10fPZK",
        "outputId": "5f495d29-6ee4-479c-d82a-b5851b5df50c"
      },
      "execution_count": null,
      "outputs": [
        {
          "output_type": "stream",
          "name": "stdout",
          "text": [
            "not similor\n"
          ]
        }
      ]
    },
    {
      "cell_type": "code",
      "source": [
        "#Membership operators       in and not in\n",
        "#tuple\n",
        "a=(45,89,2,78,53)\n",
        "if 45 in a:\n",
        "  print(\"Yes this number is available\")\n",
        "if 9 not in a:\n",
        "  print(\"No this number not available\")"
      ],
      "metadata": {
        "colab": {
          "base_uri": "https://localhost:8080/"
        },
        "id": "ThA1Pse8f4ag",
        "outputId": "f9b3503e-2911-4523-f81b-84ca4ff715c2"
      },
      "execution_count": null,
      "outputs": [
        {
          "output_type": "stream",
          "name": "stdout",
          "text": [
            "Yes this number is available\n",
            "No this number not available\n"
          ]
        }
      ]
    },
    {
      "cell_type": "code",
      "source": [
        "#list \n",
        "s=[89,56,21,30,4]\n",
        "if 21 in s:\n",
        "  print(\"Yes this number is available\")\n",
        "if 9 not in a:\n",
        "  print(\"No this number not available\")"
      ],
      "metadata": {
        "colab": {
          "base_uri": "https://localhost:8080/"
        },
        "id": "ho9ftbDihgQt",
        "outputId": "7b49f421-23f2-4c76-e8d3-aab4a6a3ab12"
      },
      "execution_count": null,
      "outputs": [
        {
          "output_type": "stream",
          "name": "stdout",
          "text": [
            "Yes this number is available\n",
            "No this number not available\n"
          ]
        }
      ]
    },
    {
      "cell_type": "code",
      "source": [
        "#Assighment operators\n",
        "x =5\n",
        "x +=3                     #x=x+3\n",
        "print(x)"
      ],
      "metadata": {
        "colab": {
          "base_uri": "https://localhost:8080/"
        },
        "id": "B1G1axSxhpv7",
        "outputId": "4285e1a0-ab70-498d-eb60-28781510a179"
      },
      "execution_count": null,
      "outputs": [
        {
          "output_type": "stream",
          "name": "stdout",
          "text": [
            "8\n"
          ]
        }
      ]
    },
    {
      "cell_type": "code",
      "source": [
        "x =56\n",
        "x -=21\n",
        "print(x)"
      ],
      "metadata": {
        "colab": {
          "base_uri": "https://localhost:8080/"
        },
        "id": "dmGFI3V9iH-2",
        "outputId": "3f49923e-667c-4af2-b628-4589daa36466"
      },
      "execution_count": null,
      "outputs": [
        {
          "output_type": "stream",
          "name": "stdout",
          "text": [
            "35\n"
          ]
        }
      ]
    },
    {
      "cell_type": "code",
      "source": [
        "s = 5\n",
        "s *=25\n",
        "print(s)"
      ],
      "metadata": {
        "colab": {
          "base_uri": "https://localhost:8080/"
        },
        "id": "hbUKMjvJiRiW",
        "outputId": "ce6da477-e181-4c84-f347-f6e23d527d19"
      },
      "execution_count": null,
      "outputs": [
        {
          "output_type": "stream",
          "name": "stdout",
          "text": [
            "125\n"
          ]
        }
      ]
    },
    {
      "cell_type": "code",
      "source": [
        "z =125\n",
        "z /=6\n",
        "print(z)"
      ],
      "metadata": {
        "colab": {
          "base_uri": "https://localhost:8080/"
        },
        "id": "MvxEQk7MiZeI",
        "outputId": "c28e08bd-6fc4-4797-ae08-087e9ce72ef4"
      },
      "execution_count": null,
      "outputs": [
        {
          "output_type": "stream",
          "name": "stdout",
          "text": [
            "20.833333333333332\n"
          ]
        }
      ]
    },
    {
      "cell_type": "code",
      "source": [
        "#Bitwise operators\n",
        "#AND\n",
        "a = 1\n",
        "b = 1\n",
        "print( a & b) # for bitwise and >>&"
      ],
      "metadata": {
        "colab": {
          "base_uri": "https://localhost:8080/"
        },
        "id": "6yEjjjPki0Br",
        "outputId": "c0917e1c-11a6-426e-b4cc-edc8482e5ce5"
      },
      "execution_count": null,
      "outputs": [
        {
          "output_type": "stream",
          "name": "stdout",
          "text": [
            "1\n"
          ]
        }
      ]
    },
    {
      "cell_type": "code",
      "source": [
        "#Bitwise OR\n",
        "a= 0\n",
        "x=1\n",
        "print( a | x) # for bitwise or >> |"
      ],
      "metadata": {
        "colab": {
          "base_uri": "https://localhost:8080/"
        },
        "id": "nQDb9ulYjKjS",
        "outputId": "4c9236d6-5858-457f-b021-a02cab8fa28e"
      },
      "execution_count": null,
      "outputs": [
        {
          "output_type": "stream",
          "name": "stdout",
          "text": [
            "1\n"
          ]
        }
      ]
    },
    {
      "cell_type": "code",
      "source": [
        "#Bitwise Xor \n",
        "a=1\n",
        "b=1\n",
        "print(a ^ b)"
      ],
      "metadata": {
        "colab": {
          "base_uri": "https://localhost:8080/"
        },
        "id": "um4SJjUfjcGg",
        "outputId": "c1462d7d-4c5e-4d84-cedd-8474e5aa1853"
      },
      "execution_count": null,
      "outputs": [
        {
          "output_type": "stream",
          "name": "stdout",
          "text": [
            "0\n"
          ]
        }
      ]
    },
    {
      "cell_type": "code",
      "source": [
        "#Number converstion\n",
        "# int to binary converstion\n",
        "bin(25)"
      ],
      "metadata": {
        "colab": {
          "base_uri": "https://localhost:8080/",
          "height": 35
        },
        "id": "kCX9ukfaldT8",
        "outputId": "85ec14a6-43a9-4f80-9db7-86bd3e172861"
      },
      "execution_count": null,
      "outputs": [
        {
          "output_type": "execute_result",
          "data": {
            "application/vnd.google.colaboratory.intrinsic+json": {
              "type": "string"
            },
            "text/plain": [
              "'0b11001'"
            ]
          },
          "metadata": {},
          "execution_count": 33
        }
      ]
    },
    {
      "cell_type": "code",
      "source": [
        "# binary to int converstion\n",
        "int(0b11001101)"
      ],
      "metadata": {
        "colab": {
          "base_uri": "https://localhost:8080/"
        },
        "id": "NZS__Zgcl0Qg",
        "outputId": "bcb1f3a4-a358-4af8-e8d6-226d651c98bf"
      },
      "execution_count": null,
      "outputs": [
        {
          "output_type": "execute_result",
          "data": {
            "text/plain": [
              "205"
            ]
          },
          "metadata": {},
          "execution_count": 34
        }
      ]
    },
    {
      "cell_type": "code",
      "source": [
        "# int to octal converstion\n",
        "#oct(25)\n",
        "oct(87)"
      ],
      "metadata": {
        "colab": {
          "base_uri": "https://localhost:8080/",
          "height": 35
        },
        "id": "uZEQqBnpmulO",
        "outputId": "6c917bc2-64f8-49d4-f118-8788e7f0aed1"
      },
      "execution_count": null,
      "outputs": [
        {
          "output_type": "execute_result",
          "data": {
            "application/vnd.google.colaboratory.intrinsic+json": {
              "type": "string"
            },
            "text/plain": [
              "'0o127'"
            ]
          },
          "metadata": {},
          "execution_count": 36
        }
      ]
    },
    {
      "cell_type": "code",
      "source": [
        "#ocatl to int converstion\n",
        "int(0o127)"
      ],
      "metadata": {
        "colab": {
          "base_uri": "https://localhost:8080/"
        },
        "id": "ZjGEDr_hnB2d",
        "outputId": "91365230-daf9-4a15-f7d5-2b26729cc90a"
      },
      "execution_count": null,
      "outputs": [
        {
          "output_type": "execute_result",
          "data": {
            "text/plain": [
              "87"
            ]
          },
          "metadata": {},
          "execution_count": 37
        }
      ]
    },
    {
      "cell_type": "code",
      "source": [
        "# int to hex convertion\n",
        "hex(25)"
      ],
      "metadata": {
        "colab": {
          "base_uri": "https://localhost:8080/",
          "height": 35
        },
        "id": "QI9oZwPDnQtt",
        "outputId": "ca64c3e4-bc4b-4689-ac03-4a08c0b84408"
      },
      "execution_count": null,
      "outputs": [
        {
          "output_type": "execute_result",
          "data": {
            "application/vnd.google.colaboratory.intrinsic+json": {
              "type": "string"
            },
            "text/plain": [
              "'0x19'"
            ]
          },
          "metadata": {},
          "execution_count": 38
        }
      ]
    },
    {
      "cell_type": "code",
      "source": [
        "int(0x65)"
      ],
      "metadata": {
        "colab": {
          "base_uri": "https://localhost:8080/"
        },
        "id": "IKrvK_DHoEuE",
        "outputId": "26330f45-afb5-4b0b-e2d3-b3d67bcc3ee3"
      },
      "execution_count": null,
      "outputs": [
        {
          "output_type": "execute_result",
          "data": {
            "text/plain": [
              "101"
            ]
          },
          "metadata": {},
          "execution_count": 39
        }
      ]
    },
    {
      "cell_type": "code",
      "source": [
        "#write a python code for simple calculator\n",
        "def add(x,y):\n",
        "  return x+y\n",
        "def substraction(x,y):\n",
        "  return x-y\n",
        "def multiply(x,y):\n",
        "  return x*y\n",
        "def division(x,y):\n",
        "  return x/y\n",
        "\n",
        "print(\"select the operation.\")\n",
        "print(\"1.add\")\n",
        "print(\"2.substraction\")\n",
        "print(\"3.multiply\")\n",
        "print(\"4.division\")\n",
        "\n",
        "#take the inputs fron user\n",
        "choice =input(\"Enter choice(1/2/3/4/5):\")\n",
        "\n",
        "num1= int(input(\"Enter first number:\"))\n",
        "num2=int(input(\"Enter second number:\"))\n",
        "\n",
        "if choice =='1':\n",
        "  print(num1,\"+\",num2,\"=\",add(num1,num2))\n",
        "elif choice =='2':\n",
        "  print(num1,\"-\",num2,\"=\",substraction(num1,num2))\n",
        "elif choice =='3':\n",
        "  print(num1,\"*\",num2,\"=\",multiply(num1,num2))\n",
        "elif choice =='4':\n",
        "  print(num1,\"/\",num2,\"=\",division(num1,num2))\n",
        "else:\n",
        "  print(\"Invalid input\")"
      ],
      "metadata": {
        "id": "PaVXulAqoaD8",
        "colab": {
          "base_uri": "https://localhost:8080/"
        },
        "outputId": "dd7f1281-e64b-452c-a00c-a7912ef927ed"
      },
      "execution_count": null,
      "outputs": [
        {
          "output_type": "stream",
          "name": "stdout",
          "text": [
            "select the operation.\n",
            "1.add\n",
            "2.substraction\n",
            "3.multiply\n",
            "4.division\n",
            "Enter choice(1/2/3/4/5):4\n",
            "Enter first number:25\n",
            "Enter second number:5\n",
            "25 / 5 = 5.0\n"
          ]
        }
      ]
    },
    {
      "cell_type": "code",
      "source": [
        "#Function in python\n",
        "#i)user defined function ii)in-built function\n",
        "\n",
        "def add(a,b): #additon function\n",
        "  s=a+b\n",
        "  return s\n",
        "result = add(78,25)\n",
        "print(result)\n",
        "\n",
        "add(452,652)\n",
        "add(123,547)"
      ],
      "metadata": {
        "colab": {
          "base_uri": "https://localhost:8080/"
        },
        "id": "TCdrZspouGYh",
        "outputId": "24acde10-808f-48b3-c1af-2457d09c04e4"
      },
      "execution_count": null,
      "outputs": [
        {
          "output_type": "stream",
          "name": "stdout",
          "text": [
            "103\n"
          ]
        },
        {
          "output_type": "execute_result",
          "data": {
            "text/plain": [
              "670"
            ]
          },
          "metadata": {},
          "execution_count": 46
        }
      ]
    },
    {
      "cell_type": "code",
      "source": [
        "def sub(c,v):#substraction function\n",
        "  x=c-v\n",
        "  return x\n",
        "result=sub(45,20)\n",
        "print(result)\n",
        "\n",
        "sub(78,2)\n",
        "          "
      ],
      "metadata": {
        "colab": {
          "base_uri": "https://localhost:8080/"
        },
        "id": "pgvuogGxzztk",
        "outputId": "029ece64-1713-4b8e-c986-42496013599b"
      },
      "execution_count": null,
      "outputs": [
        {
          "output_type": "stream",
          "name": "stdout",
          "text": [
            "25\n"
          ]
        },
        {
          "output_type": "execute_result",
          "data": {
            "text/plain": [
              "76"
            ]
          },
          "metadata": {},
          "execution_count": 48
        }
      ]
    },
    {
      "cell_type": "code",
      "source": [
        "def greet():\n",
        "  print(\"Hello\")\n",
        "  print(\"Good Evening\")\n",
        "greet()\n",
        "greet()\n",
        "greet()"
      ],
      "metadata": {
        "colab": {
          "base_uri": "https://localhost:8080/"
        },
        "id": "cDzepU2u0WBy",
        "outputId": "f47a7c4d-7f89-47f9-d7e1-1aacf2db65e3"
      },
      "execution_count": null,
      "outputs": [
        {
          "output_type": "stream",
          "name": "stdout",
          "text": [
            "Hello\n",
            "Good Evening\n",
            "Hello\n",
            "Good Evening\n",
            "Hello\n",
            "Good Evening\n"
          ]
        }
      ]
    },
    {
      "cell_type": "code",
      "source": [
        "#In-built function\n",
        "#i)abs function\n",
        "integer =-56\n",
        "print(\"abs of the these is:\",abs(integer))\n",
        "float=-25.6\n",
        "print(\"abs value of this float is:\",abs(float))"
      ],
      "metadata": {
        "colab": {
          "base_uri": "https://localhost:8080/"
        },
        "id": "nZyZA4d-0ynd",
        "outputId": "c00f0da5-f717-4324-d0fa-437f85a19e3c"
      },
      "execution_count": null,
      "outputs": [
        {
          "output_type": "stream",
          "name": "stdout",
          "text": [
            "abs of the these is: 56\n",
            "abs value of this float is: 25.6\n"
          ]
        }
      ]
    },
    {
      "cell_type": "code",
      "source": [
        "#ii)all function\n",
        "a=[1,2,4,7,89,23]\n",
        "print(all(a))\n",
        "s=[1,5,False]\n",
        "print(all(s))\n",
        "x=[45,0,1,2,42]\n",
        "print(all(x))"
      ],
      "metadata": {
        "colab": {
          "base_uri": "https://localhost:8080/"
        },
        "id": "F45qSvZ41hbG",
        "outputId": "fcd23e52-8ace-4260-cccc-69298b60bfbb"
      },
      "execution_count": null,
      "outputs": [
        {
          "output_type": "stream",
          "name": "stdout",
          "text": [
            "True\n",
            "False\n",
            "False\n"
          ]
        }
      ]
    },
    {
      "cell_type": "code",
      "source": [
        "#iii)bin,octal,hexa function\n",
        "number=52\n",
        "bin(number)\n",
        "oct(number)\n",
        "hex(number)"
      ],
      "metadata": {
        "colab": {
          "base_uri": "https://localhost:8080/",
          "height": 35
        },
        "id": "0i7DFdOk2JgB",
        "outputId": "f106fe19-704b-48c2-a975-ddbd12156368"
      },
      "execution_count": null,
      "outputs": [
        {
          "output_type": "execute_result",
          "data": {
            "application/vnd.google.colaboratory.intrinsic+json": {
              "type": "string"
            },
            "text/plain": [
              "'0x34'"
            ]
          },
          "metadata": {},
          "execution_count": 59
        }
      ]
    },
    {
      "cell_type": "code",
      "source": [
        "#iv) eval function\n",
        "x=8\n",
        "print(eval('x+4'))\n",
        "print(eval('x*12'))"
      ],
      "metadata": {
        "colab": {
          "base_uri": "https://localhost:8080/"
        },
        "id": "2-9yHX2Q2l7J",
        "outputId": "f06980d5-6777-4c70-8574-685edd14e3a8"
      },
      "execution_count": null,
      "outputs": [
        {
          "output_type": "stream",
          "name": "stdout",
          "text": [
            "12\n",
            "96\n"
          ]
        }
      ]
    },
    {
      "cell_type": "code",
      "source": [
        "#v) min.max power function\n",
        "number=[45,78,52,41,25,3,95,14,62]\n",
        "min(number)\n",
        "max(number)\n",
        "\n",
        "pow(4,2)\n",
        "pow(-52,5)\n",
        "pow(12,-2)"
      ],
      "metadata": {
        "colab": {
          "base_uri": "https://localhost:8080/"
        },
        "id": "XtpLAcS-3CT2",
        "outputId": "ebf02d71-a8bc-42c3-e774-3593847f46b7"
      },
      "execution_count": null,
      "outputs": [
        {
          "output_type": "execute_result",
          "data": {
            "text/plain": [
              "0.006944444444444444"
            ]
          },
          "metadata": {},
          "execution_count": 66
        }
      ]
    },
    {
      "cell_type": "code",
      "source": [
        "# sum function\n",
        "s=[78,52,62,325,3453,425,12,4,5,2]\n",
        "sum(s)"
      ],
      "metadata": {
        "colab": {
          "base_uri": "https://localhost:8080/"
        },
        "id": "aFYQaaW73sss",
        "outputId": "55cb6375-a4e7-417a-eb8c-592e783694dd"
      },
      "execution_count": null,
      "outputs": [
        {
          "output_type": "execute_result",
          "data": {
            "text/plain": [
              "4418"
            ]
          },
          "metadata": {},
          "execution_count": 67
        }
      ]
    },
    {
      "cell_type": "code",
      "source": [
        "#condtional statements\n",
        "#if  statement\n",
        "a = 33\n",
        "b = 200\n",
        "if b>a:\n",
        "  print(\"b is greater than a\")"
      ],
      "metadata": {
        "colab": {
          "base_uri": "https://localhost:8080/"
        },
        "id": "WV4f59gP9ZVJ",
        "outputId": "8f5035dc-f136-49f5-a202-eb281b8abcec"
      },
      "execution_count": null,
      "outputs": [
        {
          "output_type": "stream",
          "name": "stdout",
          "text": [
            "b is greater than a\n"
          ]
        }
      ]
    },
    {
      "cell_type": "code",
      "source": [
        "#elif\n",
        "a =96\n",
        "b =96\n",
        "if b>a:\n",
        "  print(\"b is greater than a\")\n",
        "elif a==b:\n",
        "  print(\"a is equal to b\")"
      ],
      "metadata": {
        "colab": {
          "base_uri": "https://localhost:8080/"
        },
        "id": "2YkYzz-n9u9j",
        "outputId": "bc09b67e-1760-4b53-c12b-c5df91d279c0"
      },
      "execution_count": null,
      "outputs": [
        {
          "output_type": "stream",
          "name": "stdout",
          "text": [
            "a is equal to b\n"
          ]
        }
      ]
    },
    {
      "cell_type": "code",
      "source": [
        "#else statement\n",
        "a =42\n",
        "b =42\n",
        "\n",
        "if b>a:\n",
        "   print(\"b is greater than a\")\n",
        "elif a==b:\n",
        "  print(\"a is equal b\")\n",
        "else:\n",
        "  print(\"a is greater than b\")"
      ],
      "metadata": {
        "colab": {
          "base_uri": "https://localhost:8080/"
        },
        "id": "SGsJKrsh-KVL",
        "outputId": "4b1824fc-7db6-4702-e778-9940a79df5cb"
      },
      "execution_count": null,
      "outputs": [
        {
          "output_type": "stream",
          "name": "stdout",
          "text": [
            "a is equal b\n"
          ]
        }
      ]
    },
    {
      "cell_type": "code",
      "source": [
        "#Nested if statement\n",
        "x =41\n",
        "if x>10:\n",
        "  print(\"above ten\")\n",
        "  if x>20:\n",
        "    print(\"greater than 20\")\n",
        "  else:\n",
        "    print(\"but not above 20\")"
      ],
      "metadata": {
        "colab": {
          "base_uri": "https://localhost:8080/"
        },
        "id": "1EuZQWZS-6qU",
        "outputId": "4a87207d-ff06-494e-e703-f5e20b157e5f"
      },
      "execution_count": null,
      "outputs": [
        {
          "output_type": "stream",
          "name": "stdout",
          "text": [
            "above ten\n",
            "greater than 20\n"
          ]
        }
      ]
    },
    {
      "cell_type": "code",
      "source": [
        "#python loops\n",
        "#i)while loop >> we can execute a set of statement as long as a condition is true\n",
        "\n",
        "s = 1\n",
        "while s < 20:\n",
        "  print(s)\n",
        "  s +=1"
      ],
      "metadata": {
        "colab": {
          "base_uri": "https://localhost:8080/"
        },
        "id": "1d5OMST6Au_4",
        "outputId": "ed6dce3e-44d2-4919-a073-3faf2bbe834f"
      },
      "execution_count": null,
      "outputs": [
        {
          "output_type": "stream",
          "name": "stdout",
          "text": [
            "1\n",
            "2\n",
            "3\n",
            "4\n",
            "5\n",
            "6\n",
            "7\n",
            "8\n",
            "9\n",
            "10\n",
            "11\n",
            "12\n",
            "13\n",
            "14\n",
            "15\n",
            "16\n",
            "17\n",
            "18\n",
            "19\n"
          ]
        }
      ]
    },
    {
      "cell_type": "code",
      "source": [
        "#while break\n",
        "x = 1\n",
        "while x<20:\n",
        "  print(x)\n",
        "  if x==10:\n",
        "    break\n",
        "  x+=1"
      ],
      "metadata": {
        "colab": {
          "base_uri": "https://localhost:8080/"
        },
        "id": "i70rggGaBhSH",
        "outputId": "ea7cb83b-25ac-4f62-cefd-8471e35826b2"
      },
      "execution_count": null,
      "outputs": [
        {
          "output_type": "stream",
          "name": "stdout",
          "text": [
            "1\n",
            "2\n",
            "3\n",
            "4\n",
            "5\n",
            "6\n",
            "7\n",
            "8\n",
            "9\n",
            "10\n"
          ]
        }
      ]
    },
    {
      "cell_type": "code",
      "source": [
        "#while continue\n",
        "x = 0\n",
        "while x < 20:\n",
        "  x+=1\n",
        "\n",
        "  if x==10:\n",
        "    continue\n",
        "  print(x)"
      ],
      "metadata": {
        "colab": {
          "base_uri": "https://localhost:8080/"
        },
        "id": "R8GYWWhDB7_U",
        "outputId": "4aa5fa9c-3667-4775-ad86-873d81713a0c"
      },
      "execution_count": null,
      "outputs": [
        {
          "output_type": "stream",
          "name": "stdout",
          "text": [
            "1\n",
            "2\n",
            "3\n",
            "4\n",
            "5\n",
            "6\n",
            "7\n",
            "8\n",
            "9\n",
            "11\n",
            "12\n",
            "13\n",
            "14\n",
            "15\n",
            "16\n",
            "17\n",
            "18\n",
            "19\n",
            "20\n"
          ]
        }
      ]
    },
    {
      "cell_type": "code",
      "source": [
        "#for loop\n",
        "fruits=[\"apple\",\"mango\",\"grapes\"]\n",
        "for a in fruits:\n",
        "  print(a)"
      ],
      "metadata": {
        "colab": {
          "base_uri": "https://localhost:8080/"
        },
        "id": "K_lko3HbCVOj",
        "outputId": "bfb5709b-f7be-4b7c-8ac6-b02570aeb737"
      },
      "execution_count": null,
      "outputs": [
        {
          "output_type": "stream",
          "name": "stdout",
          "text": [
            "apple\n",
            "mango\n",
            "grapes\n"
          ]
        }
      ]
    },
    {
      "cell_type": "code",
      "source": [
        "# for loop on strings\n",
        "for s in \"bajajfinance\":\n",
        " print(s)"
      ],
      "metadata": {
        "colab": {
          "base_uri": "https://localhost:8080/"
        },
        "id": "OhD6RwZBCqnQ",
        "outputId": "764bf361-1f57-47a7-9091-cd2e8d54c9a0"
      },
      "execution_count": null,
      "outputs": [
        {
          "output_type": "stream",
          "name": "stdout",
          "text": [
            "b\n",
            "a\n",
            "j\n",
            "a\n",
            "j\n",
            "f\n",
            "i\n",
            "n\n",
            "a\n",
            "n\n",
            "c\n",
            "e\n"
          ]
        }
      ]
    },
    {
      "cell_type": "code",
      "source": [
        "#for loop range\n",
        "for s in range(10,20):\n",
        "  print(s)"
      ],
      "metadata": {
        "colab": {
          "base_uri": "https://localhost:8080/"
        },
        "id": "h3IbQ8v0C8hW",
        "outputId": "022a30ab-ecfe-4747-be97-3a0d0839c1d5"
      },
      "execution_count": null,
      "outputs": [
        {
          "output_type": "stream",
          "name": "stdout",
          "text": [
            "10\n",
            "11\n",
            "12\n",
            "13\n",
            "14\n",
            "15\n",
            "16\n",
            "17\n",
            "18\n",
            "19\n"
          ]
        }
      ]
    },
    {
      "cell_type": "code",
      "source": [
        "#for loop range\n",
        "for s in range(2,25,2):\n",
        " print(s)"
      ],
      "metadata": {
        "colab": {
          "base_uri": "https://localhost:8080/"
        },
        "id": "qwwDhM2sDKpv",
        "outputId": "984d2834-b299-4fea-8311-acabe88f46ca"
      },
      "execution_count": null,
      "outputs": [
        {
          "output_type": "stream",
          "name": "stdout",
          "text": [
            "2\n",
            "4\n",
            "6\n",
            "8\n",
            "10\n",
            "12\n",
            "14\n",
            "16\n",
            "18\n",
            "20\n",
            "22\n",
            "24\n"
          ]
        }
      ]
    },
    {
      "cell_type": "code",
      "source": [
        "#Errors in python\n",
        "#i)Compile time error\n",
        "x = int (input(\"enter a number:\"))\n",
        "\n",
        "while x%2==0:\n",
        " print(\"you have entered an even number:\")\n",
        "else:\n",
        "  print(\"you have entered an odd number:\")"
      ],
      "metadata": {
        "colab": {
          "base_uri": "https://localhost:8080/"
        },
        "id": "6OpdDn_8ViF8",
        "outputId": "3dd9c50a-e105-4d08-8cc1-162a03e2e134"
      },
      "execution_count": null,
      "outputs": [
        {
          "output_type": "stream",
          "name": "stdout",
          "text": [
            "enter a number:45\n",
            "you have entered an odd number:\n"
          ]
        }
      ]
    },
    {
      "cell_type": "code",
      "source": [
        "#ii)Logical error\n",
        "m =int (input(\"enter a number:\"))\n",
        "n =int (input(\"enter a number:\"))\n",
        "\n",
        "h=(m+n)/2\n",
        "print(\"the average of two number you have entered is :\",h)"
      ],
      "metadata": {
        "colab": {
          "base_uri": "https://localhost:8080/"
        },
        "id": "RoJCwcw8Whc0",
        "outputId": "48488931-2417-4ce3-809f-6d0852261086"
      },
      "execution_count": null,
      "outputs": [
        {
          "output_type": "stream",
          "name": "stdout",
          "text": [
            "enter a number:20\n",
            "enter a number:20\n",
            "the average of two number you have entered is : 20.0\n"
          ]
        }
      ]
    },
    {
      "cell_type": "code",
      "source": [
        "#iii)Run time error\n",
        "v=int(input(\"enter a number:\"))\n",
        "c=int(input(\"enter a number:\"))\n",
        "x=v/c\n",
        "print(\"the division of two number is:\",x)"
      ],
      "metadata": {
        "colab": {
          "base_uri": "https://localhost:8080/"
        },
        "id": "2_7Ju-lkYRxf",
        "outputId": "5355f1ac-95e4-4fca-c7b5-820262c48d44"
      },
      "execution_count": null,
      "outputs": [
        {
          "output_type": "stream",
          "name": "stdout",
          "text": [
            "enter a number:15\n",
            "enter a number:5\n",
            "the division of two number is: 3.0\n"
          ]
        }
      ]
    },
    {
      "cell_type": "code",
      "source": [
        "#File handling in python\n",
        "file=open(\"//content/sample1.csv\",\"r\")\n",
        "print(file.read())"
      ],
      "metadata": {
        "colab": {
          "base_uri": "https://localhost:8080/"
        },
        "id": "jHdDN-VwZyNa",
        "outputId": "62325c7d-947b-419f-bc4f-9cf9bd0f2f29"
      },
      "execution_count": null,
      "outputs": [
        {
          "output_type": "stream",
          "name": "stdout",
          "text": [
            "\"Month\", \"Average\", \"2005\", \"2006\", \"2007\", \"2008\", \"2009\", \"2010\", \"2011\", \"2012\", \"2013\", \"2014\", \"2015\"\n",
            "\"May\",  0.1,  0,  0, 1, 1, 0, 0, 0, 2, 0,  0,  0  \n",
            "\"Jun\",  0.5,  2,  1, 1, 0, 0, 1, 1, 2, 2,  0,  1\n",
            "\"Jul\",  0.7,  5,  1, 1, 2, 0, 1, 3, 0, 2,  2,  1\n",
            "\"Aug\",  2.3,  6,  3, 2, 4, 4, 4, 7, 8, 2,  2,  3\n",
            "\"Sep\",  3.5,  6,  4, 7, 4, 2, 8, 5, 2, 5,  2,  5\n",
            "\"Oct\",  2.0,  8,  0, 1, 3, 2, 5, 1, 5, 2,  3,  0\n",
            "\"Nov\",  0.5,  3,  0, 0, 1, 1, 0, 1, 0, 1,  0,  1\n",
            "\"Dec\",  0.0,  1,  0, 1, 0, 0, 0, 0, 0, 0,  0,  1\n",
            "\n",
            "\n"
          ]
        }
      ]
    },
    {
      "cell_type": "code",
      "source": [
        "#read a part of file and read line\n",
        "file=open(\"//content/sample1.csv\",\"r\")\n",
        "#print(file.read(20))\n",
        "print(file.readline())\n",
        "print(file.readline())\n"
      ],
      "metadata": {
        "colab": {
          "base_uri": "https://localhost:8080/"
        },
        "id": "ZVIiQa_4boWM",
        "outputId": "67bf8e83-813e-4b48-dc02-e3c2500e53c4"
      },
      "execution_count": null,
      "outputs": [
        {
          "output_type": "stream",
          "name": "stdout",
          "text": [
            "\"Month\", \"Average\", \"2005\", \"2006\", \"2007\", \"2008\", \"2009\", \"2010\", \"2011\", \"2012\", \"2013\", \"2014\", \"2015\"\n",
            "\n",
            "\"May\",  0.1,  0,  0, 1, 1, 0, 0, 0, 2, 0,  0,  0  \n",
            "\n"
          ]
        }
      ]
    },
    {
      "cell_type": "code",
      "source": [
        "#looping through the lines of the file\n",
        "f=open(\"/content/sample1.csv\",\"r\")\n",
        "for s in f:\n",
        "  print(s)"
      ],
      "metadata": {
        "colab": {
          "base_uri": "https://localhost:8080/"
        },
        "id": "Ss6VwdiUcZST",
        "outputId": "0ffe5dbf-a765-4eb9-d727-0651076e5faa"
      },
      "execution_count": null,
      "outputs": [
        {
          "output_type": "stream",
          "name": "stdout",
          "text": [
            "\"Month\", \"Average\", \"2005\", \"2006\", \"2007\", \"2008\", \"2009\", \"2010\", \"2011\", \"2012\", \"2013\", \"2014\", \"2015\"\n",
            "\n",
            "\"May\",  0.1,  0,  0, 1, 1, 0, 0, 0, 2, 0,  0,  0  \n",
            "\n",
            "\"Jun\",  0.5,  2,  1, 1, 0, 0, 1, 1, 2, 2,  0,  1\n",
            "\n",
            "\"Jul\",  0.7,  5,  1, 1, 2, 0, 1, 3, 0, 2,  2,  1\n",
            "\n",
            "\"Aug\",  2.3,  6,  3, 2, 4, 4, 4, 7, 8, 2,  2,  3\n",
            "\n",
            "\"Sep\",  3.5,  6,  4, 7, 4, 2, 8, 5, 2, 5,  2,  5\n",
            "\n",
            "\"Oct\",  2.0,  8,  0, 1, 3, 2, 5, 1, 5, 2,  3,  0\n",
            "\n",
            "\"Nov\",  0.5,  3,  0, 0, 1, 1, 0, 1, 0, 1,  0,  1\n",
            "\n",
            "\"Dec\",  0.0,  1,  0, 1, 0, 0, 0, 0, 0, 0,  0,  1\n",
            "\n",
            "\n",
            "\n"
          ]
        }
      ]
    },
    {
      "cell_type": "code",
      "source": [
        "#close the file\n",
        "f=open(\"/content/sample1.csv\",\"r\")\n",
        "print(f.readline())\n",
        "f.close()"
      ],
      "metadata": {
        "colab": {
          "base_uri": "https://localhost:8080/"
        },
        "id": "QreIEAzjc7ng",
        "outputId": "40c4d3c5-b476-4d00-f5e5-dd146a61f2d1"
      },
      "execution_count": null,
      "outputs": [
        {
          "output_type": "stream",
          "name": "stdout",
          "text": [
            "\"Month\", \"Average\", \"2005\", \"2006\", \"2007\", \"2008\", \"2009\", \"2010\", \"2011\", \"2012\", \"2013\", \"2014\", \"2015\"\n",
            "\n"
          ]
        }
      ]
    },
    {
      "cell_type": "code",
      "source": [
        "#append and write \n",
        "f=open(\"/content/sample1.csv\",\"a\")\n",
        "f.write(\"hello good evening\")\n",
        "#f.close()\n",
        "\n",
        "f=open(\"/content/sample1.csv\",\"r\")\n",
        "print(f.read())"
      ],
      "metadata": {
        "colab": {
          "base_uri": "https://localhost:8080/"
        },
        "id": "-RiR4JlcdRt6",
        "outputId": "7012cbcc-38a4-4096-edc0-69704ed55f18"
      },
      "execution_count": null,
      "outputs": [
        {
          "output_type": "stream",
          "name": "stdout",
          "text": [
            "\"Month\", \"Average\", \"2005\", \"2006\", \"2007\", \"2008\", \"2009\", \"2010\", \"2011\", \"2012\", \"2013\", \"2014\", \"2015\"\n",
            "\"May\",  0.1,  0,  0, 1, 1, 0, 0, 0, 2, 0,  0,  0  \n",
            "\"Jun\",  0.5,  2,  1, 1, 0, 0, 1, 1, 2, 2,  0,  1\n",
            "\"Jul\",  0.7,  5,  1, 1, 2, 0, 1, 3, 0, 2,  2,  1\n",
            "\"Aug\",  2.3,  6,  3, 2, 4, 4, 4, 7, 8, 2,  2,  3\n",
            "\"Sep\",  3.5,  6,  4, 7, 4, 2, 8, 5, 2, 5,  2,  5\n",
            "\"Oct\",  2.0,  8,  0, 1, 3, 2, 5, 1, 5, 2,  3,  0\n",
            "\"Nov\",  0.5,  3,  0, 0, 1, 1, 0, 1, 0, 1,  0,  1\n",
            "\"Dec\",  0.0,  1,  0, 1, 0, 0, 0, 0, 0, 0,  0,  1\n",
            "\n",
            "hello good eveninghello good evening\n"
          ]
        }
      ]
    },
    {
      "cell_type": "code",
      "source": [
        "#read the file character by character\n",
        "with open(\"/content/sample2.txt\",\"r\") as file:\n",
        "  for line in file:\n",
        "    for character in line:\n",
        "      print\n"
      ],
      "metadata": {
        "colab": {
          "base_uri": "https://localhost:8080/"
        },
        "id": "Svue5r2heeGo",
        "outputId": "1134175d-27eb-4c02-ed1a-2ceceea45e39"
      },
      "execution_count": null,
      "outputs": [
        {
          "output_type": "stream",
          "name": "stdout",
          "text": [
            "\"\n",
            "M\n",
            "o\n",
            "n\n",
            "t\n",
            "h\n",
            "\"\n",
            ",\n",
            " \n",
            "\"\n",
            "A\n",
            "v\n",
            "e\n",
            "r\n",
            "a\n",
            "g\n",
            "e\n",
            "\"\n",
            ",\n",
            " \n",
            "\"\n",
            "2\n",
            "0\n",
            "0\n",
            "5\n",
            "\"\n",
            ",\n",
            " \n",
            "\"\n",
            "2\n",
            "0\n",
            "0\n",
            "6\n",
            "\"\n",
            ",\n",
            " \n",
            "\"\n",
            "2\n",
            "0\n",
            "0\n",
            "7\n",
            "\"\n",
            ",\n",
            " \n",
            "\"\n",
            "2\n",
            "0\n",
            "0\n",
            "8\n",
            "\"\n",
            ",\n",
            " \n",
            "\"\n",
            "2\n",
            "0\n",
            "0\n",
            "9\n",
            "\"\n",
            ",\n",
            " \n",
            "\"\n",
            "2\n",
            "0\n",
            "1\n",
            "0\n",
            "\"\n",
            ",\n",
            " \n",
            "\"\n",
            "2\n",
            "0\n",
            "1\n",
            "1\n",
            "\"\n",
            ",\n",
            " \n",
            "\"\n",
            "2\n",
            "0\n",
            "1\n",
            "2\n",
            "\"\n",
            ",\n",
            " \n",
            "\"\n",
            "2\n",
            "0\n",
            "1\n",
            "3\n",
            "\"\n",
            ",\n",
            " \n",
            "\"\n",
            "2\n",
            "0\n",
            "1\n",
            "4\n",
            "\"\n",
            ",\n",
            " \n",
            "\"\n",
            "2\n",
            "0\n",
            "1\n",
            "5\n",
            "\"\n",
            "\n",
            "\n",
            "\"\n",
            "M\n",
            "a\n",
            "y\n",
            "\"\n",
            ",\n",
            " \n",
            " \n",
            "0\n",
            ".\n",
            "1\n",
            ",\n",
            " \n",
            " \n",
            "0\n",
            ",\n",
            " \n",
            " \n",
            "0\n",
            ",\n",
            " \n",
            "1\n",
            ",\n",
            " \n",
            "1\n",
            ",\n",
            " \n",
            "0\n",
            ",\n",
            " \n",
            "0\n",
            ",\n",
            " \n",
            "0\n",
            ",\n",
            " \n",
            "2\n",
            ",\n",
            " \n",
            "0\n",
            ",\n",
            " \n",
            " \n",
            "0\n",
            ",\n",
            " \n",
            " \n",
            "0\n",
            " \n",
            " \n",
            "\n",
            "\n",
            "\"\n",
            "J\n",
            "u\n",
            "n\n",
            "\"\n",
            ",\n",
            " \n",
            " \n",
            "0\n",
            ".\n",
            "5\n",
            ",\n",
            " \n",
            " \n",
            "2\n",
            ",\n",
            " \n",
            " \n",
            "1\n",
            ",\n",
            " \n",
            "1\n",
            ",\n",
            " \n",
            "0\n",
            ",\n",
            " \n",
            "0\n",
            ",\n",
            " \n",
            "1\n",
            ",\n",
            " \n",
            "1\n",
            ",\n",
            " \n",
            "2\n",
            ",\n",
            " \n",
            "2\n",
            ",\n",
            " \n",
            " \n",
            "0\n",
            ",\n",
            " \n",
            " \n",
            "1\n",
            "\n",
            "\n",
            "\"\n",
            "J\n",
            "u\n",
            "l\n",
            "\"\n",
            ",\n",
            " \n",
            " \n",
            "0\n",
            ".\n",
            "7\n",
            ",\n",
            " \n",
            " \n",
            "5\n",
            ",\n",
            " \n",
            " \n",
            "1\n",
            ",\n",
            " \n",
            "1\n",
            ",\n",
            " \n",
            "2\n",
            ",\n",
            " \n",
            "0\n",
            ",\n",
            " \n",
            "1\n",
            ",\n",
            " \n",
            "3\n",
            ",\n",
            " \n",
            "0\n",
            ",\n",
            " \n",
            "2\n",
            ",\n",
            " \n",
            " \n",
            "2\n",
            ",\n",
            " \n",
            " \n",
            "1\n",
            "\n",
            "\n",
            "\"\n",
            "A\n",
            "u\n",
            "g\n",
            "\"\n",
            ",\n",
            " \n",
            " \n",
            "2\n",
            ".\n",
            "3\n",
            ",\n",
            " \n",
            " \n",
            "6\n",
            ",\n",
            " \n",
            " \n",
            "3\n",
            ",\n",
            " \n",
            "2\n",
            ",\n",
            " \n",
            "4\n",
            ",\n",
            " \n",
            "4\n",
            ",\n",
            " \n",
            "4\n",
            ",\n",
            " \n",
            "7\n",
            ",\n",
            " \n",
            "8\n",
            ",\n",
            " \n",
            "2\n",
            ",\n",
            " \n",
            " \n",
            "2\n",
            ",\n",
            " \n",
            " \n",
            "3\n",
            "\n",
            "\n",
            "\"\n",
            "S\n",
            "e\n",
            "p\n",
            "\"\n",
            ",\n",
            " \n",
            " \n",
            "3\n",
            ".\n",
            "5\n",
            ",\n",
            " \n",
            " \n",
            "6\n",
            ",\n",
            " \n",
            " \n",
            "4\n",
            ",\n",
            " \n",
            "7\n",
            ",\n",
            " \n",
            "4\n",
            ",\n",
            " \n",
            "2\n",
            ",\n",
            " \n",
            "8\n",
            ",\n",
            " \n",
            "5\n",
            ",\n",
            " \n",
            "2\n",
            ",\n",
            " \n",
            "5\n",
            ",\n",
            " \n",
            " \n",
            "2\n",
            ",\n",
            " \n",
            " \n",
            "5\n",
            "\n",
            "\n",
            "\"\n",
            "O\n",
            "c\n",
            "t\n",
            "\"\n",
            ",\n",
            " \n",
            " \n",
            "2\n",
            ".\n",
            "0\n",
            ",\n",
            " \n",
            " \n",
            "8\n",
            ",\n",
            " \n",
            " \n",
            "0\n",
            ",\n",
            " \n",
            "1\n",
            ",\n",
            " \n",
            "3\n",
            ",\n",
            " \n",
            "2\n",
            ",\n",
            " \n",
            "5\n",
            ",\n",
            " \n",
            "1\n",
            ",\n",
            " \n",
            "5\n",
            ",\n",
            " \n",
            "2\n",
            ",\n",
            " \n",
            " \n",
            "3\n",
            ",\n",
            " \n",
            " \n",
            "0\n",
            "\n",
            "\n",
            "\"\n",
            "N\n",
            "o\n",
            "v\n",
            "\"\n",
            ",\n",
            " \n",
            " \n",
            "0\n",
            ".\n",
            "5\n",
            ",\n",
            " \n",
            " \n",
            "3\n",
            ",\n",
            " \n",
            " \n",
            "0\n",
            ",\n",
            " \n",
            "0\n",
            ",\n",
            " \n",
            "1\n",
            ",\n",
            " \n",
            "1\n",
            ",\n",
            " \n",
            "0\n",
            ",\n",
            " \n",
            "1\n",
            ",\n",
            " \n",
            "0\n",
            ",\n",
            " \n",
            "1\n",
            ",\n",
            " \n",
            " \n",
            "0\n",
            ",\n",
            " \n",
            " \n",
            "1\n",
            "\n",
            "\n",
            "\"\n",
            "D\n",
            "e\n",
            "c\n",
            "\"\n",
            ",\n",
            " \n",
            " \n",
            "0\n",
            ".\n",
            "0\n",
            ",\n",
            " \n",
            " \n",
            "1\n",
            ",\n",
            " \n",
            " \n",
            "0\n",
            ",\n",
            " \n",
            "1\n",
            ",\n",
            " \n",
            "0\n",
            ",\n",
            " \n",
            "0\n",
            ",\n",
            " \n",
            "0\n",
            ",\n",
            " \n",
            "0\n",
            ",\n",
            " \n",
            "0\n",
            ",\n",
            " \n",
            "0\n",
            ",\n",
            " \n",
            " \n",
            "0\n",
            ",\n",
            " \n",
            " \n",
            "1\n",
            "\n",
            "\n",
            "\n",
            "\n",
            "h\n",
            "e\n",
            "l\n",
            "l\n",
            "o\n",
            " \n",
            "g\n",
            "o\n",
            "o\n",
            "d\n",
            " \n",
            "e\n",
            "v\n",
            "e\n",
            "n\n",
            "i\n",
            "n\n",
            "g\n",
            "h\n",
            "e\n",
            "l\n",
            "l\n",
            "o\n",
            " \n",
            "g\n",
            "o\n",
            "o\n",
            "d\n",
            " \n",
            "e\n",
            "v\n",
            "e\n",
            "n\n",
            "i\n",
            "n\n",
            "g\n",
            "h\n",
            "e\n",
            "l\n",
            "l\n",
            "o\n",
            " \n",
            "g\n",
            "o\n",
            "o\n",
            "d\n",
            " \n",
            "e\n",
            "v\n",
            "e\n",
            "n\n",
            "i\n",
            "n\n",
            "g\n"
          ]
        }
      ]
    },
    {
      "cell_type": "code",
      "source": [
        "def sum(a,b,c,d):\n",
        "    if a==b or b==c or c==d or d==a:\n",
        "      sum=0\n",
        "      \n",
        "    else:\n",
        "      sum=a+b+c+d\n",
        "    return sum\n",
        "print(sum(12,5,6,4))\n",
        "print(sum(14,25,14,9))\n",
        "print(sum(12,12,12,12))"
      ],
      "metadata": {
        "colab": {
          "base_uri": "https://localhost:8080/"
        },
        "id": "eFxthmaWh0ZJ",
        "outputId": "55a90d59-f26e-404a-cc75-168b3c5cf3b1"
      },
      "execution_count": null,
      "outputs": [
        {
          "output_type": "stream",
          "name": "stdout",
          "text": [
            "27\n",
            "62\n",
            "0\n"
          ]
        }
      ]
    },
    {
      "cell_type": "code",
      "source": [
        "#python code for sum of two given integer ...if the sum is between 25 to 35 sum will return 1000\n",
        "\n",
        "def sum(x,y):\n",
        "    sum=x+y\n",
        "    if sum in range (25,35):\n",
        "      return 1000\n",
        "    else:\n",
        "      return sum\n",
        "print(sum(13,15))\n",
        "print(sum(42,15))\n"
      ],
      "metadata": {
        "colab": {
          "base_uri": "https://localhost:8080/"
        },
        "id": "DRtxZ71aja3U",
        "outputId": "53678aae-8109-422d-cae7-d721bd6cfced"
      },
      "execution_count": null,
      "outputs": [
        {
          "output_type": "stream",
          "name": "stdout",
          "text": [
            "1000\n",
            "57\n"
          ]
        }
      ]
    },
    {
      "cell_type": "code",
      "source": [
        "#python code to get os name,platform and release information\n",
        "import platform\n",
        "import os\n",
        "print(os.name)\n",
        "print(platform.system())\n",
        "print(platform.release())"
      ],
      "metadata": {
        "colab": {
          "base_uri": "https://localhost:8080/"
        },
        "id": "5DelPPrrmjex",
        "outputId": "d8dc4cd9-1903-4a1f-8e04-65f84def11b8"
      },
      "execution_count": null,
      "outputs": [
        {
          "output_type": "stream",
          "name": "stdout",
          "text": [
            "posix\n",
            "Linux\n",
            "5.4.144+\n"
          ]
        }
      ]
    },
    {
      "cell_type": "code",
      "source": [
        "#write python code for calendar\n",
        "import calendar\n",
        "y=int(input(\"Input the year  :\"))\n",
        "m=int(input(\"Input the month  :\"))\n",
        "print(calendar.month(y,m))"
      ],
      "metadata": {
        "colab": {
          "base_uri": "https://localhost:8080/"
        },
        "id": "377Ni7JyoQFb",
        "outputId": "73c5b66c-3681-4d8a-99e0-a3ea58a5cb1d"
      },
      "execution_count": null,
      "outputs": [
        {
          "output_type": "stream",
          "name": "stdout",
          "text": [
            "Input the year  :2022\n",
            "Input the month  :02\n",
            "   February 2022\n",
            "Mo Tu We Th Fr Sa Su\n",
            "    1  2  3  4  5  6\n",
            " 7  8  9 10 11 12 13\n",
            "14 15 16 17 18 19 20\n",
            "21 22 23 24 25 26 27\n",
            "28\n",
            "\n"
          ]
        }
      ]
    },
    {
      "cell_type": "code",
      "source": [
        "#python code for calulate area of the triangle\n",
        "b=int(input(\"input the base:\"))\n",
        "h=int(input(\"input the hight:\"))\n",
        "area=b*h/2\n",
        "print(\"area:\",area)"
      ],
      "metadata": {
        "colab": {
          "base_uri": "https://localhost:8080/"
        },
        "id": "y1qqF909p3tM",
        "outputId": "c9c921c5-cf08-43c6-a65a-a23d491ea9a6"
      },
      "execution_count": null,
      "outputs": [
        {
          "output_type": "stream",
          "name": "stdout",
          "text": [
            "input the base:12\n",
            "input the hight:10\n",
            "area: 60.0\n"
          ]
        }
      ]
    },
    {
      "cell_type": "code",
      "source": [
        "#write a python code to calculate number of days between two dates\n",
        "\n",
        "from datetime import date\n",
        "first_date=date(1990,1,25)\n",
        "last_date=date(2022,2,7)\n",
        "delta=last_date-first_date\n",
        "print(delta.days) #days\n",
        "\n",
        "delta=((last_date-first_date)/365)\n",
        "print(delta.days) # years\n",
        "\n"
      ],
      "metadata": {
        "colab": {
          "base_uri": "https://localhost:8080/"
        },
        "id": "m44-WIZeqwgS",
        "outputId": "5d26a2d0-4cd5-425b-8d57-c09382b88a1a"
      },
      "execution_count": null,
      "outputs": [
        {
          "output_type": "stream",
          "name": "stdout",
          "text": [
            "11701\n",
            "32\n"
          ]
        }
      ]
    },
    {
      "cell_type": "code",
      "source": [
        "#write a python code to count number of 4s in a list\n",
        "def list_count_4(nums):\n",
        "  count=0\n",
        "  for num in nums:\n",
        "    if num==4:\n",
        "      count=count+1\n",
        "  return count\n",
        "print(list_count_4([4,7,5,4,4,4,8,5,1,2,4]))\n",
        "print(list_count_4([1,2,45,32,1,25,32,65,25,4]))"
      ],
      "metadata": {
        "colab": {
          "base_uri": "https://localhost:8080/"
        },
        "id": "c9hT4eIcu0dN",
        "outputId": "3806745f-a9e8-484c-88e5-ef6125a5ba53"
      },
      "execution_count": null,
      "outputs": [
        {
          "output_type": "stream",
          "name": "stdout",
          "text": [
            "5\n",
            "1\n"
          ]
        }
      ]
    },
    {
      "cell_type": "code",
      "source": [
        "#write a python code to display current date and time\n",
        "import datetime\n",
        "now=datetime.datetime.now()\n",
        "print(\"current date and time\")\n",
        "print(now.strftime(\"%y-%m-%d %H:%M:%S\"))"
      ],
      "metadata": {
        "colab": {
          "base_uri": "https://localhost:8080/"
        },
        "id": "oixAKzYca8Ua",
        "outputId": "1a4927d7-e0f3-4af1-cd5f-616b5d63ca6e"
      },
      "execution_count": null,
      "outputs": [
        {
          "output_type": "stream",
          "name": "stdout",
          "text": [
            "current date and time\n",
            "22-02-08 04:25:36\n"
          ]
        }
      ]
    },
    {
      "cell_type": "code",
      "source": [
        "#write a python code to display the first and last color in a given colors list\n",
        "colour_list=[\"red\",\"green\",\"orange\",\"blue\",\"white\"]\n",
        "print((colour_list[0],colour_list[-1]))"
      ],
      "metadata": {
        "colab": {
          "base_uri": "https://localhost:8080/"
        },
        "id": "95SedGMGltn9",
        "outputId": "a582d039-d5c7-4408-c356-660c8cc9ccc8"
      },
      "execution_count": null,
      "outputs": [
        {
          "output_type": "stream",
          "name": "stdout",
          "text": [
            "('red', 'white')\n"
          ]
        }
      ]
    },
    {
      "cell_type": "code",
      "source": [
        "'''write a python code to print all the even number from a given \n",
        "number list in same order and stop the printing if any numbercome after 256 in given list'''\n",
        "numbers=[45,15,214,215,266,3,48,54,96,78,48,87,89,99,256,41,45,85,74,85,96,21,33,41,51,55,48]\n",
        "for s in numbers:\n",
        "  if s==256:\n",
        "    print(s)\n",
        "    break;\n",
        "  elif s%2==0:\n",
        "    print(s)\n",
        "\n",
        "\n"
      ],
      "metadata": {
        "colab": {
          "base_uri": "https://localhost:8080/"
        },
        "id": "ysgqnJJ7m5PT",
        "outputId": "e3840c00-6993-48c5-d693-e3cf8e30092a"
      },
      "execution_count": null,
      "outputs": [
        {
          "output_type": "stream",
          "name": "stdout",
          "text": [
            "214\n",
            "266\n",
            "48\n",
            "54\n",
            "96\n",
            "78\n",
            "48\n",
            "256\n",
            "41\n"
          ]
        }
      ]
    },
    {
      "cell_type": "code",
      "source": [
        "#write a python code to get the lcm of two positive number\n",
        "def lcm(x,y):\n",
        "  if x > y:\n",
        "    z = x\n",
        "  else:\n",
        "    z = y\n",
        "  while(True):\n",
        "    if((z%x==0) and (z%y==0)):\n",
        "      lcm =z\n",
        "      break\n",
        "    z+=1\n",
        "  return lcm\n",
        "print(lcm(4,6))\n",
        "print(lcm(15,17))\n",
        "\n"
      ],
      "metadata": {
        "colab": {
          "base_uri": "https://localhost:8080/"
        },
        "id": "ennsrA9ZooCY",
        "outputId": "8a0acb95-40c8-4acd-bdf3-3ba01553661e"
      },
      "execution_count": null,
      "outputs": [
        {
          "output_type": "stream",
          "name": "stdout",
          "text": [
            "12\n",
            "255\n"
          ]
        }
      ]
    },
    {
      "cell_type": "code",
      "source": [
        "#write a python code to get size of the file\n",
        "import os\n",
        "file_size=os.path.getsize(\"/content/bajajnotebook.ipynb\")\n",
        "print(\"\\n the size of bajajnotebook.ipynb is: \",file_size,\"Bytes\")\n",
        "print()"
      ],
      "metadata": {
        "colab": {
          "base_uri": "https://localhost:8080/"
        },
        "id": "BnXkOLzxrIuW",
        "outputId": "4a931898-a36b-4711-c8f1-b0521c4b9a29"
      },
      "execution_count": null,
      "outputs": [
        {
          "output_type": "stream",
          "name": "stdout",
          "text": [
            "\n",
            " the size of bajajnotebook.ipynb is:  2262 Bytes\n",
            "\n"
          ]
        }
      ]
    },
    {
      "cell_type": "code",
      "source": [
        "#write a python code to get the top stories from google url\n",
        "import bs4\n",
        "from bs4 import BeautifulSoup as Soup\n",
        "from urllib.request import urlopen\n",
        "\n",
        "google_url=\"https://www.google.com/news/rss\"\n",
        "Client=urlopen(google_url)\n",
        "xml_page=Client.read()\n",
        "Client.close()\n",
        "\n",
        "soup_page=Soup(xml_page,\"xml\")\n",
        "google_url=soup_page.findAll(\"item\")\n",
        "\n",
        "for google in google_url:\n",
        "  print(google.title.text)\n",
        "  print(google.link.text)\n",
        "  print(google.pubDate.text)\n",
        "  print(\"-\"*10)"
      ],
      "metadata": {
        "colab": {
          "base_uri": "https://localhost:8080/"
        },
        "id": "zr87Rui2sxti",
        "outputId": "b5fba00a-d190-4e73-f202-f4bf23b820bd"
      },
      "execution_count": null,
      "outputs": [
        {
          "output_type": "stream",
          "name": "stdout",
          "text": [
            "Supreme Court lets GOP-drawn Alabama congressional map that critics say dilutes power of Black voters stay in place - CNN\n",
            "https://news.google.com/__i/rss/rd/articles/CBMiSGh0dHBzOi8vd3d3LmNubi5jb20vMjAyMi8wMi8wNy9wb2xpdGljcy9zdXByZW1lLWNvdXJ0LWFsYWJhbWEvaW5kZXguaHRtbNIBAA?oc=5\n",
            "Tue, 08 Feb 2022 00:40:00 GMT\n",
            "----------\n",
            "Biden Says Nord Stream 2 Pipeline Won’t Go Forward if Russia Invades Ukraine - The Wall Street Journal\n",
            "https://news.google.com/__i/rss/rd/articles/CBMidGh0dHBzOi8vd3d3Lndzai5jb20vYXJ0aWNsZXMvYmlkZW4tc2F5cy1ub3JkLXN0cmVhbS0yLXBpcGVsaW5lLXdvbnQtZ28tZm9yd2FyZC1pZi1ydXNzaWEtaW52YWRlcy11a3JhaW5lLTExNjQ0MjY4NDA30gEA?oc=5\n",
            "Tue, 08 Feb 2022 03:40:00 GMT\n",
            "----------\n",
            "Biden's top science adviser, Eric Lander, resigns amid reports of bullying - POLITICO\n",
            "https://news.google.com/__i/rss/rd/articles/CBMiRWh0dHBzOi8vd3d3LnBvbGl0aWNvLmNvbS9uZXdzLzIwMjIvMDIvMDcvZXJpYy1sYW5kZXItcmVzaWducy0wMDAwNjU0NdIBAA?oc=5\n",
            "Tue, 08 Feb 2022 01:57:12 GMT\n",
            "----------\n",
            "Sacramento County will 'follow the state's lead' in lifting indoor mask mandate, Yolo County to 'evaluate situation' - KCRA Sacramento\n",
            "https://news.google.com/__i/rss/rd/articles/CBMiY2h0dHBzOi8vd3d3LmtjcmEuY29tL2FydGljbGUvc2FjcmFtZW50by1jb3VudHktc3RhdGUtbGlmdGluZy1zdGF0ZXdpZGUtaW5kb29yLW1hc2stbWFuZGF0ZS8zOTAwNjMxNtIBAA?oc=5\n",
            "Tue, 08 Feb 2022 01:12:00 GMT\n",
            "----------\n",
            "1 killed, 1 injured in shooting at Richland grocery store - KING5.com\n",
            "https://news.google.com/__i/rss/rd/articles/CBMibmh0dHBzOi8vd3d3Lmtpbmc1LmNvbS9hcnRpY2xlL25ld3MvY3JpbWUvcmljaGxhbmQtZnJlZC1tZXllci1zaG9vdGluZy8yODEtMDAwYzFiZTEtMzNkMi00MzQ4LWIzMjEtZDQwMDQzYTViYjgx0gFyaHR0cHM6Ly93d3cua2luZzUuY29tL2FtcC9hcnRpY2xlL25ld3MvY3JpbWUvcmljaGxhbmQtZnJlZC1tZXllci1zaG9vdGluZy8yODEtMDAwYzFiZTEtMzNkMi00MzQ4LWIzMjEtZDQwMDQzYTViYjgx?oc=5\n",
            "Mon, 07 Feb 2022 20:40:00 GMT\n",
            "----------\n",
            "Putin keeps distance from Macron as leaders mull diplomatic end to Ukraine crisis - New York Post \n",
            "https://news.google.com/__i/rss/rd/articles/CBMib2h0dHBzOi8vbnlwb3N0LmNvbS8yMDIyLzAyLzA3L3ZsYWRpbWlyLXB1dGluLWtlZXBzLWRpc3RhbmNlLWZyb20tZW1tYW51ZWwtbWFjcm9uLWR1cmluZy11a3JhaW5lLWRpcGxvbWFjeS1wdXNoL9IBAA?oc=5\n",
            "Mon, 07 Feb 2022 18:51:00 GMT\n",
            "----------\n",
            "‘Errors’ at Treatment Plant Force 1 Million in Austin to Boil Their Water - The New York Times\n",
            "https://news.google.com/__i/rss/rd/articles/CBMiPGh0dHBzOi8vd3d3Lm55dGltZXMuY29tLzIwMjIvMDIvMDcvdXMvYXVzdGluLWJvaWwtd2F0ZXIuaHRtbNIBAA?oc=5\n",
            "Mon, 07 Feb 2022 23:06:50 GMT\n",
            "----------\n",
            "A judge ordered the U.S. to pay $230 million to victims of a Texas church massacre - NPR\n",
            "https://news.google.com/__i/rss/rd/articles/CBMiemh0dHBzOi8vd3d3Lm5wci5vcmcvMjAyMi8wMi8wNy8xMDc5MDEzMDA2L2EtanVkZ2Utb3JkZXJlZC10aGUtdS1zLXRvLXBheS0yMzAtbWlsbGlvbi10by12aWN0aW1zLW9mLWEtdGV4YXMtY2h1cmNoLW1hc3NhY3Jl0gEA?oc=5\n",
            "Tue, 08 Feb 2022 02:58:55 GMT\n",
            "----------\n",
            "Ottawa mayor declares state of emergency for Covid trucker protest - NBC News\n",
            "https://news.google.com/__i/rss/rd/articles/CBMiaGh0dHBzOi8vd3d3Lm5iY25ld3MuY29tL25ld3Mvd29ybGQvb3R0YXdhLWNvdmlkLXRydWNrZXItcHJvdGVzdC1tYXlvci1kZWNsYXJlcy1zdGF0ZS1lbWVyZ2VuY3ktcmNuYTE1MTEx0gEA?oc=5\n",
            "Mon, 07 Feb 2022 23:26:01 GMT\n",
            "----------\n",
            "Senate GOP backlash smacks RNC after Cheney-Kinzinger censure - POLITICO\n",
            "https://news.google.com/__i/rss/rd/articles/CBMib2h0dHBzOi8vd3d3LnBvbGl0aWNvLmNvbS9uZXdzLzIwMjIvMDIvMDcvc2VuYXRlLWdvcC1iYWNrbGFzaC1zbWFja3Mtcm5jLWFmdGVyLWNoZW5leS1raW56aW5nZXItY2Vuc3VyZS0wMDAwNjQ1NtIBAA?oc=5\n",
            "Tue, 08 Feb 2022 00:25:04 GMT\n",
            "----------\n",
            "Hundreds gather for funeral of Morocco boy who died in well - The Guardian\n",
            "https://news.google.com/__i/rss/rd/articles/CBMiaWh0dHBzOi8vd3d3LnRoZWd1YXJkaWFuLmNvbS93b3JsZC8yMDIyL2ZlYi8wOC9odW5kcmVkcy1nYXRoZXItZm9yLWZ1bmVyYWwtb2YtbW9yb2Njby1ib3ktd2hvLWRpZWQtaW4td2VsbNIBAA?oc=5\n",
            "Tue, 08 Feb 2022 00:41:00 GMT\n",
            "----------\n",
            "Keir Starmer: Two arrested after protesters surround Labour leader - BBC News\n",
            "https://news.google.com/__i/rss/rd/articles/CBMiLWh0dHBzOi8vd3d3LmJiYy5jb20vbmV3cy91ay1wb2xpdGljcy02MDI5NDQ4M9IBMWh0dHBzOi8vd3d3LmJiYy5jb20vbmV3cy91ay1wb2xpdGljcy02MDI5NDQ4My5hbXA?oc=5\n",
            "Tue, 08 Feb 2022 00:54:18 GMT\n",
            "----------\n",
            "Israel PM vows action as police Pegasus spying scandal widens - Al Jazeera English\n",
            "https://news.google.com/__i/rss/rd/articles/CBMiZWh0dHBzOi8vd3d3LmFsamF6ZWVyYS5jb20vbmV3cy8yMDIyLzIvNy9uZXctcmVwb3J0LWFsbGVnZXMtd2lkZXNwcmVhZC1wZWdhc3VzLXNweWluZy1ieS1pc3JhZWwtcG9saWNl0gEA?oc=5\n",
            "Mon, 07 Feb 2022 17:26:15 GMT\n",
            "----------\n",
            "William backs 'Queen Camilla': Duke of Cambridge supports Duchess of Cornwall's title - Daily Mail\n",
            "https://news.google.com/__i/rss/rd/articles/CBMiggFodHRwczovL3d3dy5kYWlseW1haWwuY28udWsvbmV3cy9hcnRpY2xlLTEwNDg2OTY1L1dpbGxpYW0tYmFja3MtUXVlZW4tQ2FtaWxsYS1EdWtlLUNhbWJyaWRnZS1zdXBwb3J0cy1EdWNoZXNzLUNvcm53YWxscy10aXRsZS5odG1s0gEA?oc=5\n",
            "Mon, 07 Feb 2022 22:21:17 GMT\n",
            "----------\n",
            "Frontier to buy Spirit Airlines in $2.9 bln budget carrier deal - Reuters\n",
            "https://news.google.com/__i/rss/rd/articles/CBMiaWh0dHBzOi8vd3d3LnJldXRlcnMuY29tL2J1c2luZXNzL2Flcm9zcGFjZS1kZWZlbnNlL3NwaXJpdC1haXJsaW5lcy1mcm9udGllci1tZXJnZS0yOS1ibG4tZGVhbC0yMDIyLTAyLTA3L9IBAA?oc=5\n",
            "Tue, 08 Feb 2022 01:11:00 GMT\n",
            "----------\n",
            "Peter Thiel, PayPal founder and Trump ally, to step down from Meta board - The Guardian\n",
            "https://news.google.com/__i/rss/rd/articles/CBMiWWh0dHBzOi8vd3d3LnRoZWd1YXJkaWFuLmNvbS90ZWNobm9sb2d5LzIwMjIvZmViLzA3L3BldGVyLXRoaWVsLW1ldGEtZmFjZWJvb2stYm9hcmQtcmVzaWdu0gEA?oc=5\n",
            "Tue, 08 Feb 2022 00:42:00 GMT\n",
            "----------\n",
            "Dow Jones Futures: 4 Stocks To Watch In Volatile Market Rally - Investor's Business Daily\n",
            "https://news.google.com/__i/rss/rd/articles/CBMijAFodHRwczovL3d3dy5pbnZlc3RvcnMuY29tL21hcmtldC10cmVuZC9zdG9jay1tYXJrZXQtdG9kYXkvZG93LWpvbmVzLWZ1dHVyZXMtZm91ci10b3Atc3RvY2tzLXRvLWJ1eS1hbmQtd2F0Y2gtaW4tdm9sYXRpbGUtc3RvY2stbWFya2V0LXJhbGx5L9IBAA?oc=5\n",
            "Tue, 08 Feb 2022 03:48:00 GMT\n",
            "----------\n",
            "Amazon hiking base salary cap to $350,000 for corporate, tech workers - Fox Business\n",
            "https://news.google.com/__i/rss/rd/articles/CBMiYWh0dHBzOi8vd3d3LmZveGJ1c2luZXNzLmNvbS9tYXJrZXRzL2FtYXpvbi1oaWtpbmctYmFzZS1zYWxhcnktY2FwLXRvLTM1MDAwMC1mb3ItY29ycG9yYXRlLXdvcmtlcnPSAQA?oc=5\n",
            "Tue, 08 Feb 2022 01:22:11 GMT\n",
            "----------\n",
            "Someone put 'Wordle' on the Game Boy - Engadget\n",
            "https://news.google.com/__i/rss/rd/articles/CBMiPGh0dHBzOi8vd3d3LmVuZ2FkZ2V0LmNvbS93b3JkbGUtZ2FtZS1ib3ktcG9ydC0yMTIwMzYzMjIuaHRtbNIBAA?oc=5\n",
            "Mon, 07 Feb 2022 21:21:32 GMT\n",
            "----------\n",
            "Microsoft will block downloaded macros in Office versions going back to 2013 - Ars Technica\n",
            "https://news.google.com/__i/rss/rd/articles/CBMidWh0dHBzOi8vYXJzdGVjaG5pY2EuY29tL2dhZGdldHMvMjAyMi8wMi9taWNyb3NvZnQtd2lsbC1ibG9jay1kb3dubG9hZGVkLW1hY3Jvcy1pbi1vZmZpY2UtdmVyc2lvbnMtZ29pbmctYmFjay10by0yMDEzL9IBe2h0dHBzOi8vYXJzdGVjaG5pY2EuY29tL2dhZGdldHMvMjAyMi8wMi9taWNyb3NvZnQtd2lsbC1ibG9jay1kb3dubG9hZGVkLW1hY3Jvcy1pbi1vZmZpY2UtdmVyc2lvbnMtZ29pbmctYmFjay10by0yMDEzLz9hbXA9MQ?oc=5\n",
            "Mon, 07 Feb 2022 20:54:39 GMT\n",
            "----------\n",
            "Samsung Galaxy Watch 4 cobbles together more health features - The Verge\n",
            "https://news.google.com/__i/rss/rd/articles/CBMib2h0dHBzOi8vd3d3LnRoZXZlcmdlLmNvbS8yMDIyLzIvNy8yMjkyMTYxNS9zYW1zdW5nLWdhbGF4eS13YXRjaC00LXdlYXItb3MtZ29vZ2xlLWFzc2lzdGFudC13ZWFyYWJsZXMtc21hcnR3YXRjaNIBAA?oc=5\n",
            "Mon, 07 Feb 2022 23:00:00 GMT\n",
            "----------\n",
            "Everything We Know About the 2022 iPad Air Coming in March - MacRumors\n",
            "https://news.google.com/__i/rss/rd/articles/CBMiLmh0dHBzOi8vd3d3Lm1hY3J1bW9ycy5jb20vZ3VpZGUvMjAyMi1pcGFkLWFpci_SAQA?oc=5\n",
            "Mon, 07 Feb 2022 21:07:32 GMT\n",
            "----------\n",
            "‘The Bachelor’ Recap: And the Academy Award Goes to … - The Ringer\n",
            "https://news.google.com/__i/rss/rd/articles/CBMiYWh0dHBzOi8vd3d3LnRoZXJpbmdlci5jb20vMjAyMi8yLzcvMjI5MjI2MTIvdGhlLWJhY2hlbG9yLXNlYXNvbi0yNi1lcGlzb2RlLTUtcmVjYXAtc2hhbmFlLXZpbGxhaW7SAW5odHRwczovL3d3dy50aGVyaW5nZXIuY29tL3BsYXRmb3JtL2FtcC8yMDIyLzIvNy8yMjkyMjYxMi90aGUtYmFjaGVsb3Itc2Vhc29uLTI2LWVwaXNvZGUtNS1yZWNhcC1zaGFuYWUtdmlsbGFpbg?oc=5\n",
            "Tue, 08 Feb 2022 03:03:52 GMT\n",
            "----------\n",
            "After pulling songs, Neil Young is telling Spotify employees to quit their jobs - The Verge\n",
            "https://news.google.com/__i/rss/rd/articles/CBMiXWh0dHBzOi8vd3d3LnRoZXZlcmdlLmNvbS8yMjkyMjcxNC9uZWlsLXlvdW5nLXNwb3RpZnktbGV0dGVyLWNlby1kYW5pZWwtZWstZW1wbG95ZWVzLWpvZS1yb2dhbtIBAA?oc=5\n",
            "Tue, 08 Feb 2022 01:37:43 GMT\n",
            "----------\n",
            "See Scarlett Johansson, Colin Jost in Super Bowl commercial | EW.com - Entertainment Weekly News\n",
            "https://news.google.com/__i/rss/rd/articles/CBMiRmh0dHBzOi8vZXcuY29tL3R2L3NjYXJsZXR0LWpvaGFuc3Nvbi1jb2xpbi1qb3N0LXN1cGVyLWJvd2wtY29tbWVyY2lhbC_SAQA?oc=5\n",
            "Mon, 07 Feb 2022 17:24:00 GMT\n",
            "----------\n",
            "Kylie Jenner baby boy news LIVE – Name of star’s newborn son still a mystery as he’s born a day after Storm... - The US Sun\n",
            "https://news.google.com/__i/rss/rd/articles/CBMiW2h0dHBzOi8vd3d3LnRoZS1zdW4uY29tL2VudGVydGFpbm1lbnQvNDYyNzgxOS9reWxpZS1qZW5uZXItYmFieS1ib3ktbmFtZS10cmF2aXMtc2NvdHQtbGl2ZS_SAQA?oc=5\n",
            "Tue, 08 Feb 2022 01:01:00 GMT\n",
            "----------\n",
            "Houston Texans hire defensive coordinator Lovie Smith as head coach - CNN\n",
            "https://news.google.com/__i/rss/rd/articles/CBMiWWh0dHBzOi8vd3d3LmNubi5jb20vMjAyMi8wMi8wNy9zcG9ydC9sb3ZpZS1zbWl0aC1ob3VzdG9uLXRleGFucy1oZWFkLWNvYWNoLXNwdC9pbmRleC5odG1s0gEA?oc=5\n",
            "Tue, 08 Feb 2022 02:26:00 GMT\n",
            "----------\n",
            "2022 Winter Olympics - What to watch for as U.S. women's hockey takes on Canada - ESPN\n",
            "https://news.google.com/__i/rss/rd/articles/CBMib2h0dHBzOi8vd3d3LmVzcG4uY29tL29seW1waWNzL3N0b3J5L18vaWQvMzMyMzc5MTIvMjAyMi13aW50ZXItb2x5bXBpY3Mtd2F0Y2gtdGVhbS11c2Etd29tZW4taG9ja2V5LXRha2VzLWNhbmFkYdIBfGh0dHBzOi8vd3d3LmVzcG4uY29tL29seW1waWNzL3N0b3J5L18vaWQvMzMyMzc5MTIvMjAyMi13aW50ZXItb2x5bXBpY3Mtd2F0Y2gtdGVhbS11c2Etd29tZW4taG9ja2V5LXRha2VzLWNhbmFkYT9wbGF0Zm9ybT1hbXA?oc=5\n",
            "Mon, 07 Feb 2022 22:49:33 GMT\n",
            "----------\n",
            "Super Bowl Predictions: Madden NFL 22 and Marshawn Lynch pick Bengals over Rams - Cincy Jungle\n",
            "https://news.google.com/__i/rss/rd/articles/CBMidGh0dHBzOi8vd3d3LmNpbmN5anVuZ2xlLmNvbS8yMDIyLzIvNy8yMjkyMjQwNC9zdXBlci1ib3dsLXByZWRpY3Rpb25zLW1hZGRlbi1uZmwtMjItbWFyc2hhd24tbHluY2gtYmVuZ2Fscy1yYW1zLXBpY2tz0gEA?oc=5\n",
            "Mon, 07 Feb 2022 22:28:15 GMT\n",
            "----------\n",
            "Odell Beckham Jr. receives chills when former Browns teammate Jarvis Landry voices support - Akron Beacon Journal\n",
            "https://news.google.com/__i/rss/rd/articles/CBMikAFodHRwczovL3d3dy5iZWFjb25qb3VybmFsLmNvbS9zdG9yeS9zcG9ydHMvcHJvL2Jyb3ducy8yMDIyLzAyLzA3L2NsZXZlbGFuZC1icm93bnMtbmV3cy1vZGVsbC1iZWNraGFtLWpyLWphcnZpcy1sYW5kcnktc3VwZXItYm93bC1sdmkvNjY5MTA1NzAwMS_SASxodHRwczovL2FtcC5iZWFjb25qb3VybmFsLmNvbS9hbXAvNjY5MTA1NzAwMQ?oc=5\n",
            "Tue, 08 Feb 2022 01:19:37 GMT\n",
            "----------\n",
            "SCRUB: Astra to launch its 1st rocket flight from Florida today. Here's how to watch it live - Space.com\n",
            "https://news.google.com/__i/rss/rd/articles/CBMiR2h0dHBzOi8vd3d3LnNwYWNlLmNvbS9hc3RyYS1maXJzdC1mbG9yaWRhLWxhdW5jaC1lbGFuYS00MS1mZWJydWFyeS0yMDIy0gEA?oc=5\n",
            "Mon, 07 Feb 2022 18:37:03 GMT\n",
            "----------\n",
            "Researchers use tiny magnetic swirls to generate true random numbers - Phys.org\n",
            "https://news.google.com/__i/rss/rd/articles/CBMiQ2h0dHBzOi8vcGh5cy5vcmcvbmV3cy8yMDIyLTAyLXRpbnktbWFnbmV0aWMtc3dpcmxzLXRydWUtcmFuZG9tLmh0bWzSAQA?oc=5\n",
            "Mon, 07 Feb 2022 17:38:22 GMT\n",
            "----------\n",
            "Ice age mammoth, woolly rhino and hyena bones uncovered in English town - Livescience.com\n",
            "https://news.google.com/__i/rss/rd/articles/CBMiSWh0dHBzOi8vd3d3LmxpdmVzY2llbmNlLmNvbS9pY2UtYWdlLWFuaW1hbC1yZW1haW5zLWZvdW5kLWluLWRldm9uLWVuZ2xhbmTSAQA?oc=5\n",
            "Mon, 07 Feb 2022 13:37:33 GMT\n",
            "----------\n",
            "Chimps Seen Performing First Aid on Themselves and Each Other - The Wall Street Journal\n",
            "https://news.google.com/__i/rss/rd/articles/CBMiZmh0dHBzOi8vd3d3Lndzai5jb20vYXJ0aWNsZXMvY2hpbXBzLXNlZW4tcGVyZm9ybWluZy1maXJzdC1haWQtb24tdGhlbXNlbHZlcy1hbmQtZWFjaC1vdGhlci0xMTY0NDI1MzIyNNIBAA?oc=5\n",
            "Mon, 07 Feb 2022 17:00:00 GMT\n",
            "----------\n",
            "New York Deer Infected With Omicron, Study Finds - The New York Times\n",
            "https://news.google.com/__i/rss/rd/articles/CBMiT2h0dHBzOi8vd3d3Lm55dGltZXMuY29tLzIwMjIvMDIvMDcvaGVhbHRoL29taWNyb24tZGVlci1zdGF0ZW4taXNsYW5kLWNvdmlkLmh0bWzSAQA?oc=5\n",
            "Tue, 08 Feb 2022 01:34:03 GMT\n",
            "----------\n",
            "Paralyzed patients walking in minutes: New electrode device a step forward in spinal injury care - USA TODAY\n",
            "https://news.google.com/__i/rss/rd/articles/CBMicmh0dHBzOi8vd3d3LnVzYXRvZGF5LmNvbS9zdG9yeS9uZXdzL2hlYWx0aC8yMDIyLzAyLzA3L3BhcmFseXNpcy1zcGluYWwtY29yZC1pbmp1cnktZWxlY3Ryb2RlLXRyZWF0bWVudC82Njg5MTgzMDAxL9IBAA?oc=5\n",
            "Mon, 07 Feb 2022 19:19:44 GMT\n",
            "----------\n",
            "California To End Statewide Mask Mandate Feb. 15 - CBS Los Angeles\n",
            "https://news.google.com/__i/rss/rd/articles/CBMiW2h0dHBzOi8vbG9zYW5nZWxlcy5jYnNsb2NhbC5jb20vMjAyMi8wMi8wNy9jYWxpZm9ybmlhLXRvLWVuZC1zdGF0ZXdpZGUtbWFzay1tYW5kYXRlLWZlYi0xNS_SAQA?oc=5\n",
            "Mon, 07 Feb 2022 23:24:00 GMT\n",
            "----------\n",
            "How Getting Extra Sleep May Help You Eat Fewer Calories - Healthline\n",
            "https://news.google.com/__i/rss/rd/articles/CBMibmh0dHBzOi8vd3d3LmhlYWx0aGxpbmUuY29tL2hlYWx0aC1uZXdzL2hvdy1nZXR0aW5nLWFuLWV4dHJhLTEtMi1ob3Vycy1vZi1zbGVlcC1tYXktaGVscC15b3UtZWF0LWZld2VyLWNhbG9yaWVz0gEA?oc=5\n",
            "Mon, 07 Feb 2022 23:44:56 GMT\n",
            "----------\n"
          ]
        }
      ]
    },
    {
      "cell_type": "code",
      "source": [
        "#List\n",
        "#write a python code to sum all the item in a list\n",
        "def sum_list(items):\n",
        "  sum_numbers=0\n",
        "  for x in items:\n",
        "    sum_numbers +=x\n",
        "  return sum_numbers\n",
        "print(sum_list([45,24,78,98,32]))\n",
        "print(sum_list([78,-52,-89,178]))\n",
        "print(sum_list([-25,-89,-12,-32]))\n",
        "\n"
      ],
      "metadata": {
        "colab": {
          "base_uri": "https://localhost:8080/"
        },
        "id": "Eg55ZNeex4Vr",
        "outputId": "aafcd401-6adc-4d8c-bbcf-aa1dc2563393"
      },
      "execution_count": null,
      "outputs": [
        {
          "output_type": "stream",
          "name": "stdout",
          "text": [
            "277\n",
            "115\n",
            "-158\n"
          ]
        }
      ]
    },
    {
      "cell_type": "code",
      "source": [
        "#write a python code to multiply all the item in a list\n",
        "def multiply(a):\n",
        "  if(len(a)==0):\n",
        "    return 0\n",
        "  multi=1\n",
        "  for i in a:\n",
        "    multi=multi*i\n",
        "  return multi\n",
        "a=[1,2,3,4,6,7,54]\n",
        "print(multiply(a))\n",
        "\n"
      ],
      "metadata": {
        "colab": {
          "base_uri": "https://localhost:8080/"
        },
        "outputId": "949aedb0-279a-4784-810b-b071620a2bf4",
        "id": "r2Zer7a-zBbh"
      },
      "execution_count": null,
      "outputs": [
        {
          "output_type": "stream",
          "name": "stdout",
          "text": [
            "54432\n"
          ]
        }
      ]
    },
    {
      "cell_type": "code",
      "source": [
        "#write a python code to get the largest number in a list\n",
        "def max_num_in_list(list):\n",
        "  max=list[0]\n",
        "  for a in list:\n",
        "    if a>max:\n",
        "       max=a\n",
        "  return max\n",
        "print(max_num_in_list([1,8,5,96,78,23]))"
      ],
      "metadata": {
        "colab": {
          "base_uri": "https://localhost:8080/"
        },
        "id": "8TK9BMhs4inT",
        "outputId": "61419836-c54b-4290-c8ae-fd25f21e2a59"
      },
      "execution_count": null,
      "outputs": [
        {
          "output_type": "stream",
          "name": "stdout",
          "text": [
            "96\n"
          ]
        }
      ]
    },
    {
      "cell_type": "code",
      "source": [
        "#write a python code to remove all the duplicates from list\n",
        "a=[41,52,41,85,63,23,12,85,63,52,41,23,54,13,23,1,3,2]\n",
        "dup_items=set()\n",
        "uniq_items=[]\n",
        "for x in a:\n",
        "  if x not in dup_items:\n",
        "    uniq_items.append(x)\n",
        "    dup_items.add(x)\n",
        "print(dup_items)\n"
      ],
      "metadata": {
        "colab": {
          "base_uri": "https://localhost:8080/"
        },
        "id": "Wtbd0LKs5rhm",
        "outputId": "9ae68249-3753-4782-c77b-19eabd249d16"
      },
      "execution_count": null,
      "outputs": [
        {
          "output_type": "stream",
          "name": "stdout",
          "text": [
            "{1, 2, 3, 41, 12, 13, 52, 85, 54, 23, 63}\n"
          ]
        }
      ]
    },
    {
      "cell_type": "code",
      "source": [
        "#Dictionaries\n",
        "#Write a python code to sort(ascending and descending) a dictionary  by values\n",
        "import operator\n",
        "d ={1:2,3:4,4:3,2:1,0:9,6:4}\n",
        "print(\"original dictionary:\",d)\n",
        "sorted_d=sorted(d.items(),key=operator.itemgetter(1))\n",
        "print(\"dictionary in ascending order by value:\",sorted_d)\n",
        "sorted_d=(sorted(d.items(),key=operator.itemgetter(1),reverse=True))\n",
        "print(\"dictionary in descending order by value:\",sorted_d)\n"
      ],
      "metadata": {
        "colab": {
          "base_uri": "https://localhost:8080/"
        },
        "id": "ANAAo0T966H0",
        "outputId": "b9443822-7cbe-40ed-8b72-83ba7b0f50c0"
      },
      "execution_count": null,
      "outputs": [
        {
          "output_type": "stream",
          "name": "stdout",
          "text": [
            "original dictionary: {1: 2, 3: 4, 4: 3, 2: 1, 0: 9, 6: 4}\n",
            "dictionary in ascending order by value: [(2, 1), (1, 2), (4, 3), (3, 4), (6, 4), (0, 9)]\n",
            "dictionary in descending order by value: [(0, 9), (3, 4), (6, 4), (4, 3), (1, 2), (2, 1)]\n"
          ]
        }
      ]
    },
    {
      "cell_type": "code",
      "source": [
        "#Write a python code to add a key to a dictionary\n",
        "dict={1:25,65:12}\n",
        "print(dict)\n",
        "dict.update({89:60})\n",
        "print(dict)"
      ],
      "metadata": {
        "colab": {
          "base_uri": "https://localhost:8080/"
        },
        "id": "Y3SvF_L59U13",
        "outputId": "dab36500-c650-4626-80f6-b3cce5ce2077"
      },
      "execution_count": null,
      "outputs": [
        {
          "output_type": "stream",
          "name": "stdout",
          "text": [
            "{1: 25, 65: 12}\n",
            "{1: 25, 65: 12, 89: 60}\n"
          ]
        }
      ]
    },
    {
      "cell_type": "code",
      "source": [
        "#write a python code to concatenate following dictionaries to create new one\n",
        "dic1={1:10,5:96,41:52}\n",
        "dic2={2:3,5:63,51:56}\n",
        "dic3={57:2,2:3,85:41}\n",
        "dic4={ }\n",
        "for d in (dic1,dic2,dic3):dic4.update(d)\n",
        "print(dic4)"
      ],
      "metadata": {
        "colab": {
          "base_uri": "https://localhost:8080/"
        },
        "id": "g2EjjLA1_Lbi",
        "outputId": "3e94cbc8-02a9-4039-a648-d4f2ddc6f3bf"
      },
      "execution_count": null,
      "outputs": [
        {
          "output_type": "stream",
          "name": "stdout",
          "text": [
            "{1: 10, 5: 63, 41: 52, 2: 3, 51: 56, 57: 2, 85: 41}\n"
          ]
        }
      ]
    },
    {
      "cell_type": "code",
      "source": [
        "#write a python code to check whether a given key already exists in dictionary\n",
        "d={1:10,2:52,8:96,62:63,45:62}\n",
        "def is_key_present(x):\n",
        "  if x in d:\n",
        "    print(\"key is present in dictionary\")\n",
        "  else:\n",
        "    print(\"key is not present in dictionary\")\n",
        "is_key_present(2)\n",
        "is_key_present(96)\n"
      ],
      "metadata": {
        "colab": {
          "base_uri": "https://localhost:8080/"
        },
        "id": "UtbQFBupAksI",
        "outputId": "6e3626bf-6f47-484a-805b-2164ff11a23f"
      },
      "execution_count": null,
      "outputs": [
        {
          "output_type": "stream",
          "name": "stdout",
          "text": [
            "key is present in dictionary\n",
            "key is not present in dictionary\n"
          ]
        }
      ]
    },
    {
      "cell_type": "code",
      "source": [
        "#tuples\n",
        "#write a python code to create a tuple with different data types\n",
        "sample_tuple=(\"string\",3.2,1)\n",
        "print(sample_tuple)"
      ],
      "metadata": {
        "colab": {
          "base_uri": "https://localhost:8080/"
        },
        "id": "0m6xD5ESDovV",
        "outputId": "fb46860b-47e3-438e-c0cb-517a6985dc46"
      },
      "execution_count": null,
      "outputs": [
        {
          "output_type": "stream",
          "name": "stdout",
          "text": [
            "('string', 3.2, 1)\n"
          ]
        }
      ]
    },
    {
      "cell_type": "code",
      "source": [
        "#write a python code to add an item in a tuple\n",
        "tuplex=(4,6,8,3,1)\n",
        "print(tuplex)\n",
        "tuplex=tuplex + (9,) #adding of new values\n",
        "print(tuplex)\n",
        "tuplex=tuplex[:5] +(14,15,78)  #adding a values in index \n",
        "print(tuplex)     "
      ],
      "metadata": {
        "colab": {
          "base_uri": "https://localhost:8080/"
        },
        "id": "i9RQ_biwEV0K",
        "outputId": "678e751c-8dd7-4f89-dfc7-38071df142c4"
      },
      "execution_count": null,
      "outputs": [
        {
          "output_type": "stream",
          "name": "stdout",
          "text": [
            "(4, 6, 8, 3, 1)\n",
            "(4, 6, 8, 3, 1, 9)\n",
            "(4, 6, 8, 3, 1, 14, 15, 78)\n"
          ]
        }
      ]
    },
    {
      "cell_type": "code",
      "source": [
        "#write a python code to find repeated items of a tuples\n",
        "tuplex=(2,4,5,6,4,7,4,4,7,4,8,5,4)\n",
        "print(tuplex)\n",
        "count=tuplex.count(4)\n",
        "print(count)"
      ],
      "metadata": {
        "colab": {
          "base_uri": "https://localhost:8080/"
        },
        "id": "Y9FISde1GSXM",
        "outputId": "71145c95-81a0-4d08-e067-06953106e3ad"
      },
      "execution_count": null,
      "outputs": [
        {
          "output_type": "stream",
          "name": "stdout",
          "text": [
            "(2, 4, 5, 6, 4, 7, 4, 4, 7, 4, 8, 5, 4)\n",
            "6\n"
          ]
        }
      ]
    },
    {
      "cell_type": "code",
      "source": [
        "#write a python code to convert a list to a tuple\n",
        "listx=[5,10,78,20,14]\n",
        "print(listx)\n",
        "tuplex=tuple(listx)\n",
        "print(tuplex)"
      ],
      "metadata": {
        "colab": {
          "base_uri": "https://localhost:8080/"
        },
        "id": "yPXlpFqFHBVU",
        "outputId": "33e97102-f503-4081-95c0-0bb3e326fa6c"
      },
      "execution_count": null,
      "outputs": [
        {
          "output_type": "stream",
          "name": "stdout",
          "text": [
            "[5, 10, 78, 20, 14]\n",
            "(5, 10, 78, 20, 14)\n"
          ]
        }
      ]
    },
    {
      "cell_type": "code",
      "source": [
        "pip install pyspark"
      ],
      "metadata": {
        "colab": {
          "base_uri": "https://localhost:8080/"
        },
        "id": "obHBt5ci0MSE",
        "outputId": "0561ec39-3228-4ccc-c227-4baf9adeaf10"
      },
      "execution_count": 1,
      "outputs": [
        {
          "output_type": "stream",
          "name": "stdout",
          "text": [
            "Collecting pyspark\n",
            "  Downloading pyspark-3.2.1.tar.gz (281.4 MB)\n",
            "\u001b[K     |████████████████████████████████| 281.4 MB 37 kB/s \n",
            "\u001b[?25hCollecting py4j==0.10.9.3\n",
            "  Downloading py4j-0.10.9.3-py2.py3-none-any.whl (198 kB)\n",
            "\u001b[K     |████████████████████████████████| 198 kB 55.4 MB/s \n",
            "\u001b[?25hBuilding wheels for collected packages: pyspark\n",
            "  Building wheel for pyspark (setup.py) ... \u001b[?25l\u001b[?25hdone\n",
            "  Created wheel for pyspark: filename=pyspark-3.2.1-py2.py3-none-any.whl size=281853642 sha256=43d6b750b5615d1246b122e0ea430ced2f063dee26adf502df49d6b9d6b8ffba\n",
            "  Stored in directory: /root/.cache/pip/wheels/9f/f5/07/7cd8017084dce4e93e84e92efd1e1d5334db05f2e83bcef74f\n",
            "Successfully built pyspark\n",
            "Installing collected packages: py4j, pyspark\n",
            "Successfully installed py4j-0.10.9.3 pyspark-3.2.1\n"
          ]
        }
      ]
    },
    {
      "cell_type": "code",
      "source": [
        "#RDD i)Parallelized ii)Dataset in an Storage system\n",
        "from pyspark.sql import SparkSession\n",
        "spark = SparkSession.builder.getOrCreate()\n",
        "df = spark.sparkContext.parallelize([(12,20,35,'abc'),\n",
        "(41,58,64,'def'),\n",
        "(70,85,90,'ghi')]).toDF(['col1','col2','col3','col4'])\n",
        "df.show()"
      ],
      "metadata": {
        "colab": {
          "base_uri": "https://localhost:8080/"
        },
        "id": "mUsiraS80vZ2",
        "outputId": "1050fca0-0d3e-450f-dd44-cda417ca7607"
      },
      "execution_count": 4,
      "outputs": [
        {
          "output_type": "stream",
          "name": "stdout",
          "text": [
            "+----+----+----+----+\n",
            "|col1|col2|col3|col4|\n",
            "+----+----+----+----+\n",
            "|  12|  20|  35| abc|\n",
            "|  41|  58|  64| def|\n",
            "|  70|  85|  90| ghi|\n",
            "+----+----+----+----+\n",
            "\n"
          ]
        }
      ]
    },
    {
      "cell_type": "code",
      "source": [
        "#using createDataFrame() function\n",
        "from pysparkimport sparkContext\n",
        "student=spark.createDataFrame([\n",
        "('009001','abhi','70%','EC'),('009002','Rahul','79%','CS'),\n",
        "('009007','Raju','90%','CV'),('009008','Ramu','60%','MECH'),\n",
        "],['RollNum','Name','Percentage','Department'])\n",
        "student.show()"
      ],
      "metadata": {
        "colab": {
          "base_uri": "https://localhost:8080/"
        },
        "id": "umpdjwHu4DGl",
        "outputId": "d35d6c6c-6404-418d-b577-75845df9bf2c"
      },
      "execution_count": 5,
      "outputs": [
        {
          "output_type": "stream",
          "name": "stdout",
          "text": [
            "+-------+-----+----------+----------+\n",
            "|RollNum| Name|Percentage|Department|\n",
            "+-------+-----+----------+----------+\n",
            "| 009001| abhi|       70%|        EC|\n",
            "| 009002|Rahul|       79%|        CS|\n",
            "| 009007| Raju|       90%|        CV|\n",
            "| 009008| Ramu|       60%|      MECH|\n",
            "+-------+-----+----------+----------+\n",
            "\n"
          ]
        }
      ]
    },
    {
      "cell_type": "code",
      "source": [
        "#Various Operations In RDDs\n",
        "#i)count() \n",
        "from pyspark.sql import SparkSession\n",
        "words=spark.sparkContext.parallelize(\n",
        "  [\"Python\",\"java\",\"Hadoop\",\"c\",\"c++\",\"Spark vs Hadoop\",\"pyspark and spark\"]\n",
        ")\n",
        "counts=words.count()\n",
        "print(\"Number of elements present in RDD>>\", (counts))"
      ],
      "metadata": {
        "colab": {
          "base_uri": "https://localhost:8080/"
        },
        "id": "_gf0EBvG51Ak",
        "outputId": "50df5bf0-3496-4f39-b30c-51b6bc2dae1f"
      },
      "execution_count": 13,
      "outputs": [
        {
          "output_type": "stream",
          "name": "stdout",
          "text": [
            "Number of elements present in RDD>> 7\n"
          ]
        }
      ]
    },
    {
      "cell_type": "code",
      "source": [
        "#ii)collect() This function returns entire elements in the RDD\n",
        "from pyspark.sql import SparkSession\n",
        "words=spark.sparkContext.parallelize(\n",
        "  [\"Python\",\"java\",\"Hadoop\",\"c\",\"c++\",\"Spark vs Hadoop\",\"pyspark and spark\"]\n",
        ")\n",
        "counts=words.collect()\n",
        "print(counts)"
      ],
      "metadata": {
        "colab": {
          "base_uri": "https://localhost:8080/"
        },
        "id": "Jp6nDeKG8g59",
        "outputId": "17f7b299-3419-45a4-d2c3-f91004da93b2"
      },
      "execution_count": 15,
      "outputs": [
        {
          "output_type": "stream",
          "name": "stdout",
          "text": [
            "['Python', 'java', 'Hadoop', 'c', 'c++', 'Spark vs Hadoop', 'pyspark and spark']\n"
          ]
        }
      ]
    },
    {
      "cell_type": "code",
      "source": [
        "#iii)Map()\n",
        "from pyspark.sql import SparkSession\n",
        "spark = SparkSession.builder.getOrCreate()\n",
        "num =spark.sparkContext.parallelize([5,5,4,3,9,2])\n",
        "num.collect()\n"
      ],
      "metadata": {
        "colab": {
          "base_uri": "https://localhost:8080/"
        },
        "id": "NkrMXy0B9WH7",
        "outputId": "463fb34d-e369-43f1-e412-75eafffbdc23"
      },
      "execution_count": 25,
      "outputs": [
        {
          "output_type": "execute_result",
          "data": {
            "text/plain": [
              "[5, 5, 4, 3, 9, 2]"
            ]
          },
          "metadata": {},
          "execution_count": 25
        }
      ]
    },
    {
      "cell_type": "code",
      "source": [
        "num.map(lambda a : a*2).collect()"
      ],
      "metadata": {
        "colab": {
          "base_uri": "https://localhost:8080/"
        },
        "id": "AVJi7uHEDkWW",
        "outputId": "91691f48-86b5-42db-aa0a-9bd592664555"
      },
      "execution_count": 26,
      "outputs": [
        {
          "output_type": "execute_result",
          "data": {
            "text/plain": [
              "[10, 10, 8, 6, 18, 4]"
            ]
          },
          "metadata": {},
          "execution_count": 26
        }
      ]
    },
    {
      "cell_type": "code",
      "source": [
        "num.map(lambda a : pow(a,2)).collect()"
      ],
      "metadata": {
        "colab": {
          "base_uri": "https://localhost:8080/"
        },
        "id": "a5E61MsfD8NF",
        "outputId": "38c46dfa-9236-4558-d5f5-daa47f4d08f9"
      },
      "execution_count": 28,
      "outputs": [
        {
          "output_type": "execute_result",
          "data": {
            "text/plain": [
              "[25, 25, 16, 9, 81, 4]"
            ]
          },
          "metadata": {},
          "execution_count": 28
        }
      ]
    },
    {
      "cell_type": "code",
      "source": [
        "names=spark.sparkContext.parallelize([\"Dell\",\"HP\",\"IPad\",\"Lenovo\"])\n"
      ],
      "metadata": {
        "id": "JLH4v2zaEWL1"
      },
      "execution_count": 29,
      "outputs": []
    },
    {
      "cell_type": "code",
      "source": [
        "names.map(lambda a : \"Mr. \" +a).collect()"
      ],
      "metadata": {
        "colab": {
          "base_uri": "https://localhost:8080/"
        },
        "id": "MtMg2hLGEsxn",
        "outputId": "3c08a424-1d68-41b7-8ae3-fbb2746eb474"
      },
      "execution_count": 30,
      "outputs": [
        {
          "output_type": "execute_result",
          "data": {
            "text/plain": [
              "['Mr. Dell', 'Mr. HP', 'Mr. IPad', 'Mr. Lenovo']"
            ]
          },
          "metadata": {},
          "execution_count": 30
        }
      ]
    },
    {
      "cell_type": "code",
      "source": [
        "#Filter\n",
        "num.collect()"
      ],
      "metadata": {
        "colab": {
          "base_uri": "https://localhost:8080/"
        },
        "id": "l5LFRDRRFEAV",
        "outputId": "0957c6f2-1ecb-45f5-c3aa-59c136c47aeb"
      },
      "execution_count": 31,
      "outputs": [
        {
          "output_type": "execute_result",
          "data": {
            "text/plain": [
              "[5, 5, 4, 3, 9, 2]"
            ]
          },
          "metadata": {},
          "execution_count": 31
        }
      ]
    },
    {
      "cell_type": "code",
      "source": [
        "num.filter(lambda x : x%2 ==0).collect()"
      ],
      "metadata": {
        "colab": {
          "base_uri": "https://localhost:8080/"
        },
        "id": "AI6BPAW0FNve",
        "outputId": "a2e733ca-f0ed-4450-d052-f926d4a0d461"
      },
      "execution_count": 32,
      "outputs": [
        {
          "output_type": "execute_result",
          "data": {
            "text/plain": [
              "[4, 2]"
            ]
          },
          "metadata": {},
          "execution_count": 32
        }
      ]
    },
    {
      "cell_type": "code",
      "source": [
        "names.collect()"
      ],
      "metadata": {
        "colab": {
          "base_uri": "https://localhost:8080/"
        },
        "id": "WbvhRd02FbkO",
        "outputId": "5ff0e220-3451-4b47-db2d-1ac2df356532"
      },
      "execution_count": 33,
      "outputs": [
        {
          "output_type": "execute_result",
          "data": {
            "text/plain": [
              "['Dell', 'HP', 'IPad', 'Lenovo']"
            ]
          },
          "metadata": {},
          "execution_count": 33
        }
      ]
    },
    {
      "cell_type": "code",
      "source": [
        "names.filter(lambda x : \"D\" in x).collect()"
      ],
      "metadata": {
        "colab": {
          "base_uri": "https://localhost:8080/"
        },
        "id": "fD4YPTE3FfZX",
        "outputId": "53ba2664-61a5-4a35-f0a4-b2fd111ced8e"
      },
      "execution_count": 35,
      "outputs": [
        {
          "output_type": "execute_result",
          "data": {
            "text/plain": [
              "['Dell']"
            ]
          },
          "metadata": {},
          "execution_count": 35
        }
      ]
    },
    {
      "cell_type": "code",
      "source": [
        "#union\n",
        "num.collect()"
      ],
      "metadata": {
        "colab": {
          "base_uri": "https://localhost:8080/"
        },
        "id": "uW9REAMFFyLh",
        "outputId": "a3ae00f6-c61b-4f49-a642-725512ad9be6"
      },
      "execution_count": 36,
      "outputs": [
        {
          "output_type": "execute_result",
          "data": {
            "text/plain": [
              "[5, 5, 4, 3, 9, 2]"
            ]
          },
          "metadata": {},
          "execution_count": 36
        }
      ]
    },
    {
      "cell_type": "code",
      "source": [
        "num2 =spark.sparkContext.parallelize([7,8,6,2,4,5,1])\n",
        "num2.collect()"
      ],
      "metadata": {
        "colab": {
          "base_uri": "https://localhost:8080/"
        },
        "id": "nRn0ok3zF4ON",
        "outputId": "8e80c0b8-240c-43d8-be0e-a0a9ef5d2f91"
      },
      "execution_count": 37,
      "outputs": [
        {
          "output_type": "execute_result",
          "data": {
            "text/plain": [
              "[7, 8, 6, 2, 4, 5, 1]"
            ]
          },
          "metadata": {},
          "execution_count": 37
        }
      ]
    },
    {
      "cell_type": "code",
      "source": [
        "num2.union(num).collect()"
      ],
      "metadata": {
        "colab": {
          "base_uri": "https://localhost:8080/"
        },
        "id": "sQCeqGLwGJqy",
        "outputId": "2f77434f-e533-4a4b-c9d9-0dd2fd413f66"
      },
      "execution_count": 38,
      "outputs": [
        {
          "output_type": "execute_result",
          "data": {
            "text/plain": [
              "[7, 8, 6, 2, 4, 5, 1, 5, 5, 4, 3, 9, 2]"
            ]
          },
          "metadata": {},
          "execution_count": 38
        }
      ]
    },
    {
      "cell_type": "code",
      "source": [
        "type(num2)"
      ],
      "metadata": {
        "colab": {
          "base_uri": "https://localhost:8080/"
        },
        "id": "Gr49NEnWGqDi",
        "outputId": "00bad1d3-7595-4a8d-c9f2-3e80c40150e2"
      },
      "execution_count": 39,
      "outputs": [
        {
          "output_type": "execute_result",
          "data": {
            "text/plain": [
              "pyspark.rdd.RDD"
            ]
          },
          "metadata": {},
          "execution_count": 39
        }
      ]
    },
    {
      "cell_type": "code",
      "source": [
        "#PySpark SQL\n",
        "from pyspark.sql import SparkSession\n",
        "spark=SparkSession.builder.getOrCreate()\n"
      ],
      "metadata": {
        "id": "nwfgNNrtHbGm"
      },
      "execution_count": 41,
      "outputs": []
    },
    {
      "cell_type": "code",
      "source": [
        "#Pyspark Dataframe\n",
        "from datetime import datetime , date\n",
        "import pandas as pd\n",
        "from pyspark.sql import Row\n",
        "\n",
        "df=spark.createDataFrame([\n",
        " Row(a=1, b=2, c=\"string1\", d=date(2000,1,1),e=datetime(2000,1,1, 12,0)),\n",
        " Row(a=2, b=3, c=\"string2\", d=date(2000,2,1),e=datetime(2000,2,1, 11,0)),\n",
        " Row(a=4, b=5, c=\"string3\", d=date(2000,3,1),e=datetime(2000,3,1, 12,0))                        \n",
        "])\n",
        "df"
      ],
      "metadata": {
        "colab": {
          "base_uri": "https://localhost:8080/"
        },
        "id": "PoOlJCgbIjiD",
        "outputId": "e7ed31b0-aee8-4d0b-855b-5dbfcb6c9279"
      },
      "execution_count": 43,
      "outputs": [
        {
          "output_type": "execute_result",
          "data": {
            "text/plain": [
              "DataFrame[a: bigint, b: bigint, c: string, d: date, e: timestamp]"
            ]
          },
          "metadata": {},
          "execution_count": 43
        }
      ]
    },
    {
      "cell_type": "code",
      "source": [
        "#create the pyspark DataFrame with an explicit schema\n",
        "df = spark.createDataFrame([\n",
        "    (1, 2., 'string1', date(2000, 1, 1), datetime(2000, 1, 1, 12, 0)),\n",
        "    (2, 3., 'string2', date(2000, 2, 1), datetime(2000, 2, 1, 11, 0)),\n",
        "    (3, 4., 'string3', date(2000, 3, 1), datetime(2000, 3, 1, 12, 0))\n",
        "], schema='a long, b double, c string, d date, e timestamp')\n",
        "df"
      ],
      "metadata": {
        "colab": {
          "base_uri": "https://localhost:8080/"
        },
        "id": "k5hT87IYKnRr",
        "outputId": "57de227e-32ef-4a9c-9844-d8f5a07d790e"
      },
      "execution_count": 50,
      "outputs": [
        {
          "output_type": "execute_result",
          "data": {
            "text/plain": [
              "DataFrame[a: bigint, b: double, c: string, d: date, e: timestamp]"
            ]
          },
          "metadata": {},
          "execution_count": 50
        }
      ]
    },
    {
      "cell_type": "code",
      "source": [
        "#Create a pyspark dataframe from a pandas dataframe\n",
        "pandas_df= pd.DataFrame({\n",
        "    'a':[1,2,3],\n",
        "    'b':[2,3,4],\n",
        "    'c':['string1','string2','string3'],\n",
        "    'd':[date(2000,1,1),date(2000,2,1),date(2000,3,1)],\n",
        "    'e':[datetime(2000,1,1, 12,0),datetime(2000,2,1, 11,0),datetime(2000,3,1, 12,0)]\n",
        "})\n",
        "df=spark.createDataFrame(pandas_df)\n",
        "df"
      ],
      "metadata": {
        "colab": {
          "base_uri": "https://localhost:8080/"
        },
        "id": "8ajEghteNdn6",
        "outputId": "b29b8a1b-221e-47c8-be9b-49ce40150838"
      },
      "execution_count": 52,
      "outputs": [
        {
          "output_type": "execute_result",
          "data": {
            "text/plain": [
              "DataFrame[a: bigint, b: bigint, c: string, d: date, e: timestamp]"
            ]
          },
          "metadata": {},
          "execution_count": 52
        }
      ]
    },
    {
      "cell_type": "code",
      "source": [
        "#create a Pyspark dataframe from an RDD\n",
        "rdd=spark.sparkContext.parallelize([\n",
        "    (1, 2., 'string1', date(2000, 1, 1), datetime(2000, 1, 1, 12, 0)),\n",
        "    (2, 3., 'string2', date(2000, 2, 1), datetime(2000, 2, 1, 11, 0)),\n",
        "    (3, 4., 'string3', date(2000, 3, 1), datetime(2000, 3, 1, 12, 0))                                   \n",
        "])\n",
        "df =spark.createDataFrame(rdd,schema=['a','b','c','d','e'])\n",
        "df"
      ],
      "metadata": {
        "colab": {
          "base_uri": "https://localhost:8080/"
        },
        "id": "2uFcNXMRPK-E",
        "outputId": "b028a73d-8b8b-48f8-db25-7af719071028"
      },
      "execution_count": 53,
      "outputs": [
        {
          "output_type": "execute_result",
          "data": {
            "text/plain": [
              "DataFrame[a: bigint, b: double, c: string, d: date, e: timestamp]"
            ]
          },
          "metadata": {},
          "execution_count": 53
        }
      ]
    },
    {
      "cell_type": "code",
      "source": [
        "df.show()\n",
        "\n",
        "df.printSchema()"
      ],
      "metadata": {
        "colab": {
          "base_uri": "https://localhost:8080/"
        },
        "id": "p1tBwQmYPzBt",
        "outputId": "6c94cadc-01b6-48f9-a622-1ccdb50716dc"
      },
      "execution_count": 55,
      "outputs": [
        {
          "output_type": "stream",
          "name": "stdout",
          "text": [
            "+---+---+-------+----------+-------------------+\n",
            "|  a|  b|      c|         d|                  e|\n",
            "+---+---+-------+----------+-------------------+\n",
            "|  1|2.0|string1|2000-01-01|2000-01-01 12:00:00|\n",
            "|  2|3.0|string2|2000-02-01|2000-02-01 11:00:00|\n",
            "|  3|4.0|string3|2000-03-01|2000-03-01 12:00:00|\n",
            "+---+---+-------+----------+-------------------+\n",
            "\n",
            "root\n",
            " |-- a: long (nullable = true)\n",
            " |-- b: double (nullable = true)\n",
            " |-- c: string (nullable = true)\n",
            " |-- d: date (nullable = true)\n",
            " |-- e: timestamp (nullable = true)\n",
            "\n"
          ]
        }
      ]
    },
    {
      "cell_type": "code",
      "source": [
        "#Viewing data\n",
        "df.show(2)"
      ],
      "metadata": {
        "colab": {
          "base_uri": "https://localhost:8080/"
        },
        "id": "Li3Ovcv3Rok0",
        "outputId": "19c145a0-758e-4bc2-f1f7-a543c552e8cc"
      },
      "execution_count": 57,
      "outputs": [
        {
          "output_type": "stream",
          "name": "stdout",
          "text": [
            "+---+---+-------+----------+-------------------+\n",
            "|  a|  b|      c|         d|                  e|\n",
            "+---+---+-------+----------+-------------------+\n",
            "|  1|2.0|string1|2000-01-01|2000-01-01 12:00:00|\n",
            "|  2|3.0|string2|2000-02-01|2000-02-01 11:00:00|\n",
            "+---+---+-------+----------+-------------------+\n",
            "only showing top 2 rows\n",
            "\n"
          ]
        }
      ]
    },
    {
      "cell_type": "code",
      "source": [
        "#To view rows in vertically\n",
        "df.show(3, vertical=True)"
      ],
      "metadata": {
        "colab": {
          "base_uri": "https://localhost:8080/"
        },
        "id": "liSZfp5RR4fj",
        "outputId": "4893e260-1aff-4a91-8b10-ccac5fc391b8"
      },
      "execution_count": 60,
      "outputs": [
        {
          "output_type": "stream",
          "name": "stdout",
          "text": [
            "-RECORD 0------------------\n",
            " a   | 1                   \n",
            " b   | 2.0                 \n",
            " c   | string1             \n",
            " d   | 2000-01-01          \n",
            " e   | 2000-01-01 12:00:00 \n",
            "-RECORD 1------------------\n",
            " a   | 2                   \n",
            " b   | 3.0                 \n",
            " c   | string2             \n",
            " d   | 2000-02-01          \n",
            " e   | 2000-02-01 11:00:00 \n",
            "-RECORD 2------------------\n",
            " a   | 3                   \n",
            " b   | 4.0                 \n",
            " c   | string3             \n",
            " d   | 2000-03-01          \n",
            " e   | 2000-03-01 12:00:00 \n",
            "\n"
          ]
        }
      ]
    },
    {
      "cell_type": "code",
      "source": [
        "#to see schema and column name\n",
        "df.columns\n",
        "\n"
      ],
      "metadata": {
        "colab": {
          "base_uri": "https://localhost:8080/"
        },
        "id": "TT9WPX5-Sc0E",
        "outputId": "bec56528-8305-4b36-f576-b6c94914f460"
      },
      "execution_count": 63,
      "outputs": [
        {
          "output_type": "execute_result",
          "data": {
            "text/plain": [
              "['a', 'b', 'c', 'd', 'e']"
            ]
          },
          "metadata": {},
          "execution_count": 63
        }
      ]
    },
    {
      "cell_type": "code",
      "source": [
        "df.printSchema()"
      ],
      "metadata": {
        "colab": {
          "base_uri": "https://localhost:8080/"
        },
        "id": "SgRdOGITSxT1",
        "outputId": "569517dc-04e5-4a20-d5f9-659da691f466"
      },
      "execution_count": 64,
      "outputs": [
        {
          "output_type": "stream",
          "name": "stdout",
          "text": [
            "root\n",
            " |-- a: long (nullable = true)\n",
            " |-- b: double (nullable = true)\n",
            " |-- c: string (nullable = true)\n",
            " |-- d: date (nullable = true)\n",
            " |-- e: timestamp (nullable = true)\n",
            "\n"
          ]
        }
      ]
    },
    {
      "cell_type": "code",
      "source": [
        "#Show the summary of the dataframe\n",
        "df.select(\"a\",\"b\",\"c\").describe().show()"
      ],
      "metadata": {
        "colab": {
          "base_uri": "https://localhost:8080/"
        },
        "id": "Os3GxY9DS8ic",
        "outputId": "fe3ef419-e441-436b-faf2-123ec8d883dd"
      },
      "execution_count": 65,
      "outputs": [
        {
          "output_type": "stream",
          "name": "stdout",
          "text": [
            "+-------+---+---+-------+\n",
            "|summary|  a|  b|      c|\n",
            "+-------+---+---+-------+\n",
            "|  count|  3|  3|      3|\n",
            "|   mean|2.0|3.0|   null|\n",
            "| stddev|1.0|1.0|   null|\n",
            "|    min|  1|2.0|string1|\n",
            "|    max|  3|4.0|string3|\n",
            "+-------+---+---+-------+\n",
            "\n"
          ]
        }
      ]
    },
    {
      "cell_type": "code",
      "source": [
        "#DataFrame.collect() >collects the distributed data to the driver side as the local in python\n",
        "df.collect()"
      ],
      "metadata": {
        "colab": {
          "base_uri": "https://localhost:8080/"
        },
        "id": "L17-lgTPT32d",
        "outputId": "daf0b890-1168-45ac-a3a7-84daec50c55c"
      },
      "execution_count": 66,
      "outputs": [
        {
          "output_type": "execute_result",
          "data": {
            "text/plain": [
              "[Row(a=1, b=2.0, c='string1', d=datetime.date(2000, 1, 1), e=datetime.datetime(2000, 1, 1, 12, 0)),\n",
              " Row(a=2, b=3.0, c='string2', d=datetime.date(2000, 2, 1), e=datetime.datetime(2000, 2, 1, 11, 0)),\n",
              " Row(a=3, b=4.0, c='string3', d=datetime.date(2000, 3, 1), e=datetime.datetime(2000, 3, 1, 12, 0))]"
            ]
          },
          "metadata": {},
          "execution_count": 66
        }
      ]
    },
    {
      "cell_type": "code",
      "source": [
        "#in order to avoid throwing an out of memory exception we can use DataFrane.take( )  or DataFrame.tail( )\n",
        "df.take(2)"
      ],
      "metadata": {
        "colab": {
          "base_uri": "https://localhost:8080/"
        },
        "id": "pqewCR__VmYl",
        "outputId": "0af01feb-d02a-4b2d-c34e-82cc5a886b07"
      },
      "execution_count": 67,
      "outputs": [
        {
          "output_type": "execute_result",
          "data": {
            "text/plain": [
              "[Row(a=1, b=2.0, c='string1', d=datetime.date(2000, 1, 1), e=datetime.datetime(2000, 1, 1, 12, 0)),\n",
              " Row(a=2, b=3.0, c='string2', d=datetime.date(2000, 2, 1), e=datetime.datetime(2000, 2, 1, 11, 0))]"
            ]
          },
          "metadata": {},
          "execution_count": 67
        }
      ]
    },
    {
      "cell_type": "code",
      "source": [
        "df.toPandas()"
      ],
      "metadata": {
        "colab": {
          "base_uri": "https://localhost:8080/",
          "height": 172
        },
        "id": "D_5xgDpIWKK2",
        "outputId": "12bd76ad-5617-4f6e-d75d-005c1cfd4a4d"
      },
      "execution_count": 68,
      "outputs": [
        {
          "output_type": "execute_result",
          "data": {
            "text/html": [
              "\n",
              "  <div id=\"df-cb1d7318-195f-4ffa-b72c-b3f925817718\">\n",
              "    <div class=\"colab-df-container\">\n",
              "      <div>\n",
              "<style scoped>\n",
              "    .dataframe tbody tr th:only-of-type {\n",
              "        vertical-align: middle;\n",
              "    }\n",
              "\n",
              "    .dataframe tbody tr th {\n",
              "        vertical-align: top;\n",
              "    }\n",
              "\n",
              "    .dataframe thead th {\n",
              "        text-align: right;\n",
              "    }\n",
              "</style>\n",
              "<table border=\"1\" class=\"dataframe\">\n",
              "  <thead>\n",
              "    <tr style=\"text-align: right;\">\n",
              "      <th></th>\n",
              "      <th>a</th>\n",
              "      <th>b</th>\n",
              "      <th>c</th>\n",
              "      <th>d</th>\n",
              "      <th>e</th>\n",
              "    </tr>\n",
              "  </thead>\n",
              "  <tbody>\n",
              "    <tr>\n",
              "      <th>0</th>\n",
              "      <td>1</td>\n",
              "      <td>2.0</td>\n",
              "      <td>string1</td>\n",
              "      <td>2000-01-01</td>\n",
              "      <td>2000-01-01 12:00:00</td>\n",
              "    </tr>\n",
              "    <tr>\n",
              "      <th>1</th>\n",
              "      <td>2</td>\n",
              "      <td>3.0</td>\n",
              "      <td>string2</td>\n",
              "      <td>2000-02-01</td>\n",
              "      <td>2000-02-01 11:00:00</td>\n",
              "    </tr>\n",
              "    <tr>\n",
              "      <th>2</th>\n",
              "      <td>3</td>\n",
              "      <td>4.0</td>\n",
              "      <td>string3</td>\n",
              "      <td>2000-03-01</td>\n",
              "      <td>2000-03-01 12:00:00</td>\n",
              "    </tr>\n",
              "  </tbody>\n",
              "</table>\n",
              "</div>\n",
              "      <button class=\"colab-df-convert\" onclick=\"convertToInteractive('df-cb1d7318-195f-4ffa-b72c-b3f925817718')\"\n",
              "              title=\"Convert this dataframe to an interactive table.\"\n",
              "              style=\"display:none;\">\n",
              "        \n",
              "  <svg xmlns=\"http://www.w3.org/2000/svg\" height=\"24px\"viewBox=\"0 0 24 24\"\n",
              "       width=\"24px\">\n",
              "    <path d=\"M0 0h24v24H0V0z\" fill=\"none\"/>\n",
              "    <path d=\"M18.56 5.44l.94 2.06.94-2.06 2.06-.94-2.06-.94-.94-2.06-.94 2.06-2.06.94zm-11 1L8.5 8.5l.94-2.06 2.06-.94-2.06-.94L8.5 2.5l-.94 2.06-2.06.94zm10 10l.94 2.06.94-2.06 2.06-.94-2.06-.94-.94-2.06-.94 2.06-2.06.94z\"/><path d=\"M17.41 7.96l-1.37-1.37c-.4-.4-.92-.59-1.43-.59-.52 0-1.04.2-1.43.59L10.3 9.45l-7.72 7.72c-.78.78-.78 2.05 0 2.83L4 21.41c.39.39.9.59 1.41.59.51 0 1.02-.2 1.41-.59l7.78-7.78 2.81-2.81c.8-.78.8-2.07 0-2.86zM5.41 20L4 18.59l7.72-7.72 1.47 1.35L5.41 20z\"/>\n",
              "  </svg>\n",
              "      </button>\n",
              "      \n",
              "  <style>\n",
              "    .colab-df-container {\n",
              "      display:flex;\n",
              "      flex-wrap:wrap;\n",
              "      gap: 12px;\n",
              "    }\n",
              "\n",
              "    .colab-df-convert {\n",
              "      background-color: #E8F0FE;\n",
              "      border: none;\n",
              "      border-radius: 50%;\n",
              "      cursor: pointer;\n",
              "      display: none;\n",
              "      fill: #1967D2;\n",
              "      height: 32px;\n",
              "      padding: 0 0 0 0;\n",
              "      width: 32px;\n",
              "    }\n",
              "\n",
              "    .colab-df-convert:hover {\n",
              "      background-color: #E2EBFA;\n",
              "      box-shadow: 0px 1px 2px rgba(60, 64, 67, 0.3), 0px 1px 3px 1px rgba(60, 64, 67, 0.15);\n",
              "      fill: #174EA6;\n",
              "    }\n",
              "\n",
              "    [theme=dark] .colab-df-convert {\n",
              "      background-color: #3B4455;\n",
              "      fill: #D2E3FC;\n",
              "    }\n",
              "\n",
              "    [theme=dark] .colab-df-convert:hover {\n",
              "      background-color: #434B5C;\n",
              "      box-shadow: 0px 1px 3px 1px rgba(0, 0, 0, 0.15);\n",
              "      filter: drop-shadow(0px 1px 2px rgba(0, 0, 0, 0.3));\n",
              "      fill: #FFFFFF;\n",
              "    }\n",
              "  </style>\n",
              "\n",
              "      <script>\n",
              "        const buttonEl =\n",
              "          document.querySelector('#df-cb1d7318-195f-4ffa-b72c-b3f925817718 button.colab-df-convert');\n",
              "        buttonEl.style.display =\n",
              "          google.colab.kernel.accessAllowed ? 'block' : 'none';\n",
              "\n",
              "        async function convertToInteractive(key) {\n",
              "          const element = document.querySelector('#df-cb1d7318-195f-4ffa-b72c-b3f925817718');\n",
              "          const dataTable =\n",
              "            await google.colab.kernel.invokeFunction('convertToInteractive',\n",
              "                                                     [key], {});\n",
              "          if (!dataTable) return;\n",
              "\n",
              "          const docLinkHtml = 'Like what you see? Visit the ' +\n",
              "            '<a target=\"_blank\" href=https://colab.research.google.com/notebooks/data_table.ipynb>data table notebook</a>'\n",
              "            + ' to learn more about interactive tables.';\n",
              "          element.innerHTML = '';\n",
              "          dataTable['output_type'] = 'display_data';\n",
              "          await google.colab.output.renderOutput(dataTable, element);\n",
              "          const docLink = document.createElement('div');\n",
              "          docLink.innerHTML = docLinkHtml;\n",
              "          element.appendChild(docLink);\n",
              "        }\n",
              "      </script>\n",
              "    </div>\n",
              "  </div>\n",
              "  "
            ],
            "text/plain": [
              "   a    b        c           d                   e\n",
              "0  1  2.0  string1  2000-01-01 2000-01-01 12:00:00\n",
              "1  2  3.0  string2  2000-02-01 2000-02-01 11:00:00\n",
              "2  3  4.0  string3  2000-03-01 2000-03-01 12:00:00"
            ]
          },
          "metadata": {},
          "execution_count": 68
        }
      ]
    },
    {
      "cell_type": "code",
      "source": [
        "import pandas as pd\n",
        "pd.read_csv(\"/content/sample_data/california_housing_test.csv\",\"r\")"
      ],
      "metadata": {
        "colab": {
          "base_uri": "https://localhost:8080/",
          "height": 410
        },
        "id": "yBVtzQWKWq0z",
        "outputId": "33f09780-b2bf-4af4-8847-702ecf12ee74"
      },
      "execution_count": 70,
      "outputs": [
        {
          "output_type": "stream",
          "name": "stderr",
          "text": [
            "/usr/local/lib/python3.7/dist-packages/IPython/core/interactiveshell.py:2882: FutureWarning: In a future version of pandas all arguments of read_csv except for the argument 'filepath_or_buffer' will be keyword-only\n",
            "  exec(code_obj, self.user_global_ns, self.user_ns)\n"
          ]
        },
        {
          "output_type": "execute_result",
          "data": {
            "text/html": [
              "\n",
              "  <div id=\"df-e87324c4-05fe-478b-a99a-e6d9dc83adf8\">\n",
              "    <div class=\"colab-df-container\">\n",
              "      <div>\n",
              "<style scoped>\n",
              "    .dataframe tbody tr th:only-of-type {\n",
              "        vertical-align: middle;\n",
              "    }\n",
              "\n",
              "    .dataframe tbody tr th {\n",
              "        vertical-align: top;\n",
              "    }\n",
              "\n",
              "    .dataframe thead th {\n",
              "        text-align: right;\n",
              "    }\n",
              "</style>\n",
              "<table border=\"1\" class=\"dataframe\">\n",
              "  <thead>\n",
              "    <tr style=\"text-align: right;\">\n",
              "      <th></th>\n",
              "      <th>longitude,\"latitude\",\"housing_median_age\",\"total_</th>\n",
              "      <th>ooms\",\"total_bed</th>\n",
              "      <th>ooms\",\"population\",\"households\",\"median_income\",\"median_house_value\"</th>\n",
              "    </tr>\n",
              "  </thead>\n",
              "  <tbody>\n",
              "    <tr>\n",
              "      <th>0</th>\n",
              "      <td>-122.050000,37.370000,27.000000,3885.000000,66...</td>\n",
              "      <td>NaN</td>\n",
              "      <td>NaN</td>\n",
              "    </tr>\n",
              "    <tr>\n",
              "      <th>1</th>\n",
              "      <td>-118.300000,34.260000,43.000000,1510.000000,31...</td>\n",
              "      <td>NaN</td>\n",
              "      <td>NaN</td>\n",
              "    </tr>\n",
              "    <tr>\n",
              "      <th>2</th>\n",
              "      <td>-117.810000,33.780000,27.000000,3589.000000,50...</td>\n",
              "      <td>NaN</td>\n",
              "      <td>NaN</td>\n",
              "    </tr>\n",
              "    <tr>\n",
              "      <th>3</th>\n",
              "      <td>-118.360000,33.820000,28.000000,67.000000,15.0...</td>\n",
              "      <td>NaN</td>\n",
              "      <td>NaN</td>\n",
              "    </tr>\n",
              "    <tr>\n",
              "      <th>4</th>\n",
              "      <td>-119.670000,36.330000,19.000000,1241.000000,24...</td>\n",
              "      <td>NaN</td>\n",
              "      <td>NaN</td>\n",
              "    </tr>\n",
              "    <tr>\n",
              "      <th>...</th>\n",
              "      <td>...</td>\n",
              "      <td>...</td>\n",
              "      <td>...</td>\n",
              "    </tr>\n",
              "    <tr>\n",
              "      <th>2995</th>\n",
              "      <td>-119.860000,34.420000,23.000000,1450.000000,64...</td>\n",
              "      <td>NaN</td>\n",
              "      <td>NaN</td>\n",
              "    </tr>\n",
              "    <tr>\n",
              "      <th>2996</th>\n",
              "      <td>-118.140000,34.060000,27.000000,5257.000000,10...</td>\n",
              "      <td>NaN</td>\n",
              "      <td>NaN</td>\n",
              "    </tr>\n",
              "    <tr>\n",
              "      <th>2997</th>\n",
              "      <td>-119.700000,36.300000,10.000000,956.000000,201...</td>\n",
              "      <td>NaN</td>\n",
              "      <td>NaN</td>\n",
              "    </tr>\n",
              "    <tr>\n",
              "      <th>2998</th>\n",
              "      <td>-117.120000,34.100000,40.000000,96.000000,14.0...</td>\n",
              "      <td>NaN</td>\n",
              "      <td>NaN</td>\n",
              "    </tr>\n",
              "    <tr>\n",
              "      <th>2999</th>\n",
              "      <td>-119.630000,34.420000,42.000000,1765.000000,26...</td>\n",
              "      <td>NaN</td>\n",
              "      <td>NaN</td>\n",
              "    </tr>\n",
              "  </tbody>\n",
              "</table>\n",
              "<p>3000 rows × 3 columns</p>\n",
              "</div>\n",
              "      <button class=\"colab-df-convert\" onclick=\"convertToInteractive('df-e87324c4-05fe-478b-a99a-e6d9dc83adf8')\"\n",
              "              title=\"Convert this dataframe to an interactive table.\"\n",
              "              style=\"display:none;\">\n",
              "        \n",
              "  <svg xmlns=\"http://www.w3.org/2000/svg\" height=\"24px\"viewBox=\"0 0 24 24\"\n",
              "       width=\"24px\">\n",
              "    <path d=\"M0 0h24v24H0V0z\" fill=\"none\"/>\n",
              "    <path d=\"M18.56 5.44l.94 2.06.94-2.06 2.06-.94-2.06-.94-.94-2.06-.94 2.06-2.06.94zm-11 1L8.5 8.5l.94-2.06 2.06-.94-2.06-.94L8.5 2.5l-.94 2.06-2.06.94zm10 10l.94 2.06.94-2.06 2.06-.94-2.06-.94-.94-2.06-.94 2.06-2.06.94z\"/><path d=\"M17.41 7.96l-1.37-1.37c-.4-.4-.92-.59-1.43-.59-.52 0-1.04.2-1.43.59L10.3 9.45l-7.72 7.72c-.78.78-.78 2.05 0 2.83L4 21.41c.39.39.9.59 1.41.59.51 0 1.02-.2 1.41-.59l7.78-7.78 2.81-2.81c.8-.78.8-2.07 0-2.86zM5.41 20L4 18.59l7.72-7.72 1.47 1.35L5.41 20z\"/>\n",
              "  </svg>\n",
              "      </button>\n",
              "      \n",
              "  <style>\n",
              "    .colab-df-container {\n",
              "      display:flex;\n",
              "      flex-wrap:wrap;\n",
              "      gap: 12px;\n",
              "    }\n",
              "\n",
              "    .colab-df-convert {\n",
              "      background-color: #E8F0FE;\n",
              "      border: none;\n",
              "      border-radius: 50%;\n",
              "      cursor: pointer;\n",
              "      display: none;\n",
              "      fill: #1967D2;\n",
              "      height: 32px;\n",
              "      padding: 0 0 0 0;\n",
              "      width: 32px;\n",
              "    }\n",
              "\n",
              "    .colab-df-convert:hover {\n",
              "      background-color: #E2EBFA;\n",
              "      box-shadow: 0px 1px 2px rgba(60, 64, 67, 0.3), 0px 1px 3px 1px rgba(60, 64, 67, 0.15);\n",
              "      fill: #174EA6;\n",
              "    }\n",
              "\n",
              "    [theme=dark] .colab-df-convert {\n",
              "      background-color: #3B4455;\n",
              "      fill: #D2E3FC;\n",
              "    }\n",
              "\n",
              "    [theme=dark] .colab-df-convert:hover {\n",
              "      background-color: #434B5C;\n",
              "      box-shadow: 0px 1px 3px 1px rgba(0, 0, 0, 0.15);\n",
              "      filter: drop-shadow(0px 1px 2px rgba(0, 0, 0, 0.3));\n",
              "      fill: #FFFFFF;\n",
              "    }\n",
              "  </style>\n",
              "\n",
              "      <script>\n",
              "        const buttonEl =\n",
              "          document.querySelector('#df-e87324c4-05fe-478b-a99a-e6d9dc83adf8 button.colab-df-convert');\n",
              "        buttonEl.style.display =\n",
              "          google.colab.kernel.accessAllowed ? 'block' : 'none';\n",
              "\n",
              "        async function convertToInteractive(key) {\n",
              "          const element = document.querySelector('#df-e87324c4-05fe-478b-a99a-e6d9dc83adf8');\n",
              "          const dataTable =\n",
              "            await google.colab.kernel.invokeFunction('convertToInteractive',\n",
              "                                                     [key], {});\n",
              "          if (!dataTable) return;\n",
              "\n",
              "          const docLinkHtml = 'Like what you see? Visit the ' +\n",
              "            '<a target=\"_blank\" href=https://colab.research.google.com/notebooks/data_table.ipynb>data table notebook</a>'\n",
              "            + ' to learn more about interactive tables.';\n",
              "          element.innerHTML = '';\n",
              "          dataTable['output_type'] = 'display_data';\n",
              "          await google.colab.output.renderOutput(dataTable, element);\n",
              "          const docLink = document.createElement('div');\n",
              "          docLink.innerHTML = docLinkHtml;\n",
              "          element.appendChild(docLink);\n",
              "        }\n",
              "      </script>\n",
              "    </div>\n",
              "  </div>\n",
              "  "
            ],
            "text/plain": [
              "      longitude,\"latitude\",\"housing_median_age\",\"total_  ...  ooms\",\"population\",\"households\",\"median_income\",\"median_house_value\"\n",
              "0     -122.050000,37.370000,27.000000,3885.000000,66...  ...                                                NaN                   \n",
              "1     -118.300000,34.260000,43.000000,1510.000000,31...  ...                                                NaN                   \n",
              "2     -117.810000,33.780000,27.000000,3589.000000,50...  ...                                                NaN                   \n",
              "3     -118.360000,33.820000,28.000000,67.000000,15.0...  ...                                                NaN                   \n",
              "4     -119.670000,36.330000,19.000000,1241.000000,24...  ...                                                NaN                   \n",
              "...                                                 ...  ...                                                ...                   \n",
              "2995  -119.860000,34.420000,23.000000,1450.000000,64...  ...                                                NaN                   \n",
              "2996  -118.140000,34.060000,27.000000,5257.000000,10...  ...                                                NaN                   \n",
              "2997  -119.700000,36.300000,10.000000,956.000000,201...  ...                                                NaN                   \n",
              "2998  -117.120000,34.100000,40.000000,96.000000,14.0...  ...                                                NaN                   \n",
              "2999  -119.630000,34.420000,42.000000,1765.000000,26...  ...                                                NaN                   \n",
              "\n",
              "[3000 rows x 3 columns]"
            ]
          },
          "metadata": {},
          "execution_count": 70
        }
      ]
    },
    {
      "cell_type": "code",
      "source": [
        "#Selecting and Accessing the Data\n",
        "df.a\n",
        "df.b"
      ],
      "metadata": {
        "colab": {
          "base_uri": "https://localhost:8080/"
        },
        "id": "lRvSb-qgXloF",
        "outputId": "7b71094e-1bf3-4cd2-e5cd-0c6053945138"
      },
      "execution_count": 72,
      "outputs": [
        {
          "output_type": "execute_result",
          "data": {
            "text/plain": [
              "Column<'b'>"
            ]
          },
          "metadata": {},
          "execution_count": 72
        }
      ]
    },
    {
      "cell_type": "code",
      "source": [
        "#most of column-wise opeartions return Columns\n",
        "from pyspark.sql import Column\n",
        "from pyspark.sql.functions import upper\n",
        "\n",
        "type(df.c) == type(upper(df.c)) ==type(df.c.isNull())"
      ],
      "metadata": {
        "colab": {
          "base_uri": "https://localhost:8080/"
        },
        "id": "sW6syyCkX44q",
        "outputId": "a65262fc-0079-408b-b2e2-ef03c32ccb95"
      },
      "execution_count": 73,
      "outputs": [
        {
          "output_type": "execute_result",
          "data": {
            "text/plain": [
              "True"
            ]
          },
          "metadata": {},
          "execution_count": 73
        }
      ]
    },
    {
      "cell_type": "code",
      "source": [
        "df.select(df.c).show()"
      ],
      "metadata": {
        "colab": {
          "base_uri": "https://localhost:8080/"
        },
        "id": "sqCehLiPYk8g",
        "outputId": "59785a2b-7c42-4f43-cc3a-868a5641cd83"
      },
      "execution_count": 74,
      "outputs": [
        {
          "output_type": "stream",
          "name": "stdout",
          "text": [
            "+-------+\n",
            "|      c|\n",
            "+-------+\n",
            "|string1|\n",
            "|string2|\n",
            "|string3|\n",
            "+-------+\n",
            "\n"
          ]
        }
      ]
    },
    {
      "cell_type": "code",
      "source": [
        "#Assign new column instance\n",
        "df.withColumn('upper_c',upper(df.c)).show()"
      ],
      "metadata": {
        "colab": {
          "base_uri": "https://localhost:8080/"
        },
        "id": "PRPypXyvY26X",
        "outputId": "0b8d5c88-813e-4bde-94cd-245d2d2cd089"
      },
      "execution_count": 75,
      "outputs": [
        {
          "output_type": "stream",
          "name": "stdout",
          "text": [
            "+---+---+-------+----------+-------------------+-------+\n",
            "|  a|  b|      c|         d|                  e|upper_c|\n",
            "+---+---+-------+----------+-------------------+-------+\n",
            "|  1|2.0|string1|2000-01-01|2000-01-01 12:00:00|STRING1|\n",
            "|  2|3.0|string2|2000-02-01|2000-02-01 11:00:00|STRING2|\n",
            "|  3|4.0|string3|2000-03-01|2000-03-01 12:00:00|STRING3|\n",
            "+---+---+-------+----------+-------------------+-------+\n",
            "\n"
          ]
        }
      ]
    },
    {
      "cell_type": "code",
      "source": [
        "#To select a sunset of rows ,use DataFrame.filter()\n",
        "df.filter(df.c==\"string1\").show()"
      ],
      "metadata": {
        "colab": {
          "base_uri": "https://localhost:8080/"
        },
        "id": "luR1Kf--owky",
        "outputId": "9f6c29d2-7043-40eb-8d91-6128b1cd0042"
      },
      "execution_count": 78,
      "outputs": [
        {
          "output_type": "stream",
          "name": "stdout",
          "text": [
            "+---+---+-------+----------+-------------------+\n",
            "|  a|  b|      c|         d|                  e|\n",
            "+---+---+-------+----------+-------------------+\n",
            "|  1|2.0|string1|2000-01-01|2000-01-01 12:00:00|\n",
            "+---+---+-------+----------+-------------------+\n",
            "\n"
          ]
        }
      ]
    },
    {
      "cell_type": "code",
      "source": [
        "#Applying a function\n",
        "#Pyspark support various UDFs and API to allow users to execute python native function\n",
        "#Pandas UDFs and Pandas Functions APIs\n",
        "import pandas\n",
        "from pyspark.sql.functions import pandas_udf\n",
        "\n",
        "@pandas_udf ('long')\n",
        "def pandas_plus_one(series: pd.Series) -> pd.Series:\n",
        "  #simply pluse one by using pandas series\n",
        "    return series +5\n",
        "df.select(pandas_plus_one(df.b)).show()\n"
      ],
      "metadata": {
        "colab": {
          "base_uri": "https://localhost:8080/"
        },
        "id": "XNx6qYdlqYny",
        "outputId": "7da8d19a-763e-4607-dfc9-345cc1e1d4ad"
      },
      "execution_count": 82,
      "outputs": [
        {
          "output_type": "stream",
          "name": "stdout",
          "text": [
            "+------------------+\n",
            "|pandas_plus_one(b)|\n",
            "+------------------+\n",
            "|                 7|\n",
            "|                 8|\n",
            "|                 9|\n",
            "+------------------+\n",
            "\n"
          ]
        }
      ]
    },
    {
      "cell_type": "code",
      "source": [
        "import pandas as pd\n",
        "from pyspark.sql.functions import pandas_udf\n",
        "@pandas_udf('string')\n",
        "def pandas_plus_one(series:pd.Series)->pd.Series:\n",
        "    return series+'hello'\n",
        "df.select(pandas_plus_one(df.c)).show()"
      ],
      "metadata": {
        "colab": {
          "base_uri": "https://localhost:8080/"
        },
        "id": "nxamfRIeu5OC",
        "outputId": "4238a799-64f3-457a-8827-3c0cdce78a3e"
      },
      "execution_count": 84,
      "outputs": [
        {
          "output_type": "stream",
          "name": "stdout",
          "text": [
            "+------------------+\n",
            "|pandas_plus_one(c)|\n",
            "+------------------+\n",
            "|      string1hello|\n",
            "|      string2hello|\n",
            "|      string3hello|\n",
            "+------------------+\n",
            "\n"
          ]
        }
      ]
    },
    {
      "cell_type": "code",
      "source": [
        "#Grouping Data\n",
        "df =spark.createDataFrame([\n",
        "  ['red','banana',1,10],['blue','banana',2,20],['red','apple',3,30],\n",
        "  ['blue','grape',4,40],['red','apple',5,50],['black','grape',6,60],\n",
        "  ['red','banana',7,70],['red','grape',8,80],['blue','apple',7,80]], schema=['colour','fruit','v1','v2']\n",
        ")\n",
        "df.show()"
      ],
      "metadata": {
        "colab": {
          "base_uri": "https://localhost:8080/"
        },
        "id": "sDjnmzTmvN5C",
        "outputId": "adb6e998-7dbe-4254-9cfa-56f57d75f261"
      },
      "execution_count": 85,
      "outputs": [
        {
          "output_type": "stream",
          "name": "stdout",
          "text": [
            "+------+------+---+---+\n",
            "|colour| fruit| v1| v2|\n",
            "+------+------+---+---+\n",
            "|   red|banana|  1| 10|\n",
            "|  blue|banana|  2| 20|\n",
            "|   red| apple|  3| 30|\n",
            "|  blue| grape|  4| 40|\n",
            "|   red| apple|  5| 50|\n",
            "| black| grape|  6| 60|\n",
            "|   red|banana|  7| 70|\n",
            "|   red| grape|  8| 80|\n",
            "|  blue| apple|  7| 80|\n",
            "+------+------+---+---+\n",
            "\n"
          ]
        }
      ]
    },
    {
      "cell_type": "code",
      "source": [
        "#Grouping and then applying the avg() function to the resulting grouping\n",
        "df.groupby('colour').avg().show()"
      ],
      "metadata": {
        "colab": {
          "base_uri": "https://localhost:8080/"
        },
        "id": "FVl26nWPw3oB",
        "outputId": "21562507-9019-4d52-f4a2-98d579291430"
      },
      "execution_count": 86,
      "outputs": [
        {
          "output_type": "stream",
          "name": "stdout",
          "text": [
            "+------+-----------------+------------------+\n",
            "|colour|          avg(v1)|           avg(v2)|\n",
            "+------+-----------------+------------------+\n",
            "|   red|              4.8|              48.0|\n",
            "|  blue|4.333333333333333|46.666666666666664|\n",
            "| black|              6.0|              60.0|\n",
            "+------+-----------------+------------------+\n",
            "\n"
          ]
        }
      ]
    },
    {
      "cell_type": "code",
      "source": [
        "df.groupby(\"fruit\").avg().show()"
      ],
      "metadata": {
        "colab": {
          "base_uri": "https://localhost:8080/"
        },
        "id": "6qvs6L2My8pT",
        "outputId": "297a89fb-30c5-4c57-a009-663bafe970ae"
      },
      "execution_count": 87,
      "outputs": [
        {
          "output_type": "stream",
          "name": "stdout",
          "text": [
            "+------+------------------+------------------+\n",
            "| fruit|           avg(v1)|           avg(v2)|\n",
            "+------+------------------+------------------+\n",
            "| grape|               6.0|              60.0|\n",
            "| apple|               5.0|53.333333333333336|\n",
            "|banana|3.3333333333333335|33.333333333333336|\n",
            "+------+------------------+------------------+\n",
            "\n"
          ]
        }
      ]
    },
    {
      "cell_type": "code",
      "source": [
        "#apply a python native function againest each group by using pandas API\n",
        "def pluse_mean(pandas_df):\n",
        "    return pandas_df.assign(v2=pandas_df.v2  - pandas_df.v2.mean()) #for v2 column\n",
        "df.groupby('colour').applyInPandas(pluse_mean , schema=df.schema).show()"
      ],
      "metadata": {
        "colab": {
          "base_uri": "https://localhost:8080/"
        },
        "id": "_ZNWoC1_zVBz",
        "outputId": "687a2804-253f-4f84-a1f0-b65683f1d2bb"
      },
      "execution_count": 90,
      "outputs": [
        {
          "output_type": "stream",
          "name": "stdout",
          "text": [
            "+------+------+---+---+\n",
            "|colour| fruit| v1| v2|\n",
            "+------+------+---+---+\n",
            "| black| grape|  6|  0|\n",
            "|  blue|banana|  2|-26|\n",
            "|  blue| grape|  4| -6|\n",
            "|  blue| apple|  7| 33|\n",
            "|   red|banana|  1|-38|\n",
            "|   red| apple|  3|-18|\n",
            "|   red| apple|  5|  2|\n",
            "|   red|banana|  7| 22|\n",
            "|   red| grape|  8| 32|\n",
            "+------+------+---+---+\n",
            "\n"
          ]
        }
      ]
    },
    {
      "cell_type": "code",
      "source": [
        "#apply a python native function againest each group by using pandas API\n",
        "def pluse_mean(pandas_df):\n",
        "    return pandas_df.assign(v1=pandas_df.v1  - pandas_df.v1.mean()) #for v1 column\n",
        "df.groupby('colour').applyInPandas(pluse_mean , schema=df.schema).show()"
      ],
      "metadata": {
        "colab": {
          "base_uri": "https://localhost:8080/"
        },
        "id": "m3oniX1U0WLH",
        "outputId": "410854a7-5ab7-4bdb-b8b3-e022fd53677e"
      },
      "execution_count": 91,
      "outputs": [
        {
          "output_type": "stream",
          "name": "stdout",
          "text": [
            "+------+------+---+---+\n",
            "|colour| fruit| v1| v2|\n",
            "+------+------+---+---+\n",
            "| black| grape|  0| 60|\n",
            "|  blue|banana| -2| 20|\n",
            "|  blue| grape|  0| 40|\n",
            "|  blue| apple|  2| 80|\n",
            "|   red|banana| -3| 10|\n",
            "|   red| apple| -1| 30|\n",
            "|   red| apple|  0| 50|\n",
            "|   red|banana|  2| 70|\n",
            "|   red| grape|  3| 80|\n",
            "+------+------+---+---+\n",
            "\n"
          ]
        }
      ]
    },
    {
      "cell_type": "code",
      "source": [
        "#Co-grouping and applying function\n",
        "df1 = spark.createDataFrame(\n",
        "    [(20000101, 1, 1.0), (20000101, 2, 2.0), (20000102, 1, 3.0), (20000102, 2, 4.0)],\n",
        "    ('time', 'id', 'v1'))\n",
        "\n",
        "df2 = spark.createDataFrame(\n",
        "    [(20000101, 1, 'x'), (20000101, 2, 'y')],\n",
        "    ('time', 'id', 'v2'))\n",
        "\n",
        "def asof_join(l, r):\n",
        "    return pd.merge_asof(l, r, on='time', by='id')\n",
        "\n",
        "df1.groupby('id').cogroup(df2.groupby('id')).applyInPandas(\n",
        "    asof_join, schema='time int, id int, v1 double, v2 string').show()\n"
      ],
      "metadata": {
        "colab": {
          "base_uri": "https://localhost:8080/"
        },
        "id": "JM8KMZ5O2I2q",
        "outputId": "1a3724a0-8be0-4dc2-bde3-e851f64ebd00"
      },
      "execution_count": 99,
      "outputs": [
        {
          "output_type": "stream",
          "name": "stdout",
          "text": [
            "+--------+---+---+---+\n",
            "|    time| id| v1| v2|\n",
            "+--------+---+---+---+\n",
            "|20000101|  1|1.0|  x|\n",
            "|20000102|  1|3.0|  x|\n",
            "|20000101|  2|2.0|  y|\n",
            "|20000102|  2|4.0|  y|\n",
            "+--------+---+---+---+\n",
            "\n"
          ]
        }
      ]
    },
    {
      "cell_type": "code",
      "source": [
        "#Getting Data in/out\n",
        "#CSV\n",
        "df.write.csv('foo.csv',header=True)\n",
        "spark.read.csv('foo.csv',header=True).show()"
      ],
      "metadata": {
        "colab": {
          "base_uri": "https://localhost:8080/"
        },
        "id": "FGzhvups8xk6",
        "outputId": "6b3c95ea-89a9-4dbc-ec15-f71819631e16"
      },
      "execution_count": 103,
      "outputs": [
        {
          "output_type": "stream",
          "name": "stdout",
          "text": [
            "+------+------+---+---+\n",
            "|colour| fruit| v1| v2|\n",
            "+------+------+---+---+\n",
            "|   red| apple|  5| 50|\n",
            "| black| grape|  6| 60|\n",
            "|   red|banana|  7| 70|\n",
            "|   red| grape|  8| 80|\n",
            "|  blue| apple|  7| 80|\n",
            "|   red|banana|  1| 10|\n",
            "|  blue|banana|  2| 20|\n",
            "|   red| apple|  3| 30|\n",
            "|  blue| grape|  4| 40|\n",
            "+------+------+---+---+\n",
            "\n"
          ]
        }
      ]
    },
    {
      "cell_type": "code",
      "source": [
        "#Parquet\n",
        "df.write.parquet('bar.parquet')\n",
        "spark.read.parquet('bar.parquet').show()"
      ],
      "metadata": {
        "colab": {
          "base_uri": "https://localhost:8080/"
        },
        "id": "u3FTgOrN9wqa",
        "outputId": "10ce0621-84a4-47d5-c680-22c7e51acae1"
      },
      "execution_count": 104,
      "outputs": [
        {
          "output_type": "stream",
          "name": "stdout",
          "text": [
            "+------+------+---+---+\n",
            "|colour| fruit| v1| v2|\n",
            "+------+------+---+---+\n",
            "|   red| apple|  5| 50|\n",
            "| black| grape|  6| 60|\n",
            "|   red|banana|  7| 70|\n",
            "|   red| grape|  8| 80|\n",
            "|  blue| apple|  7| 80|\n",
            "|   red|banana|  1| 10|\n",
            "|  blue|banana|  2| 20|\n",
            "|   red| apple|  3| 30|\n",
            "|  blue| grape|  4| 40|\n",
            "+------+------+---+---+\n",
            "\n"
          ]
        }
      ]
    },
    {
      "cell_type": "code",
      "source": [
        "#ORC\n",
        "df.write.orc('zoo.orc')\n",
        "spark.read.orc('zoo.orc').show()"
      ],
      "metadata": {
        "colab": {
          "base_uri": "https://localhost:8080/"
        },
        "id": "XPDy-jp9-I4K",
        "outputId": "187e39e0-6596-4a9b-845f-2586f9e96846"
      },
      "execution_count": 106,
      "outputs": [
        {
          "output_type": "stream",
          "name": "stdout",
          "text": [
            "+------+------+---+---+\n",
            "|colour| fruit| v1| v2|\n",
            "+------+------+---+---+\n",
            "|   red| apple|  5| 50|\n",
            "| black| grape|  6| 60|\n",
            "|   red|banana|  7| 70|\n",
            "|   red| grape|  8| 80|\n",
            "|  blue| apple|  7| 80|\n",
            "|   red|banana|  1| 10|\n",
            "|  blue|banana|  2| 20|\n",
            "|   red| apple|  3| 30|\n",
            "|  blue| grape|  4| 40|\n",
            "+------+------+---+---+\n",
            "\n"
          ]
        }
      ]
    }
  ]
}